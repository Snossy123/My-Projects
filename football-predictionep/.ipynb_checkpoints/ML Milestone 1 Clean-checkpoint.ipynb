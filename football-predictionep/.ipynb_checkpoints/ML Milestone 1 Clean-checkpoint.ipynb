{
 "cells": [
  {
   "cell_type": "markdown",
   "metadata": {
    "tags": []
   },
   "source": [
    "# Milestone 1 Part 1"
   ]
  },
  {
   "cell_type": "markdown",
   "metadata": {
    "tags": []
   },
   "source": [
    "## `Start PreProcessing`"
   ]
  },
  {
   "cell_type": "markdown",
   "metadata": {
    "incorrectly_encoded_metadata": "jp-MarkdownHeadingCollapsed=true tags=[] jp-MarkdownHeadingCollapsed=true"
   },
   "source": [
    "#### import libraries"
   ]
  },
  {
   "cell_type": "code",
   "execution_count": 1,
   "metadata": {},
   "outputs": [],
   "source": [
    "import numpy as np\n",
    "import pandas as pd \n",
    "import matplotlib.pyplot as plt  \n",
    "from IPython import display"
   ]
  },
  {
   "cell_type": "markdown",
   "metadata": {
    "incorrectly_encoded_metadata": "jp-MarkdownHeadingCollapsed=true tags=[] jp-MarkdownHeadingCollapsed=true"
   },
   "source": [
    "#### Explorality Data Analysis"
   ]
  },
  {
   "cell_type": "code",
   "execution_count": 2,
   "metadata": {},
   "outputs": [
    {
     "data": {
      "text/plain": [
       "(14363, 92)"
      ]
     },
     "execution_count": 2,
     "metadata": {},
     "output_type": "execute_result"
    }
   ],
   "source": [
    "# read data\n",
    "df = pd.read_csv(\"player-value-prediction.csv\")\n",
    "df.shape"
   ]
  },
  {
   "cell_type": "code",
   "execution_count": 4,
   "metadata": {},
   "outputs": [],
   "source": [
    "# df.describe()"
   ]
  },
  {
   "cell_type": "code",
   "execution_count": 5,
   "metadata": {},
   "outputs": [
    {
     "name": "stdout",
     "output_type": "stream",
     "text": [
      "<class 'pandas.core.frame.DataFrame'>\n",
      "RangeIndex: 14363 entries, 0 to 14362\n",
      "Data columns (total 92 columns):\n",
      " #   Column                         Non-Null Count  Dtype  \n",
      "---  ------                         --------------  -----  \n",
      " 0   id                             14363 non-null  int64  \n",
      " 1   name                           14363 non-null  object \n",
      " 2   full_name                      14363 non-null  object \n",
      " 3   birth_date                     14363 non-null  object \n",
      " 4   age                            14363 non-null  int64  \n",
      " 5   height_cm                      14363 non-null  float64\n",
      " 6   weight_kgs                     14363 non-null  float64\n",
      " 7   positions                      14363 non-null  object \n",
      " 8   nationality                    14363 non-null  object \n",
      " 9   overall_rating                 14363 non-null  int64  \n",
      " 10  potential                      14363 non-null  int64  \n",
      " 11  wage                           14172 non-null  float64\n",
      " 12  preferred_foot                 14363 non-null  object \n",
      " 13  international_reputation(1-5)  14363 non-null  int64  \n",
      " 14  weak_foot(1-5)                 14363 non-null  int64  \n",
      " 15  skill_moves(1-5)               14363 non-null  int64  \n",
      " 16  work_rate                      14363 non-null  object \n",
      " 17  body_type                      14363 non-null  object \n",
      " 18  release_clause_euro            12881 non-null  float64\n",
      " 19  club_team                      14351 non-null  object \n",
      " 20  club_rating                    14351 non-null  float64\n",
      " 21  club_position                  14351 non-null  object \n",
      " 22  club_jersey_number             14351 non-null  float64\n",
      " 23  club_join_date                 12798 non-null  object \n",
      " 24  contract_end_year              14076 non-null  object \n",
      " 25  national_team                  688 non-null    object \n",
      " 26  national_rating                688 non-null    float64\n",
      " 27  national_team_position         688 non-null    object \n",
      " 28  national_jersey_number         688 non-null    float64\n",
      " 29  crossing                       14363 non-null  int64  \n",
      " 30  finishing                      14363 non-null  int64  \n",
      " 31  heading_accuracy               14363 non-null  int64  \n",
      " 32  short_passing                  14363 non-null  int64  \n",
      " 33  volleys                        14363 non-null  int64  \n",
      " 34  dribbling                      14363 non-null  int64  \n",
      " 35  curve                          14363 non-null  int64  \n",
      " 36  freekick_accuracy              14363 non-null  int64  \n",
      " 37  long_passing                   14363 non-null  int64  \n",
      " 38  ball_control                   14363 non-null  int64  \n",
      " 39  acceleration                   14363 non-null  int64  \n",
      " 40  sprint_speed                   14363 non-null  int64  \n",
      " 41  agility                        14363 non-null  int64  \n",
      " 42  reactions                      14363 non-null  int64  \n",
      " 43  balance                        14363 non-null  int64  \n",
      " 44  shot_power                     14363 non-null  int64  \n",
      " 45  jumping                        14363 non-null  int64  \n",
      " 46  stamina                        14363 non-null  int64  \n",
      " 47  strength                       14363 non-null  int64  \n",
      " 48  long_shots                     14363 non-null  int64  \n",
      " 49  aggression                     14363 non-null  int64  \n",
      " 50  interceptions                  14363 non-null  int64  \n",
      " 51  positioning                    14363 non-null  int64  \n",
      " 52  vision                         14363 non-null  int64  \n",
      " 53  penalties                      14363 non-null  int64  \n",
      " 54  composure                      14363 non-null  int64  \n",
      " 55  marking                        14363 non-null  int64  \n",
      " 56  standing_tackle                14363 non-null  int64  \n",
      " 57  sliding_tackle                 14363 non-null  int64  \n",
      " 58  GK_diving                      14363 non-null  int64  \n",
      " 59  GK_handling                    14363 non-null  int64  \n",
      " 60  GK_kicking                     14363 non-null  int64  \n",
      " 61  GK_positioning                 14363 non-null  int64  \n",
      " 62  GK_reflexes                    14363 non-null  int64  \n",
      " 63  tags                           1121 non-null   object \n",
      " 64  traits                         6504 non-null   object \n",
      " 65  LS                             12691 non-null  object \n",
      " 66  ST                             12691 non-null  object \n",
      " 67  RS                             12691 non-null  object \n",
      " 68  LW                             12691 non-null  object \n",
      " 69  LF                             12691 non-null  object \n",
      " 70  CF                             12691 non-null  object \n",
      " 71  RF                             12691 non-null  object \n",
      " 72  RW                             12691 non-null  object \n",
      " 73  LAM                            12691 non-null  object \n",
      " 74  CAM                            12691 non-null  object \n",
      " 75  RAM                            12691 non-null  object \n",
      " 76  LM                             12691 non-null  object \n",
      " 77  LCM                            12691 non-null  object \n",
      " 78  CM                             12691 non-null  object \n",
      " 79  RCM                            12691 non-null  object \n",
      " 80  RM                             12691 non-null  object \n",
      " 81  LWB                            12691 non-null  object \n",
      " 82  LDM                            12691 non-null  object \n",
      " 83  CDM                            12691 non-null  object \n",
      " 84  RDM                            12691 non-null  object \n",
      " 85  RWB                            12691 non-null  object \n",
      " 86  LB                             12691 non-null  object \n",
      " 87  LCB                            12691 non-null  object \n",
      " 88  CB                             12691 non-null  object \n",
      " 89  RCB                            12691 non-null  object \n",
      " 90  RB                             12691 non-null  object \n",
      " 91  value                          14165 non-null  float64\n",
      "dtypes: float64(9), int64(41), object(42)\n",
      "memory usage: 10.1+ MB\n"
     ]
    }
   ],
   "source": [
    "df.info()"
   ]
  },
  {
   "cell_type": "markdown",
   "metadata": {
    "incorrectly_encoded_metadata": "tags=[] jp-MarkdownHeadingCollapsed=true"
   },
   "source": [
    "#### Number of Respondents vs. Rows"
   ]
  },
  {
   "cell_type": "code",
   "execution_count": 5,
   "metadata": {},
   "outputs": [],
   "source": [
    "# check Duplicate in data\n",
    "# df.duplicated().sum()"
   ]
  },
  {
   "cell_type": "code",
   "execution_count": 6,
   "metadata": {},
   "outputs": [],
   "source": [
    "# df.id.duplicated().sum()"
   ]
  },
  {
   "cell_type": "markdown",
   "metadata": {
    "incorrectly_encoded_metadata": "tags=[] jp-MarkdownHeadingCollapsed=true"
   },
   "source": [
    "#### Time Stamps"
   ]
  },
  {
   "cell_type": "markdown",
   "metadata": {
    "incorrectly_encoded_metadata": "jp-MarkdownHeadingCollapsed=true",
    "tags": []
   },
   "source": [
    "##### birth_date"
   ]
  },
  {
   "cell_type": "code",
   "execution_count": 7,
   "metadata": {},
   "outputs": [],
   "source": [
    "# df.birth_date.min()"
   ]
  },
  {
   "cell_type": "code",
   "execution_count": 8,
   "metadata": {},
   "outputs": [],
   "source": [
    "# df.birth_date.max()"
   ]
  },
  {
   "cell_type": "code",
   "execution_count": 9,
   "metadata": {},
   "outputs": [],
   "source": [
    "# df.dtypes"
   ]
  },
  {
   "cell_type": "code",
   "execution_count": 10,
   "metadata": {},
   "outputs": [],
   "source": [
    "df['birth_date'] = df['birth_date'].astype('datetime64[ns]')\n",
    "# df.dtypes"
   ]
  },
  {
   "cell_type": "markdown",
   "metadata": {
    "incorrectly_encoded_metadata": "tags=[] jp-MarkdownHeadingCollapsed=true"
   },
   "source": [
    "##### club_join_date"
   ]
  },
  {
   "cell_type": "code",
   "execution_count": 11,
   "metadata": {},
   "outputs": [],
   "source": [
    "# df.club_join_date.value_counts()"
   ]
  },
  {
   "cell_type": "code",
   "execution_count": 12,
   "metadata": {},
   "outputs": [],
   "source": [
    "df['club_join_date'] = df['club_join_date'].astype('datetime64[ns]')\n",
    "# df.club_join_date.dtypes"
   ]
  },
  {
   "cell_type": "code",
   "execution_count": 13,
   "metadata": {},
   "outputs": [],
   "source": [
    "# df.club_join_date.value_counts()"
   ]
  },
  {
   "cell_type": "code",
   "execution_count": 14,
   "metadata": {},
   "outputs": [],
   "source": [
    "# df.club_join_date.min()"
   ]
  },
  {
   "cell_type": "code",
   "execution_count": 15,
   "metadata": {},
   "outputs": [],
   "source": [
    "# df.club_join_date.max()"
   ]
  },
  {
   "cell_type": "code",
   "execution_count": 16,
   "metadata": {},
   "outputs": [],
   "source": [
    "# df.club_join_date.isna().sum()"
   ]
  },
  {
   "cell_type": "code",
   "execution_count": 17,
   "metadata": {},
   "outputs": [],
   "source": [
    "df.club_join_date = df.club_join_date.dt.year\n",
    "# df.club_join_date"
   ]
  },
  {
   "cell_type": "code",
   "execution_count": 18,
   "metadata": {},
   "outputs": [],
   "source": [
    "df.club_join_date.fillna(value = df.club_join_date.mean(), inplace=True)\n",
    "# df.club_join_date.isna().sum()"
   ]
  },
  {
   "cell_type": "code",
   "execution_count": 19,
   "metadata": {},
   "outputs": [],
   "source": [
    "# df.club_join_date"
   ]
  },
  {
   "cell_type": "markdown",
   "metadata": {
    "incorrectly_encoded_metadata": "tags=[] jp-MarkdownHeadingCollapsed=true"
   },
   "source": [
    "##### contract_end_year"
   ]
  },
  {
   "cell_type": "code",
   "execution_count": 20,
   "metadata": {},
   "outputs": [],
   "source": [
    "# df.contract_end_year.value_counts()"
   ]
  },
  {
   "cell_type": "code",
   "execution_count": 21,
   "metadata": {},
   "outputs": [],
   "source": [
    "# df.contract_end_year.isna().sum()"
   ]
  },
  {
   "cell_type": "code",
   "execution_count": 22,
   "metadata": {},
   "outputs": [],
   "source": [
    "df['contract_end_year'] = df['contract_end_year'].astype('datetime64[ns]')\n",
    "# df['contract_end_year'].dtypes"
   ]
  },
  {
   "cell_type": "code",
   "execution_count": 23,
   "metadata": {},
   "outputs": [],
   "source": [
    "df.contract_end_year = df.contract_end_year.dt.year\n",
    "# df.contract_end_year"
   ]
  },
  {
   "cell_type": "code",
   "execution_count": 24,
   "metadata": {},
   "outputs": [],
   "source": [
    "df.contract_end_year.fillna(value = df.contract_end_year.mean(), inplace=True)\n",
    "# df.contract_end_year.isna().sum()"
   ]
  },
  {
   "cell_type": "markdown",
   "metadata": {
    "incorrectly_encoded_metadata": "jp-MarkdownHeadingCollapsed=true",
    "tags": []
   },
   "source": [
    "##### contract_duration"
   ]
  },
  {
   "cell_type": "code",
   "execution_count": 25,
   "metadata": {},
   "outputs": [
    {
     "data": {
      "text/plain": [
       "0         2\n",
       "1         0\n",
       "2         3\n",
       "3         8\n",
       "4         3\n",
       "         ..\n",
       "14358     5\n",
       "14359     1\n",
       "14360    10\n",
       "14361     1\n",
       "14362     2\n",
       "Name: contract_duration, Length: 14363, dtype: int32"
      ]
     },
     "execution_count": 25,
     "metadata": {},
     "output_type": "execute_result"
    }
   ],
   "source": [
    "contract = df[['contract_end_year', 'club_join_date']]\n",
    "# print(contract)\n",
    "# df['contract_duration'] = contract.apply(lambda x: x[0] - x[1], axis = 1)\n",
    "df.insert(len(df.columns)-1, \"contract_duration\", contract.apply(lambda x: x[0] - x[1], axis = 1), True)\n",
    "df['contract_duration'].astype('int')\n",
    "# df['contract_duration']"
   ]
  },
  {
   "cell_type": "code",
   "execution_count": 26,
   "metadata": {},
   "outputs": [],
   "source": [
    "df = df.drop(labels = ['contract_end_year', 'club_join_date'], axis=1) \n",
    "# df.head(5)"
   ]
  },
  {
   "cell_type": "markdown",
   "metadata": {
    "incorrectly_encoded_metadata": "tags=[] jp-MarkdownHeadingCollapsed=true",
    "tags": []
   },
   "source": [
    "#### Identify correct question types for each Category | Text columns & Check for Consistency & Check Nan"
   ]
  },
  {
   "cell_type": "markdown",
   "metadata": {},
   "source": [
    "##### Inconsistent Categorical"
   ]
  },
  {
   "cell_type": "markdown",
   "metadata": {
    "incorrectly_encoded_metadata": "tags=[] jp-MarkdownHeadingCollapsed=true"
   },
   "source": [
    "##### positions"
   ]
  },
  {
   "cell_type": "code",
   "execution_count": 27,
   "metadata": {},
   "outputs": [],
   "source": [
    "# display.Image(r'playing-positions.jpg')"
   ]
  },
  {
   "cell_type": "code",
   "execution_count": 28,
   "metadata": {},
   "outputs": [],
   "source": [
    "df.positions = df.positions.astype(str)\n",
    "# df.positions"
   ]
  },
  {
   "cell_type": "code",
   "execution_count": 29,
   "metadata": {},
   "outputs": [],
   "source": [
    "# df.positions.value_counts() \n",
    "# df.positions.unique()"
   ]
  },
  {
   "cell_type": "code",
   "execution_count": 30,
   "metadata": {},
   "outputs": [],
   "source": [
    "# df.positions.value_counts() "
   ]
  },
  {
   "cell_type": "code",
   "execution_count": 31,
   "metadata": {},
   "outputs": [],
   "source": [
    "# df.positions.isna().sum()"
   ]
  },
  {
   "cell_type": "markdown",
   "metadata": {
    "incorrectly_encoded_metadata": "tags=[] jp-MarkdownHeadingCollapsed=true"
   },
   "source": [
    "##### nationality"
   ]
  },
  {
   "cell_type": "code",
   "execution_count": 32,
   "metadata": {},
   "outputs": [],
   "source": [
    "# df.nationality.value_counts()"
   ]
  },
  {
   "cell_type": "code",
   "execution_count": 33,
   "metadata": {},
   "outputs": [],
   "source": [
    "# df.nationality.isna().sum()"
   ]
  },
  {
   "cell_type": "markdown",
   "metadata": {
    "incorrectly_encoded_metadata": "tags=[] jp-MarkdownHeadingCollapsed=true"
   },
   "source": [
    "##### preferred_foot"
   ]
  },
  {
   "cell_type": "code",
   "execution_count": 34,
   "metadata": {},
   "outputs": [],
   "source": [
    "# df.preferred_foot.value_counts()"
   ]
  },
  {
   "cell_type": "code",
   "execution_count": 35,
   "metadata": {},
   "outputs": [],
   "source": [
    "# df.preferred_foot.isna().sum()"
   ]
  },
  {
   "cell_type": "markdown",
   "metadata": {
    "incorrectly_encoded_metadata": "tags=[] jp-MarkdownHeadingCollapsed=true"
   },
   "source": [
    "##### work_rate"
   ]
  },
  {
   "cell_type": "code",
   "execution_count": 36,
   "metadata": {},
   "outputs": [],
   "source": [
    "# df.work_rate.value_counts()"
   ]
  },
  {
   "cell_type": "code",
   "execution_count": 37,
   "metadata": {},
   "outputs": [],
   "source": [
    "# df.work_rate.isna().sum()"
   ]
  },
  {
   "cell_type": "markdown",
   "metadata": {
    "incorrectly_encoded_metadata": "tags=[] jp-MarkdownHeadingCollapsed=true"
   },
   "source": [
    "##### body_type"
   ]
  },
  {
   "cell_type": "code",
   "execution_count": 38,
   "metadata": {},
   "outputs": [],
   "source": [
    "body_type = dict(df.body_type.value_counts())\n",
    "# df.body_type.value_counts()"
   ]
  },
  {
   "cell_type": "code",
   "execution_count": 39,
   "metadata": {},
   "outputs": [],
   "source": [
    "# in col body type we found inconsistent Body type\n",
    "inconsistent = [key for key, val in body_type.items() if val == 1]\n",
    "# inconsistent"
   ]
  },
  {
   "cell_type": "code",
   "execution_count": 40,
   "metadata": {},
   "outputs": [],
   "source": [
    "df=df[~df.body_type.isin(inconsistent)]\n",
    "# df.body_type.value_counts()"
   ]
  },
  {
   "cell_type": "code",
   "execution_count": 41,
   "metadata": {},
   "outputs": [],
   "source": [
    "# df.body_type.isna().sum()"
   ]
  },
  {
   "cell_type": "markdown",
   "metadata": {
    "incorrectly_encoded_metadata": "jp-MarkdownHeadingCollapsed=true",
    "tags": []
   },
   "source": [
    "##### club_team"
   ]
  },
  {
   "cell_type": "code",
   "execution_count": 42,
   "metadata": {},
   "outputs": [],
   "source": [
    "# df.club_team.value_counts()"
   ]
  },
  {
   "cell_type": "code",
   "execution_count": 43,
   "metadata": {},
   "outputs": [],
   "source": [
    "# in col body type we found inconsistent data\n",
    "club_team = dict(df.club_team.value_counts())\n",
    "inconsistent = [key for key, val in club_team.items() if val < 13]\n",
    "# inconsistent"
   ]
  },
  {
   "cell_type": "code",
   "execution_count": 44,
   "metadata": {},
   "outputs": [],
   "source": [
    "df=df[~df.club_team.isin(inconsistent)]\n",
    "# df.club_team.value_counts()"
   ]
  },
  {
   "cell_type": "code",
   "execution_count": 45,
   "metadata": {},
   "outputs": [],
   "source": [
    "# df.club_team.value_counts()[:20]"
   ]
  },
  {
   "cell_type": "code",
   "execution_count": 46,
   "metadata": {},
   "outputs": [],
   "source": [
    "# df.club_team.value_counts()[50:70]"
   ]
  },
  {
   "cell_type": "code",
   "execution_count": 47,
   "metadata": {},
   "outputs": [],
   "source": [
    "# df.club_team.value_counts()[-20:]"
   ]
  },
  {
   "cell_type": "code",
   "execution_count": 48,
   "metadata": {},
   "outputs": [],
   "source": [
    "inconsistent = ['South Africa', 'Paraguay']\n",
    "df=df[~df.club_team.isin(inconsistent)]\n",
    "# df.club_team.value_counts()"
   ]
  },
  {
   "cell_type": "code",
   "execution_count": 49,
   "metadata": {},
   "outputs": [],
   "source": [
    "df.club_team.fillna(value= df.club_team.value_counts().index[0], inplace=True)"
   ]
  },
  {
   "cell_type": "code",
   "execution_count": 50,
   "metadata": {},
   "outputs": [],
   "source": [
    "# df.club_team.isna().sum()"
   ]
  },
  {
   "cell_type": "code",
   "execution_count": 51,
   "metadata": {},
   "outputs": [],
   "source": [
    "# df.club_team.value_counts().index[0]"
   ]
  },
  {
   "cell_type": "markdown",
   "metadata": {
    "incorrectly_encoded_metadata": "jp-MarkdownHeadingCollapsed=true",
    "tags": []
   },
   "source": [
    "##### national_team"
   ]
  },
  {
   "cell_type": "code",
   "execution_count": 52,
   "metadata": {},
   "outputs": [],
   "source": [
    "# df.national_team.value_counts()[38:]\n",
    "# df.national_team.unique()"
   ]
  },
  {
   "cell_type": "code",
   "execution_count": 53,
   "metadata": {},
   "outputs": [],
   "source": [
    "# in col body type we found inconsistent data\n",
    "national_team = dict(df.national_team.value_counts())\n",
    "inconsistent = [key for key, val in national_team.items() if val < 4]\n",
    "# inconsistent"
   ]
  },
  {
   "cell_type": "code",
   "execution_count": 54,
   "metadata": {},
   "outputs": [],
   "source": [
    "df=df[~df.national_team.isin(inconsistent)]\n",
    "# df.national_team.value_counts()"
   ]
  },
  {
   "cell_type": "code",
   "execution_count": 55,
   "metadata": {},
   "outputs": [],
   "source": [
    "inconsistent = ['FC Porto', 'Club América', 'BSC Young Boys', 'Pachuca', 'Sporting CP', 'Cruz Azul']\n",
    "df=df[~df.national_team.isin(inconsistent)]\n",
    "# df.national_team.value_counts()"
   ]
  },
  {
   "cell_type": "code",
   "execution_count": 56,
   "metadata": {},
   "outputs": [],
   "source": [
    "# here is 10758 nan\n",
    "# df.national_team.isna().sum()"
   ]
  },
  {
   "cell_type": "code",
   "execution_count": 57,
   "metadata": {},
   "outputs": [],
   "source": [
    "df.national_team.fillna(value= df.national_team.value_counts().index[0], inplace=True)"
   ]
  },
  {
   "cell_type": "code",
   "execution_count": 58,
   "metadata": {},
   "outputs": [],
   "source": [
    "# df.national_team.isna().sum()"
   ]
  },
  {
   "cell_type": "code",
   "execution_count": 59,
   "metadata": {},
   "outputs": [],
   "source": [
    "# df.national_team_position = df.national_team_position.astype(str)\n",
    "# df.national_team_position"
   ]
  },
  {
   "cell_type": "code",
   "execution_count": 60,
   "metadata": {
    "lines_to_next_cell": 2
   },
   "outputs": [],
   "source": [
    "# df.national_team_position.value_counts()"
   ]
  },
  {
   "cell_type": "code",
   "execution_count": 61,
   "metadata": {},
   "outputs": [],
   "source": [
    "df.national_team_position.fillna(value= df.national_team_position.value_counts().index[0], inplace=True)"
   ]
  },
  {
   "cell_type": "code",
   "execution_count": 62,
   "metadata": {},
   "outputs": [],
   "source": [
    "# here is 10758 nan\n",
    "# df.national_team_position.isna().sum()"
   ]
  },
  {
   "cell_type": "markdown",
   "metadata": {
    "incorrectly_encoded_metadata": "jp-MarkdownHeadingCollapsed=true",
    "tags": []
   },
   "source": [
    "##### Tags"
   ]
  },
  {
   "cell_type": "code",
   "execution_count": 63,
   "metadata": {},
   "outputs": [],
   "source": [
    "# here is 10258 nan\n",
    "# df.tags.value_counts()\n",
    "# df.tags.isna().sum()"
   ]
  },
  {
   "cell_type": "markdown",
   "metadata": {
    "incorrectly_encoded_metadata": "tags=[] jp-MarkdownHeadingCollapsed=true"
   },
   "source": [
    "##### traits"
   ]
  },
  {
   "cell_type": "code",
   "execution_count": 64,
   "metadata": {},
   "outputs": [],
   "source": [
    "# here is 10258 nan\n",
    "# df.traits.value_counts()\n",
    "# df.tags.isna().sum()"
   ]
  },
  {
   "cell_type": "markdown",
   "metadata": {
    "incorrectly_encoded_metadata": "jp-MarkdownHeadingCollapsed=true",
    "tags": []
   },
   "source": [
    "##### club_position"
   ]
  },
  {
   "cell_type": "code",
   "execution_count": 65,
   "metadata": {},
   "outputs": [],
   "source": [
    "# df.club_position.isna().sum()"
   ]
  },
  {
   "cell_type": "code",
   "execution_count": 66,
   "metadata": {},
   "outputs": [],
   "source": [
    "df.club_position.fillna(value= df.club_position.value_counts().index[0], inplace=True)"
   ]
  },
  {
   "cell_type": "markdown",
   "metadata": {
    "incorrectly_encoded_metadata": "jp-MarkdownHeadingCollapsed=true",
    "tags": []
   },
   "source": [
    "##### national_team_position"
   ]
  },
  {
   "cell_type": "code",
   "execution_count": 67,
   "metadata": {},
   "outputs": [],
   "source": [
    "# df.national_team_position.isna().sum()"
   ]
  },
  {
   "cell_type": "markdown",
   "metadata": {
    "incorrectly_encoded_metadata": "tags=[] jp-MarkdownHeadingCollapsed=true jp-MarkdownHeadingCollapsed=true",
    "tags": []
   },
   "source": [
    "#### Numeric Check Nan and Replace It with Mean"
   ]
  },
  {
   "cell_type": "code",
   "execution_count": 68,
   "metadata": {},
   "outputs": [],
   "source": [
    "# age\n",
    "# df.age.isna().sum()"
   ]
  },
  {
   "cell_type": "code",
   "execution_count": 69,
   "metadata": {},
   "outputs": [],
   "source": [
    "# height\n",
    "# df.height_cm.isna().sum()"
   ]
  },
  {
   "cell_type": "code",
   "execution_count": 70,
   "metadata": {},
   "outputs": [],
   "source": [
    "# weight\n",
    "# df.weight_kgs.isna().sum()"
   ]
  },
  {
   "cell_type": "code",
   "execution_count": 71,
   "metadata": {},
   "outputs": [],
   "source": [
    "# overall\n",
    "# df.overall_rating.isna().sum()"
   ]
  },
  {
   "cell_type": "code",
   "execution_count": 72,
   "metadata": {},
   "outputs": [],
   "source": [
    "# potentail\n",
    "# df.potential.isna().sum()"
   ]
  },
  {
   "cell_type": "code",
   "execution_count": 73,
   "metadata": {},
   "outputs": [],
   "source": [
    "# wage\n",
    "df.wage.fillna(value= df.wage.mean(), inplace=True)"
   ]
  },
  {
   "cell_type": "code",
   "execution_count": 74,
   "metadata": {},
   "outputs": [],
   "source": [
    "# df.wage.isna().sum()"
   ]
  },
  {
   "cell_type": "code",
   "execution_count": 75,
   "metadata": {},
   "outputs": [],
   "source": [
    "# df.wage.value_counts()"
   ]
  },
  {
   "cell_type": "code",
   "execution_count": 76,
   "metadata": {},
   "outputs": [],
   "source": [
    "# international_reputation(1-5)\n",
    "# df['international_reputation(1-5)'].isna().sum()"
   ]
  },
  {
   "cell_type": "code",
   "execution_count": 77,
   "metadata": {},
   "outputs": [],
   "source": [
    "# weak_foot(1-5)\n",
    "# df['weak_foot(1-5)'].isna().sum()"
   ]
  },
  {
   "cell_type": "code",
   "execution_count": 78,
   "metadata": {},
   "outputs": [],
   "source": [
    "# skill_moves(1-5)\n",
    "# df['skill_moves(1-5)'].isna().sum()"
   ]
  },
  {
   "cell_type": "code",
   "execution_count": 79,
   "metadata": {},
   "outputs": [],
   "source": [
    "# release_clause_euro\n",
    "# df['release_clause_euro'].isna().sum()"
   ]
  },
  {
   "cell_type": "code",
   "execution_count": 80,
   "metadata": {},
   "outputs": [],
   "source": [
    "df.release_clause_euro.fillna(value= df.release_clause_euro.mean(), inplace=True)\n",
    "# df['release_clause_euro']"
   ]
  },
  {
   "cell_type": "code",
   "execution_count": 81,
   "metadata": {},
   "outputs": [],
   "source": [
    "# club_rating\n",
    "# df['club_rating'].isna().sum()"
   ]
  },
  {
   "cell_type": "code",
   "execution_count": 82,
   "metadata": {},
   "outputs": [],
   "source": [
    "# club_jersey_number\n",
    "# df['club_jersey_number'].isna().sum()"
   ]
  },
  {
   "cell_type": "code",
   "execution_count": 83,
   "metadata": {},
   "outputs": [],
   "source": [
    "# club_jersey_number\n",
    "# df['club_jersey_number'].isna().sum()"
   ]
  },
  {
   "cell_type": "markdown",
   "metadata": {},
   "source": [
    "`I don't remove here null or not Bacuase These Columns will delete`"
   ]
  },
  {
   "cell_type": "code",
   "execution_count": 84,
   "metadata": {},
   "outputs": [],
   "source": [
    "# national_rating\n",
    "# df['national_rating'].isna().sum()"
   ]
  },
  {
   "cell_type": "code",
   "execution_count": 85,
   "metadata": {},
   "outputs": [],
   "source": [
    "# national_jersey_number\n",
    "# df['national_rating'].isna().sum()"
   ]
  },
  {
   "cell_type": "markdown",
   "metadata": {},
   "source": [
    "`untill here`"
   ]
  },
  {
   "cell_type": "code",
   "execution_count": 86,
   "metadata": {},
   "outputs": [],
   "source": [
    "# crossing\n",
    "# df['crossing'].isna().sum()"
   ]
  },
  {
   "cell_type": "code",
   "execution_count": 135,
   "metadata": {},
   "outputs": [],
   "source": [
    "# for index, col in enumerate(df.columns):\n",
    "#     print(\"index: \", index, \" col: \", col)"
   ]
  },
  {
   "cell_type": "code",
   "execution_count": 88,
   "metadata": {},
   "outputs": [],
   "source": [
    "# df.isna().sum()[29:63]"
   ]
  },
  {
   "cell_type": "code",
   "execution_count": 89,
   "metadata": {
    "lines_to_next_cell": 2
   },
   "outputs": [],
   "source": [
    "# tags & traits  not important\n",
    "# df.isna().sum()[61:63]"
   ]
  },
  {
   "cell_type": "markdown",
   "metadata": {
    "incorrectly_encoded_metadata": "jp-MarkdownHeadingCollapsed=true",
    "tags": []
   },
   "source": [
    "#### Powers of Player In each Position"
   ]
  },
  {
   "cell_type": "code",
   "execution_count": 90,
   "metadata": {},
   "outputs": [],
   "source": [
    "# df.isna().sum()[63:-2]"
   ]
  },
  {
   "cell_type": "code",
   "execution_count": 91,
   "metadata": {},
   "outputs": [],
   "source": [
    "for i in range(63,90):\n",
    "    df.iloc[:,i].fillna(value= df.iloc[:,i].value_counts().index[0], inplace=True)\n",
    "# df.isna().sum()[63:-2]"
   ]
  },
  {
   "cell_type": "markdown",
   "metadata": {
    "incorrectly_encoded_metadata": "jp-MarkdownHeadingCollapsed=true",
    "tags": []
   },
   "source": [
    "#### Value Column "
   ]
  },
  {
   "cell_type": "code",
   "execution_count": 92,
   "metadata": {},
   "outputs": [],
   "source": [
    "# df.value.isna().sum()"
   ]
  },
  {
   "cell_type": "code",
   "execution_count": 93,
   "metadata": {},
   "outputs": [],
   "source": [
    "df.value.fillna(value= df.value.mean(), inplace=True)"
   ]
  },
  {
   "cell_type": "code",
   "execution_count": 94,
   "metadata": {},
   "outputs": [],
   "source": [
    "# df.value.isna().sum()"
   ]
  },
  {
   "cell_type": "code",
   "execution_count": 95,
   "metadata": {},
   "outputs": [],
   "source": [
    "# dict(df.value.value_counts())"
   ]
  },
  {
   "cell_type": "markdown",
   "metadata": {
    "incorrectly_encoded_metadata": "jp-MarkdownHeadingCollapsed=true tags=[] jp-MarkdownHeadingCollapsed=true"
   },
   "source": [
    "#### Fill Nan"
   ]
  },
  {
   "cell_type": "code",
   "execution_count": 96,
   "metadata": {},
   "outputs": [],
   "source": [
    "# df.isna().sum()"
   ]
  },
  {
   "cell_type": "markdown",
   "metadata": {
    "incorrectly_encoded_metadata": "jp-MarkdownHeadingCollapsed=true tags=[] jp-MarkdownHeadingCollapsed=true"
   },
   "source": [
    "#### Independent and Dependent Variables"
   ]
  },
  {
   "cell_type": "code",
   "execution_count": 97,
   "metadata": {},
   "outputs": [],
   "source": [
    "def solve(row, cols):\n",
    "    # print(row)\n",
    "    row[0:2].astype(str)\n",
    "    positions = (','.join(row[0:2])).split(',')\n",
    "    for pow in range(2,len(row[2:])+2):\n",
    "        flag = False\n",
    "        for pos in positions:\n",
    "            if cols[pow] == pos:\n",
    "                flag = True\n",
    "                break\n",
    "        if flag:\n",
    "            values = row[pow].split('+')\n",
    "            res = int(values[0]) + int(values[1])\n",
    "            row[pow] = str(res)\n",
    "        else:\n",
    "            values = row[pow].split('+') \n",
    "            row[pow] = values[0]\n",
    "    return row    "
   ]
  },
  {
   "cell_type": "code",
   "execution_count": 98,
   "metadata": {},
   "outputs": [],
   "source": [
    "cols = ['club_position', 'national_team_position',\n",
    "        'LS', 'ST', 'RS', 'LW', 'LF', 'CF',\n",
    "        'RF', 'RW', 'LAM', 'CAM', 'RAM', 'LM',\n",
    "        'LCM', 'CM', 'RCM', 'RM', 'LWB', 'LDM',\n",
    "        'CDM', 'RDM', 'RWB', 'LB', 'LCB', 'CB', 'RCB', 'RB']\n",
    " \n",
    "df[cols] =  df[cols].apply(solve, args=(cols,), axis=1)"
   ]
  },
  {
   "cell_type": "code",
   "execution_count": 99,
   "metadata": {},
   "outputs": [],
   "source": [
    "# df"
   ]
  },
  {
   "cell_type": "code",
   "execution_count": 100,
   "metadata": {},
   "outputs": [],
   "source": [
    "# df.info()"
   ]
  },
  {
   "cell_type": "markdown",
   "metadata": {},
   "source": [
    "##### Convert Columns Type"
   ]
  },
  {
   "cell_type": "code",
   "execution_count": 101,
   "metadata": {},
   "outputs": [],
   "source": [
    "# convert columns Type \n",
    "df.iloc[:,63:-2] = df.iloc[:,63:-2].astype('int')\n",
    "# df.RWB"
   ]
  },
  {
   "cell_type": "markdown",
   "metadata": {
    "incorrectly_encoded_metadata": "jp-MarkdownHeadingCollapsed=true tags=[] jp-MarkdownHeadingCollapsed=true"
   },
   "source": [
    "#### drop Columns Not Important"
   ]
  },
  {
   "cell_type": "code",
   "execution_count": 102,
   "metadata": {},
   "outputs": [],
   "source": [
    "drop_cols = ['id', 'name', 'full_name', 'birth_date', 'positions', 'nationality', \n",
    "             'club_team', 'club_position', 'club_jersey_number', 'national_team',\n",
    "             'national_rating', 'national_team_position',\n",
    "             'national_jersey_number', 'tags', 'traits']\n",
    "# df[drop_cols]\n",
    "df = df.drop(labels=drop_cols, axis=1)\n",
    "# df.columns"
   ]
  },
  {
   "cell_type": "code",
   "execution_count": 103,
   "metadata": {},
   "outputs": [],
   "source": [
    "# df.columns[:17]"
   ]
  },
  {
   "cell_type": "code",
   "execution_count": 104,
   "metadata": {},
   "outputs": [],
   "source": [
    "# df.iloc[:,:17]"
   ]
  },
  {
   "cell_type": "markdown",
   "metadata": {
    "incorrectly_encoded_metadata": "jp-MarkdownHeadingCollapsed=true tags=[] jp-MarkdownHeadingCollapsed=true"
   },
   "source": [
    "#### Feature Encoding"
   ]
  },
  {
   "cell_type": "code",
   "execution_count": 105,
   "metadata": {},
   "outputs": [],
   "source": [
    "# preferred_foot\n",
    "df.preferred_foot = [1 if i == 'Right' else 0 for i in df.preferred_foot]"
   ]
  },
  {
   "cell_type": "code",
   "execution_count": 106,
   "metadata": {},
   "outputs": [],
   "source": [
    "# df.preferred_foot.value_counts()"
   ]
  },
  {
   "cell_type": "code",
   "execution_count": 107,
   "metadata": {},
   "outputs": [],
   "source": [
    "# df.iloc[:,:17]"
   ]
  },
  {
   "cell_type": "code",
   "execution_count": 108,
   "metadata": {},
   "outputs": [],
   "source": [
    "# df.work_rate.value_counts()"
   ]
  },
  {
   "cell_type": "code",
   "execution_count": 109,
   "metadata": {},
   "outputs": [],
   "source": [
    "# df.body_type.value_counts()"
   ]
  },
  {
   "cell_type": "code",
   "execution_count": 110,
   "metadata": {},
   "outputs": [],
   "source": [
    "X = df.iloc[:, :-1]\n",
    "y = df.iloc[:, -1]"
   ]
  },
  {
   "cell_type": "code",
   "execution_count": 111,
   "metadata": {},
   "outputs": [],
   "source": [
    "# X"
   ]
  },
  {
   "cell_type": "code",
   "execution_count": 112,
   "metadata": {},
   "outputs": [],
   "source": [
    "# y"
   ]
  },
  {
   "cell_type": "code",
   "execution_count": 113,
   "metadata": {},
   "outputs": [],
   "source": [
    "# display.Image('player bio.jpg')"
   ]
  },
  {
   "cell_type": "code",
   "execution_count": 114,
   "metadata": {},
   "outputs": [],
   "source": [
    "dic_work_rate = {'High':2,'Medium':1,'Low':0}"
   ]
  },
  {
   "cell_type": "code",
   "execution_count": 115,
   "metadata": {},
   "outputs": [],
   "source": [
    "def WRA(i):\n",
    "    i = i.split('/ ')\n",
    "    return dic_work_rate[i[0]]\n",
    "def WRD(i):\n",
    "    i = i.split('/ ')\n",
    "    return dic_work_rate[i[1]]"
   ]
  },
  {
   "cell_type": "code",
   "execution_count": 116,
   "metadata": {},
   "outputs": [],
   "source": [
    "X['Wark Rate Attcking'] = [WRA(i) for i in df.work_rate]"
   ]
  },
  {
   "cell_type": "code",
   "execution_count": 117,
   "metadata": {},
   "outputs": [],
   "source": [
    "X['Wark Rate Detensivel'] = [WRD(i) for i in df.work_rate]"
   ]
  },
  {
   "cell_type": "code",
   "execution_count": 118,
   "metadata": {},
   "outputs": [],
   "source": [
    "# X.iloc[:,-3:][:4]"
   ]
  },
  {
   "cell_type": "code",
   "execution_count": 119,
   "metadata": {},
   "outputs": [],
   "source": [
    "# X.work_rate[:4]"
   ]
  },
  {
   "cell_type": "code",
   "execution_count": 120,
   "metadata": {},
   "outputs": [],
   "source": [
    "X = X.drop(labels='work_rate', axis=1)"
   ]
  },
  {
   "cell_type": "code",
   "execution_count": 121,
   "metadata": {},
   "outputs": [],
   "source": [
    "# X.iloc[:,:13]"
   ]
  },
  {
   "cell_type": "code",
   "execution_count": 122,
   "metadata": {},
   "outputs": [],
   "source": [
    "# display.Image(\"body type 2.jpg\")\n",
    "# df.body_type.value_counts()"
   ]
  },
  {
   "cell_type": "code",
   "execution_count": 123,
   "metadata": {},
   "outputs": [],
   "source": [
    "# display.Image(\"body type.jpg\")"
   ]
  },
  {
   "cell_type": "code",
   "execution_count": 124,
   "metadata": {},
   "outputs": [],
   "source": [
    "# X = pd.get_dummies(X)\n",
    "def BT(k, i):\n",
    "    i = i.split('_')\n",
    "    if k == i[2]:\n",
    "        k = 1\n",
    "    else:\n",
    "        k = 0\n",
    "    return k\n",
    "\n",
    "body_type_cols = ['body_type_Lean', 'body_type_Normal', 'body_type_Stocky']\n",
    "for i in body_type_cols:\n",
    "    X[i] = [BT(k, i) for k in df.body_type]\n",
    "X = X.drop(labels = 'body_type', axis = 1)"
   ]
  },
  {
   "cell_type": "markdown",
   "metadata": {},
   "source": [
    "## Remove outliers"
   ]
  },
  {
   "cell_type": "code",
   "execution_count": null,
   "metadata": {},
   "outputs": [],
   "source": [
    "new_df = []\n",
    "# print(data.columns)\n",
    "for col in X.columns:\n",
    "    ''' Detection '''\n",
    "    # IQR\n",
    "    Q1 = np.percentile(data[col], 25,\n",
    "                       interpolation = 'midpoint')\n",
    "\n",
    "    Q3 = np.percentile(data[col], 75,\n",
    "                       interpolation = 'midpoint')\n",
    "    # print(Q1)\n",
    "    # print(Q3)\n",
    "    IQR = Q3 - Q1\n",
    "    # print(\"Old Shape: \", data.shape)\n",
    "    # print(IQR)\n",
    "    # # Upper bound\n",
    "    # upper = np.where(data.wage >= (Q3+1.5*IQR))\n",
    "    upper = (Q3+1.5*IQR)\n",
    "    lower = (Q1-1.5*IQR) \n",
    "    f = list(data[col]) \n",
    "    for i in range(len(f)):\n",
    "        if f[i] >= upper:\n",
    "            f[i]=Q3\n",
    "        elif f[i] <= lower:\n",
    "            f[i]=Q1\n",
    "    new_df.append(f)"
   ]
  },
  {
   "cell_type": "code",
   "execution_count": null,
   "metadata": {},
   "outputs": [],
   "source": [
    "i = 0\n",
    "for col in data.columns:\n",
    "    X[col] = new_df[i]\n",
    "    i += 1 "
   ]
  },
  {
   "cell_type": "code",
   "execution_count": 125,
   "metadata": {},
   "outputs": [],
   "source": [
    "# X.iloc[:,:][:4]"
   ]
  },
  {
   "cell_type": "code",
   "execution_count": 126,
   "metadata": {},
   "outputs": [],
   "source": [
    "# X.columns"
   ]
  },
  {
   "cell_type": "code",
   "execution_count": 127,
   "metadata": {},
   "outputs": [],
   "source": [
    "# X.isna().sum()[:20]"
   ]
  },
  {
   "cell_type": "code",
   "execution_count": 128,
   "metadata": {},
   "outputs": [],
   "source": [
    "# X.isna().sum()[20:]"
   ]
  },
  {
   "cell_type": "markdown",
   "metadata": {
    "incorrectly_encoded_metadata": "jp-MarkdownHeadingCollapsed=true tags=[] jp-MarkdownHeadingCollapsed=true"
   },
   "source": [
    "#### Save Data Cleaned"
   ]
  },
  {
   "cell_type": "code",
   "execution_count": 129,
   "metadata": {},
   "outputs": [],
   "source": [
    "# X"
   ]
  },
  {
   "cell_type": "code",
   "execution_count": 130,
   "metadata": {},
   "outputs": [],
   "source": [
    "# y"
   ]
  },
  {
   "cell_type": "code",
   "execution_count": 131,
   "metadata": {},
   "outputs": [],
   "source": [
    "df = X\n",
    "df['value'] = y"
   ]
  },
  {
   "cell_type": "code",
   "execution_count": null,
   "metadata": {},
   "outputs": [],
   "source": [
    "columns = df.columns\n",
    "new_nan_data = {}\n",
    "for c in columns:\n",
    "    if all_df[c].isna().any():\n",
    "        if all_df[c].dtypes != np.object:\n",
    "            median = all_df[c].median()\n",
    "            new_nan_data[c] = median\n",
    "            df[c] = all_df[c].replace(np.NaN, median)\n",
    "        else:\n",
    "            mfv = all_df[c].mode()[0]\n",
    "            new_nan_data[c] = mfv\n",
    "            df[c] = all_df[c].replace(np.NaN, mfv)\n",
    "print(new_nan_data)"
   ]
  },
  {
   "cell_type": "code",
   "execution_count": 132,
   "metadata": {},
   "outputs": [],
   "source": [
    "df.to_csv('player-value-prediction-cleaned.csv')"
   ]
  },
  {
   "cell_type": "code",
   "execution_count": 133,
   "metadata": {},
   "outputs": [],
   "source": [
    "# len(df.columns)"
   ]
  },
  {
   "cell_type": "markdown",
   "metadata": {
    "incorrectly_encoded_metadata": "jp-MarkdownHeadingCollapsed=true",
    "tags": []
   },
   "source": [
    "## `End PreProcessing Phase`"
   ]
  },
  {
   "cell_type": "markdown",
   "metadata": {
    "incorrectly_encoded_metadata": "jp-MarkdownHeadingCollapsed=true",
    "tags": []
   },
   "source": [
    "## `This Function Created To Do it in new Test Data`"
   ]
  },
  {
   "cell_type": "code",
   "execution_count": 15,
   "metadata": {
    "lines_to_next_cell": 2
   },
   "outputs": [
    {
     "name": "stdout",
     "output_type": "stream",
     "text": [
      "       id          name         full_name birth_date  age  height_cm  \\\n",
      "0  210824  F. Tchenkoua  Fabien Tchenkoua 1992-10-01   26     172.72   \n",
      "\n",
      "   weight_kgs positions nationality  overall_rating  ...   CDM   RDM   RWB  \\\n",
      "0        73.9     LM,RM    Cameroon              64  ...  51+2  51+2  57+2   \n",
      "\n",
      "     LB   LCB    CB   RCB    RB  contract_duration value  \n",
      "0  56+2  50+2  50+2  50+2  56+2                -48   NaN  \n",
      "\n",
      "[1 rows x 91 columns]\n",
      "0    210824\n",
      "Name: id, dtype: int64\n",
      "0    F. Tchenkoua\n",
      "Name: name, dtype: object\n",
      "0    Fabien Tchenkoua\n",
      "Name: full_name, dtype: object\n",
      "0   1992-10-01\n",
      "Name: birth_date, dtype: datetime64[ns]\n",
      "0    26\n",
      "Name: age, dtype: int64\n",
      "0    172.72\n",
      "Name: height_cm, dtype: float64\n",
      "0    73.9\n",
      "Name: weight_kgs, dtype: float64\n",
      "0    LM,RM\n",
      "Name: positions, dtype: object\n",
      "0    Cameroon\n",
      "Name: nationality, dtype: object\n",
      "0    64\n",
      "Name: overall_rating, dtype: int64\n",
      "0    65\n",
      "Name: potential, dtype: int64\n",
      "0    1000\n",
      "Name: wage, dtype: int64\n",
      "0    Right\n",
      "Name: preferred_foot, dtype: object\n",
      "0    1\n",
      "Name: international_reputation(1-5), dtype: int64\n",
      "0    3\n",
      "Name: weak_foot(1-5), dtype: int64\n",
      "0    3\n",
      "Name: skill_moves(1-5), dtype: int64\n",
      "0    High/ Medium\n",
      "Name: work_rate, dtype: object\n",
      "0    Normal\n",
      "Name: body_type, dtype: object\n",
      "0    801000\n",
      "Name: release_clause_euro, dtype: int64\n",
      "0    FC Carl Zeiss Jena\n",
      "Name: club_team, dtype: object\n",
      "0    63\n",
      "Name: club_rating, dtype: int64\n",
      "0    SUB\n",
      "Name: club_position, dtype: object\n",
      "0    7\n",
      "Name: club_jersey_number, dtype: int64\n",
      "0   NaN\n",
      "Name: national_team, dtype: float64\n",
      "0   NaN\n",
      "Name: national_rating, dtype: float64\n",
      "0   NaN\n",
      "Name: national_team_position, dtype: float64\n",
      "0   NaN\n",
      "Name: national_jersey_number, dtype: float64\n",
      "0    54\n",
      "Name: crossing, dtype: int64\n",
      "0    60\n",
      "Name: finishing, dtype: int64\n",
      "0    42\n",
      "Name: heading_accuracy, dtype: int64\n",
      "0    57\n",
      "Name: short_passing, dtype: int64\n",
      "0    57\n",
      "Name: volleys, dtype: int64\n",
      "0    70\n",
      "Name: dribbling, dtype: int64\n",
      "0    48\n",
      "Name: curve, dtype: int64\n",
      "0    36\n",
      "Name: freekick_accuracy, dtype: int64\n",
      "0    41\n",
      "Name: long_passing, dtype: int64\n",
      "0    68\n",
      "Name: ball_control, dtype: int64\n",
      "0    85\n",
      "Name: acceleration, dtype: int64\n",
      "0    83\n",
      "Name: sprint_speed, dtype: int64\n",
      "0    79\n",
      "Name: agility, dtype: int64\n",
      "0    61\n",
      "Name: reactions, dtype: int64\n",
      "0    80\n",
      "Name: balance, dtype: int64\n",
      "0    66\n",
      "Name: shot_power, dtype: int64\n",
      "0    47\n",
      "Name: jumping, dtype: int64\n",
      "0    53\n",
      "Name: stamina, dtype: int64\n",
      "0    61\n",
      "Name: strength, dtype: int64\n",
      "0    61\n",
      "Name: long_shots, dtype: int64\n",
      "0    30\n",
      "Name: aggression, dtype: int64\n",
      "0    49\n",
      "Name: interceptions, dtype: int64\n",
      "0    64\n",
      "Name: positioning, dtype: int64\n",
      "0    54\n",
      "Name: vision, dtype: int64\n",
      "0    58\n",
      "Name: penalties, dtype: int64\n",
      "0    57\n",
      "Name: composure, dtype: int64\n",
      "0    40\n",
      "Name: marking, dtype: int64\n",
      "0    50\n",
      "Name: standing_tackle, dtype: int64\n",
      "0    55\n",
      "Name: sliding_tackle, dtype: int64\n",
      "0    15\n",
      "Name: GK_diving, dtype: int64\n",
      "0    14\n",
      "Name: GK_handling, dtype: int64\n",
      "0    9\n",
      "Name: GK_kicking, dtype: int64\n",
      "0    10\n",
      "Name: GK_positioning, dtype: int64\n",
      "0    8\n",
      "Name: GK_reflexes, dtype: int64\n",
      "0   NaN\n",
      "Name: tags, dtype: float64\n",
      "0    Speed Dribbler (CPU AI Only)\n",
      "Name: traits, dtype: object\n",
      "0    62+2\n",
      "Name: LS, dtype: object\n",
      "0    62+2\n",
      "Name: ST, dtype: object\n",
      "0    62+2\n",
      "Name: RS, dtype: object\n",
      "0    65+2\n",
      "Name: LW, dtype: object\n",
      "0    64+2\n",
      "Name: LF, dtype: object\n",
      "0    64+2\n",
      "Name: CF, dtype: object\n",
      "0    64+2\n",
      "Name: RF, dtype: object\n",
      "0    65+2\n",
      "Name: RW, dtype: object\n",
      "0    63+2\n",
      "Name: LAM, dtype: object\n",
      "0    63+2\n",
      "Name: CAM, dtype: object\n",
      "0    63+2\n",
      "Name: RAM, dtype: object\n",
      "0    63+2\n",
      "Name: LM, dtype: object\n",
      "0    56+2\n",
      "Name: LCM, dtype: object\n",
      "0    56+2\n",
      "Name: CM, dtype: object\n",
      "0    56+2\n",
      "Name: RCM, dtype: object\n",
      "0    63+2\n",
      "Name: RM, dtype: object\n",
      "0    57+2\n",
      "Name: LWB, dtype: object\n",
      "0    51+2\n",
      "Name: LDM, dtype: object\n",
      "0    51+2\n",
      "Name: CDM, dtype: object\n",
      "0    51+2\n",
      "Name: RDM, dtype: object\n",
      "0    57+2\n",
      "Name: RWB, dtype: object\n",
      "0    56+2\n",
      "Name: LB, dtype: object\n",
      "0    50+2\n",
      "Name: LCB, dtype: object\n",
      "0    50+2\n",
      "Name: CB, dtype: object\n",
      "0    50+2\n",
      "Name: RCB, dtype: object\n",
      "0    56+2\n",
      "Name: RB, dtype: object\n",
      "0   -48\n",
      "Name: contract_duration, dtype: int64\n",
      "0   NaN\n",
      "Name: value, dtype: float64\n",
      "   age  height_cm  weight_kgs  overall_rating  potential  wage  \\\n",
      "0   26     172.72        73.9              64         65  1000   \n",
      "\n",
      "   preferred_foot  international_reputation(1-5)  weak_foot(1-5)  \\\n",
      "0               1                              1               3   \n",
      "\n",
      "   skill_moves(1-5)  ...  CB  RCB  RB  contract_duration  Wark Rate Attcking  \\\n",
      "0                 3  ...  50   50  56                -48                   2   \n",
      "\n",
      "   Wark Rate Detensivel  body_type_Lean  body_type_Normal  body_type_Stocky  \\\n",
      "0                     1               0                 1                 0   \n",
      "\n",
      "   value  \n",
      "0      0  \n",
      "\n",
      "[1 rows x 79 columns]\n"
     ]
    }
   ],
   "source": [
    "\n",
    "# ========================================================================================================================\n",
    "def PreProcessing_Phase(df_name):\n",
    "    #     Start PreProcessing\n",
    "\n",
    "    # #### import libraries\n",
    "\n",
    "    import numpy as np\n",
    "    import pandas as pd\n",
    "    import math\n",
    "\n",
    "    # #### Explorality Data Analysis\n",
    "\n",
    "    # read data\n",
    "    df = pd.read_csv(df_name)\n",
    "    \n",
    "    # #### Number of Respondents vs. Rows\n",
    "\n",
    "    # #### Time Stamps\n",
    "\n",
    "    # ##### birth_date\n",
    "\n",
    "    df['birth_date'] = df['birth_date'].astype('datetime64[ns]')\n",
    "\n",
    "    # ##### club_join_date\n",
    "\n",
    "    df['club_join_date'] = df['club_join_date'].astype('datetime64[ns]')\n",
    "\n",
    "    df.club_join_date = df.club_join_date.dt.year\n",
    "\n",
    "    df.club_join_date.fillna(value=new_nan_data['club_join_date'], inplace=True)\n",
    "\n",
    "    # ##### contract_end_year\n",
    "\n",
    "    df['contract_end_year'] = df['contract_end_year'].astype('datetime64[ns]')\n",
    "\n",
    "    df.contract_end_year = df.contract_end_year.dt.year\n",
    "\n",
    "    df.contract_end_year.fillna(value=new_nan_data['contract_end_year'], inplace=True)\n",
    "\n",
    "    # ##### contract_duration\n",
    "\n",
    "    contract = df[['contract_end_year', 'club_join_date']]\n",
    "\n",
    "    df.insert(len(df.columns) - 1, \"contract_duration\", contract.apply(lambda x: x[0] - x[1], axis=1), True)\n",
    "    df['contract_duration'].astype('int')\n",
    "\n",
    "    df = df.drop(labels=['contract_end_year', 'club_join_date'], axis=1)\n",
    " \n",
    "     \n",
    "    def fillNan(df):\n",
    "        \n",
    "        if len(df) == 1:\n",
    "            df.fillna(value='0', inplace=True)    \n",
    "        else:\n",
    "            df.fillna(value=new_nan_data[df], inplace=True)\n",
    "        return df\n",
    "\n",
    "    # #### Identify correct question types for each Category | Text columns & Check for Consistency & Check Nan\n",
    "\n",
    "    # ##### Inconsistent Categorical\n",
    "\n",
    "    # ##### positions\n",
    "\n",
    "    df.positions = df.positions.astype(str)\n",
    "\n",
    "    # #### Fill Nan\n",
    "    for i in range(len(df.columns)):\n",
    "        df.iloc[:, i] = fillNan(df.iloc[:, i])\n",
    " \n",
    " \n",
    "    # #### Independent and Dependent Variables\n",
    "\n",
    "    def solve(row, cols):\n",
    "        # print(row)\n",
    "        row[0:2].astype(str)\n",
    "        positions = (','.join(row[0:2])).split(',')\n",
    "        for pow in range(2, len(row[2:]) + 2):\n",
    "            flag = False\n",
    "            for pos in positions:\n",
    "                if cols[pow] == pos:\n",
    "                    flag = True\n",
    "                    break\n",
    "            if flag:\n",
    "                values = row[pow].split('+')\n",
    "                res = int(values[0]) + int(values[1])\n",
    "                row[pow] = str(res)\n",
    "            else:\n",
    "                values = row[pow].split('+')\n",
    "                row[pow] = values[0]\n",
    "        return row\n",
    "\n",
    "    cols = ['club_position', 'national_team_position',\n",
    "            'LS', 'ST', 'RS', 'LW', 'LF', 'CF',\n",
    "            'RF', 'RW', 'LAM', 'CAM', 'RAM', 'LM',\n",
    "            'LCM', 'CM', 'RCM', 'RM', 'LWB', 'LDM',\n",
    "            'CDM', 'RDM', 'RWB', 'LB', 'LCB', 'CB', 'RCB', 'RB']\n",
    "    # df[cols] = df[cols].astype(str)\n",
    "    \n",
    "    df[cols] = df[cols].apply(solve, args=(cols,), axis=1)\n",
    "\n",
    "    # ##### Convert Columns Type\n",
    "\n",
    "    # convert columns Type\n",
    "    df.iloc[:, 63:-2] = df.iloc[:, 63:-2].astype('int')\n",
    "\n",
    "    # #### drop Columns Not Important\n",
    "\n",
    "    drop_cols = ['id', 'name', 'full_name', 'birth_date', 'positions', 'nationality',\n",
    "                 'club_team', 'club_position', 'club_jersey_number', 'national_team',\n",
    "                 'national_rating', 'national_team_position',\n",
    "                 'national_jersey_number', 'tags', 'traits']\n",
    "\n",
    "    df = df.drop(labels=drop_cols, axis=1)\n",
    "\n",
    "    # #### Feature Encoding\n",
    "\n",
    "    # preferred_foot\n",
    "    df.preferred_foot = [1 if i == 'Right' else 0 for i in df.preferred_foot]\n",
    "\n",
    "    X = df.iloc[:, :-1]\n",
    "    y = df.iloc[:, -1]\n",
    "\n",
    "    dic_work_rate = {'High': 2, 'Medium': 1, 'Low': 0}\n",
    "\n",
    "    def WRA(i):\n",
    "        i = i.split('/ ')\n",
    "        return dic_work_rate[i[0]]\n",
    "\n",
    "    def WRD(i):\n",
    "        i = i.split('/ ')\n",
    "        return dic_work_rate[i[1]]\n",
    "\n",
    "    X['Wark Rate Attcking'] = [WRA(i) for i in df.work_rate]\n",
    "\n",
    "    X['Wark Rate Detensivel'] = [WRD(i) for i in df.work_rate]\n",
    "\n",
    "    X = X.drop(labels='work_rate', axis=1)\n",
    "\n",
    "    def BT(k, i):\n",
    "        i = i.split('_')\n",
    "        if k == i[2]:\n",
    "            k = 1\n",
    "        else:\n",
    "            k = 0\n",
    "        return k\n",
    "\n",
    "    body_type_cols = ['body_type_Lean', 'body_type_Normal', 'body_type_Stocky']\n",
    "    for i in body_type_cols:\n",
    "        X[i] = [BT(k, i) for k in df.body_type]\n",
    "    X = X.drop(labels='body_type', axis=1)\n",
    "\n",
    "    # #### Save Data Cleaned\n",
    "\n",
    "    df = X \n",
    "\n",
    "    df.to_csv('test_data_cleaned.csv')\n",
    "    print(df)\n",
    "\n",
    "\n",
    "# ## `End Function Pre-Processing`"
   ]
  },
  {
   "cell_type": "code",
   "execution_count": null,
   "metadata": {},
   "outputs": [],
   "source": [
    "# clean test data\n",
    "PreProcessing_Phase('Book1.csv')"
   ]
  },
  {
   "cell_type": "markdown",
   "metadata": {},
   "source": [
    "## `End Function Pre-Processing`"
   ]
  }
 ],
 "metadata": {
  "jupytext": {
   "formats": "ipynb,py:percent"
  },
  "kernelspec": {
   "display_name": "Python 3",
   "language": "python",
   "name": "python3"
  },
  "language_info": {
   "codemirror_mode": {
    "name": "ipython",
    "version": 3
   },
   "file_extension": ".py",
   "mimetype": "text/x-python",
   "name": "python",
   "nbconvert_exporter": "python",
   "pygments_lexer": "ipython3",
   "version": "3.8.5"
  }
 },
 "nbformat": 4,
 "nbformat_minor": 5
}
