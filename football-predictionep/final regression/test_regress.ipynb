{
 "cells": [
  {
   "cell_type": "code",
   "execution_count": 1,
   "metadata": {},
   "outputs": [],
   "source": [
    "import numpy as np; np.random.seed(42)\n",
    "import pandas as pd\n",
    "import seaborn as sns\n",
    "import matplotlib.pyplot as plt\n",
    "import sklearn.metrics\n",
    "from sklearn import linear_model\n",
    "from sklearn import metrics\n",
    "from sklearn.model_selection import train_test_split\n",
    "from sklearn.preprocessing import PolynomialFeatures\n",
    "from sklearn.preprocessing import StandardScaler\n",
    "# data normalization with sklearn\n",
    "from sklearn.preprocessing import MinMaxScaler\n",
    "from sklearn.feature_selection import SelectPercentile # feature Selection\n",
    "from sklearn.feature_selection import chi2, f_classif # feature Selection\n",
    "from sklearn.feature_selection import SelectFromModel # feature Selection\n",
    "from sklearn.impute import SimpleImputer # replace Nan with mean\n",
    "from sklearn.linear_model import LinearRegression\n",
    "# measuring RMSE score\n",
    "from sklearn.metrics import mean_squared_error\n",
    "import pickle"
   ]
  },
  {
   "cell_type": "code",
   "execution_count": 109,
   "metadata": {},
   "outputs": [],
   "source": [
    "def New_Test_Data(fileName):\n",
    "    # read file and ignore first column \n",
    "    df = pd.read_csv(fileName).iloc[:, 1:] \n",
    "    loaded_model = pickle.load(open('imp_mean.sav', 'rb'))\n",
    "    data = loaded_model.transform(df)\n",
    "    # divide data to input & output\n",
    "    X = df.iloc[:, :-1]\n",
    "    y = df.iloc[:, -1]\n",
    "#     y = df.iloc[:, -1]\n",
    "    # Your y is of type object, so sklearn cannot recognize its type. \n",
    "    # Add the line y=y.astype('int') right after the line y = train[:, 1].\n",
    "#     y=y.astype('int')\n",
    "    X_No_Feature_Selected = X\n",
    "#     y = y.to_numpy().reshape(len(y), 1)\n",
    "    # This Method You determine the model you want to select according for it and it return best no feature of it\n",
    "    # load the model from disk\n",
    "    loaded_model = pickle.load(open('Feature_Selection.sav', 'rb'))\n",
    "#     X = loaded_model.fit_transform(X, y)\n",
    "\n",
    " \n",
    "    col_name = loaded_model.get_feature_names_out()\n",
    "#     X = loaded_model.fit_transform(X, y)\n",
    "    \n",
    "    X = df[col_name] \n",
    "    \n",
    "\n",
    "    X = pd.DataFrame(X, columns=col_name) \n",
    "#     print(X)\n",
    "    X_test = X\n",
    "    # without Feature Selection\n",
    "    Xs_test = X_No_Feature_Selected \n",
    "    \n",
    "    # load the model from disk\n",
    "    loaded_model = pickle.load(open('scale.sav', 'rb'))  \n",
    "    # transform the testing data column\n",
    "    X_test_stand = loaded_model.transform(X_test)\n",
    "    # Normalization\n",
    "    # fit scaler on training data\n",
    "    # load the model from disk\n",
    "    \n",
    "    loaded_model = pickle.load(open('norm.sav', 'rb')) \n",
    "    # transform testing dataabs\n",
    "    X_test_norm = loaded_model.transform(X_test)\n",
    "    # polynomial \n",
    "    # fit poly on training data\n",
    "    # load the model from disk\n",
    "    loaded_model = pickle.load(open('poly.sav', 'rb')) \n",
    "    # transform testing dataabs\n",
    "    X_test_poly = loaded_model.transform(X_test)\n",
    "    # Without Feature Scaling\n",
    "    # Standariztion\n",
    "    # load the model from disk\n",
    "    loaded_model = pickle.load(open('scale_NOSelect.sav', 'rb')) \n",
    "    # transform the testing data column\n",
    "    Xs_test_stand = loaded_model.transform(Xs_test)\n",
    "\n",
    "    rmse = []\n",
    "\n",
    "    # raw, normalized, standardized and polynomial training and testing data \n",
    "    testX = [X_test, X_test_norm, X_test_stand, X_test_poly, Xs_test_stand]\n",
    "\n",
    "    \n",
    "    # model fitting and measuring RMSE\n",
    "    for i in range(len(testX)):\n",
    "\n",
    "        # load the model from disk\n",
    "        loaded_model = pickle.load(open( 'Linear_Reg_'+str(i)+'.sav', 'rb')) \n",
    "        # predict \n",
    "        pred = loaded_model.predict(testX[i])\n",
    "        pred = [k[0] for k in pred]\n",
    "                \n",
    "        pred = np.array(pred).reshape(len(pred), 1) \n",
    "        print(pred.shape) \n",
    "        print(\"====================\"+str(i)+\"==================\")\n",
    "#         print(type(pred)) \n",
    "#         testX = np.array(testX[i])\n",
    "#         Xt = pd.DataFrame(testX, columns=col_name)\n",
    "#         pred = [k[0] for k in pred]\n",
    "#         predt = np.array(pred).reshape(len(pred), 1) \n",
    "        \n",
    "#         newdf = Xt\n",
    "#         print(newdf)\n",
    "#         print(predt) "
   ]
  },
  {
   "cell_type": "code",
   "execution_count": 110,
   "metadata": {},
   "outputs": [
    {
     "name": "stdout",
     "output_type": "stream",
     "text": [
      "(444, 1)\n",
      "====================0==================\n",
      "(444, 1)\n",
      "====================1==================\n",
      "(444, 1)\n",
      "====================2==================\n",
      "(444, 1)\n",
      "====================3==================\n",
      "(444, 1)\n",
      "====================4==================\n"
     ]
    }
   ],
   "source": [
    "New_Test_Data('test_data_pred_cleaned.csv')"
   ]
  },
  {
   "cell_type": "code",
   "execution_count": 69,
   "metadata": {
    "jupyter": {
     "source_hidden": true
    }
   },
   "outputs": [
    {
     "data": {
      "text/plain": [
       "Index(['Unnamed: 0', 'age', 'height_cm', 'weight_kgs', 'overall_rating',\n",
       "       'potential', 'wage', 'preferred_foot', 'international_reputation(1-5)',\n",
       "       'weak_foot(1-5)', 'skill_moves(1-5)', 'release_clause_euro',\n",
       "       'club_rating', 'crossing', 'finishing', 'heading_accuracy',\n",
       "       'short_passing', 'volleys', 'dribbling', 'curve', 'freekick_accuracy',\n",
       "       'long_passing', 'ball_control', 'acceleration', 'sprint_speed',\n",
       "       'agility', 'reactions', 'balance', 'shot_power', 'jumping', 'stamina',\n",
       "       'strength', 'long_shots', 'aggression', 'interceptions', 'positioning',\n",
       "       'vision', 'penalties', 'composure', 'marking', 'standing_tackle',\n",
       "       'sliding_tackle', 'GK_diving', 'GK_handling', 'GK_kicking',\n",
       "       'GK_positioning', 'GK_reflexes', 'LS', 'ST', 'RS', 'LW', 'LF', 'CF',\n",
       "       'RF', 'RW', 'LAM', 'CAM', 'RAM', 'LM', 'LCM', 'CM', 'RCM', 'RM', 'LWB',\n",
       "       'LDM', 'CDM', 'RDM', 'RWB', 'LB', 'LCB', 'CB', 'RCB', 'RB',\n",
       "       'contract_duration', 'Wark Rate Attcking', 'Wark Rate Detensivel',\n",
       "       'body_type_Lean', 'body_type_Normal', 'body_type_Stocky', 'value'],\n",
       "      dtype='object')"
      ]
     },
     "execution_count": 69,
     "metadata": {},
     "output_type": "execute_result"
    }
   ],
   "source": [
    "g = pd.read_csv('test_data_pred_cleaned.csv')\n",
    "g.columns"
   ]
  },
  {
   "cell_type": "code",
   "execution_count": null,
   "metadata": {
    "jupyter": {
     "source_hidden": true
    }
   },
   "outputs": [],
   "source": [
    "g.value"
   ]
  },
  {
   "cell_type": "code",
   "execution_count": null,
   "metadata": {},
   "outputs": [],
   "source": [
    "# # load the model from disk\n",
    "# loaded_model = pickle.load(open(filename, 'rb'))"
   ]
  },
  {
   "cell_type": "code",
   "execution_count": null,
   "metadata": {},
   "outputs": [],
   "source": []
  }
 ],
 "metadata": {
  "kernelspec": {
   "display_name": "Python 3",
   "language": "python",
   "name": "python3"
  },
  "language_info": {
   "codemirror_mode": {
    "name": "ipython",
    "version": 3
   },
   "file_extension": ".py",
   "mimetype": "text/x-python",
   "name": "python",
   "nbconvert_exporter": "python",
   "pygments_lexer": "ipython3",
   "version": "3.8.5"
  }
 },
 "nbformat": 4,
 "nbformat_minor": 4
}
