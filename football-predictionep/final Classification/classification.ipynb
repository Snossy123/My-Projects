{
 "cells": [
  {
   "cell_type": "code",
   "execution_count": 1,
   "metadata": {},
   "outputs": [],
   "source": [
    "import pandas as pd\n",
    "from sklearn.model_selection import train_test_split\n",
    "import seaborn as sns\n",
    "import matplotlib.pyplot as plt\n",
    "from sklearn.model_selection import train_test_split\n",
    "from sklearn.ensemble import RandomForestClassifier\n",
    "from imblearn import under_sampling, over_sampling\n",
    "from sklearn.ensemble import RandomForestClassifier\n",
    "from sklearn.neighbors import KNeighborsClassifier\n",
    "from sklearn.ensemble import AdaBoostClassifier\n",
    "from sklearn.tree import DecisionTreeClassifier\n",
    "from sklearn.svm import SVC\n",
    "from sklearn.metrics import accuracy_score\n",
    "from sklearn.metrics import classification_report \n",
    "import numpy as np\n",
    "from sklearn.model_selection import GridSearchCV\n",
    "from sklearn.preprocessing import StandardScaler\n",
    "import pickle"
   ]
  },
  {
   "cell_type": "code",
   "execution_count": 2,
   "metadata": {
    "jupyter": {
     "source_hidden": true
    }
   },
   "outputs": [],
   "source": [
    "\n",
    "data=pd.read_csv('player-classify-cleaned.csv')\n",
    "# print (data.isnull().sum())a"
   ]
  },
  {
   "cell_type": "code",
   "execution_count": 3,
   "metadata": {
    "jupyter": {
     "source_hidden": true
    }
   },
   "outputs": [],
   "source": [
    "# data.head()"
   ]
  },
  {
   "cell_type": "code",
   "execution_count": 4,
   "metadata": {
    "jupyter": {
     "source_hidden": true
    }
   },
   "outputs": [],
   "source": [
    "data = data.iloc[: , 1:]"
   ]
  },
  {
   "cell_type": "code",
   "execution_count": 5,
   "metadata": {
    "jupyter": {
     "source_hidden": true
    }
   },
   "outputs": [],
   "source": [
    "\n",
    "data['value']=data['value'].replace({'A':1,'B':2,'C':3,'D':4,'S':5})\n",
    "y = data['value']\n",
    "x = data.iloc[:, :-1]\n",
    "x_train,x_test,y_train,y_test=train_test_split(x,y,test_size=0.2,random_state=8)\n",
    "# print (y.head())"
   ]
  },
  {
   "cell_type": "code",
   "execution_count": 6,
   "metadata": {
    "jupyter": {
     "source_hidden": true
    }
   },
   "outputs": [],
   "source": [
    "# x_train.dtypes"
   ]
  },
  {
   "cell_type": "code",
   "execution_count": 7,
   "metadata": {
    "jupyter": {
     "source_hidden": true
    }
   },
   "outputs": [],
   "source": [
    "\n",
    "#get correlations of each features in dataset\n",
    "corr_df = data.corr(method ='kendall').sort_values(by=['value']).iloc[:-1,-1]\n",
    "# print (corr_df)\n",
    "# feature_nonan =  dict(corr_df)\n",
    "# x = x[top_feature]"
   ]
  },
  {
   "cell_type": "code",
   "execution_count": 8,
   "metadata": {
    "jupyter": {
     "source_hidden": true
    }
   },
   "outputs": [
    {
     "data": {
      "text/plain": [
       "78"
      ]
     },
     "execution_count": 8,
     "metadata": {},
     "output_type": "execute_result"
    }
   ],
   "source": [
    "len(corr_df)"
   ]
  },
  {
   "cell_type": "code",
   "execution_count": 9,
   "metadata": {
    "jupyter": {
     "source_hidden": true
    }
   },
   "outputs": [
    {
     "data": {
      "text/plain": [
       "contract_duration                0.038875\n",
       "value                            1.000000\n",
       "preferred_foot                        NaN\n",
       "international_reputation(1-5)         NaN\n",
       "weak_foot(1-5)                        NaN\n",
       "Wark Rate Detensivel                  NaN\n",
       "Name: value, dtype: float64"
      ]
     },
     "execution_count": 9,
     "metadata": {},
     "output_type": "execute_result"
    }
   ],
   "source": [
    "corr_df[-6:]"
   ]
  },
  {
   "cell_type": "code",
   "execution_count": 10,
   "metadata": {
    "jupyter": {
     "source_hidden": true
    }
   },
   "outputs": [],
   "source": [
    "corr_df.dropna(inplace=True)"
   ]
  },
  {
   "cell_type": "code",
   "execution_count": 11,
   "metadata": {
    "jupyter": {
     "source_hidden": true
    }
   },
   "outputs": [],
   "source": [
    "corr_df = corr_df.iloc[0:-1]"
   ]
  },
  {
   "cell_type": "code",
   "execution_count": 12,
   "metadata": {
    "jupyter": {
     "source_hidden": true
    }
   },
   "outputs": [],
   "source": [
    "# corr_df[0:]"
   ]
  },
  {
   "cell_type": "code",
   "execution_count": 13,
   "metadata": {
    "jupyter": {
     "source_hidden": true
    }
   },
   "outputs": [
    {
     "data": {
      "text/plain": [
       "(14136, 73)"
      ]
     },
     "execution_count": 13,
     "metadata": {},
     "output_type": "execute_result"
    }
   ],
   "source": [
    "best_feature = dict(corr_df[0:])\n",
    "x= data[best_feature.keys()]\n",
    "x.shape"
   ]
  },
  {
   "cell_type": "code",
   "execution_count": 14,
   "metadata": {
    "jupyter": {
     "source_hidden": true
    }
   },
   "outputs": [
    {
     "data": {
      "text/plain": [
       "{'release_clause_euro': -0.4184731119619384,\n",
       " 'overall_rating': -0.3140582848420411,\n",
       " 'wage': -0.23610058877205609,\n",
       " 'ball_control': -0.17499871667858477,\n",
       " 'reactions': -0.17362283634349848,\n",
       " 'potential': -0.152942059337219,\n",
       " 'RM': -0.15222631177160756,\n",
       " 'LM': -0.15203741502169243,\n",
       " 'composure': -0.1504731270295203,\n",
       " 'skill_moves(1-5)': -0.14046642490910696,\n",
       " 'CAM': -0.13548940381644534,\n",
       " 'LAM': -0.1354426517620435,\n",
       " 'RAM': -0.1354272638635907,\n",
       " 'LCM': -0.13533691277717233,\n",
       " 'short_passing': -0.13524821433118125,\n",
       " 'RCM': -0.1350642420645306,\n",
       " 'CM': -0.13494538272997422,\n",
       " 'dribbling': -0.12702740849454797,\n",
       " 'LF': -0.12679410355179466,\n",
       " 'CF': -0.1267794434405475,\n",
       " 'RF': -0.12675428168895458,\n",
       " 'RW': -0.12170241512428918,\n",
       " 'LW': -0.12145455412532911,\n",
       " 'shot_power': -0.11691322537928905,\n",
       " 'positioning': -0.10886262886398228,\n",
       " 'long_shots': -0.10844574609642708,\n",
       " 'long_passing': -0.10387192593128858,\n",
       " 'vision': -0.10104680976211143,\n",
       " 'crossing': -0.10100215857618167,\n",
       " 'heading_accuracy': -0.09552925927810137,\n",
       " 'stamina': -0.09472454617043206,\n",
       " 'curve': -0.09453503523360562,\n",
       " 'freekick_accuracy': -0.09292713395138555,\n",
       " 'age': -0.08954178437457165,\n",
       " 'volleys': -0.08773057364706108,\n",
       " 'ST': -0.08520389532912932,\n",
       " 'interceptions': -0.08512252387428092,\n",
       " 'RS': -0.08500204408074483,\n",
       " 'LS': -0.084720568741015,\n",
       " 'finishing': -0.08465177987966006,\n",
       " 'aggression': -0.08278200853506329,\n",
       " 'penalties': -0.08207629170458494,\n",
       " 'strength': -0.0812292816942298,\n",
       " 'agility': -0.07605339070227242,\n",
       " 'standing_tackle': -0.07564041879814863,\n",
       " 'marking': -0.07266569785209512,\n",
       " 'CDM': -0.07247074411325095,\n",
       " 'LDM': -0.07225933127847436,\n",
       " 'RDM': -0.07225741741326312,\n",
       " 'club_rating': -0.06928917510298369,\n",
       " 'sliding_tackle': -0.06883609989135693,\n",
       " 'RWB': -0.06787229624583807,\n",
       " 'LWB': -0.0678365948993225,\n",
       " 'sprint_speed': -0.062895807452758,\n",
       " 'jumping': -0.06045623388103126,\n",
       " 'acceleration': -0.059260992150390185,\n",
       " 'LCB': -0.05366674271382119,\n",
       " 'CB': -0.053551956429361974,\n",
       " 'RCB': -0.05319416267644704,\n",
       " 'RB': -0.048873212004527135,\n",
       " 'LB': -0.04860789133296212,\n",
       " 'Wark Rate Attcking': -0.02686785969822259,\n",
       " 'balance': -0.02272880419724322,\n",
       " 'body_type_Normal': -0.012538452022424413,\n",
       " 'weight_kgs': -0.007769724942625527,\n",
       " 'height_cm': 0.009126112455553448,\n",
       " 'GK_reflexes': 0.010322813330278353,\n",
       " 'GK_handling': 0.011610048729555162,\n",
       " 'GK_positioning': 0.019084611791582294,\n",
       " 'GK_kicking': 0.019866792968708143,\n",
       " 'body_type_Lean': 0.02107447255538448,\n",
       " 'GK_diving': 0.022996632622769454,\n",
       " 'contract_duration': 0.03887528487001375}"
      ]
     },
     "execution_count": 14,
     "metadata": {},
     "output_type": "execute_result"
    }
   ],
   "source": [
    "best_feature"
   ]
  },
  {
   "cell_type": "code",
   "execution_count": 15,
   "metadata": {
    "jupyter": {
     "source_hidden": true
    }
   },
   "outputs": [],
   "source": [
    " \n",
    "X_train,X_test,y_train,y_test=train_test_split(x,y,test_size=0.2,random_state=8)"
   ]
  },
  {
   "cell_type": "code",
   "execution_count": 16,
   "metadata": {
    "jupyter": {
     "source_hidden": true
    }
   },
   "outputs": [],
   "source": [
    "# y_train.value_counts()"
   ]
  },
  {
   "cell_type": "code",
   "execution_count": 17,
   "metadata": {
    "jupyter": {
     "source_hidden": true
    }
   },
   "outputs": [],
   "source": [
    "# pip install -U imbalanced-learn"
   ]
  },
  {
   "cell_type": "code",
   "execution_count": 18,
   "metadata": {
    "jupyter": {
     "source_hidden": true
    }
   },
   "outputs": [],
   "source": [
    "# check version number\n",
    "# print(imblearn.__version__)"
   ]
  },
  {
   "cell_type": "code",
   "execution_count": 19,
   "metadata": {},
   "outputs": [],
   "source": [
    "\n",
    "scaler=StandardScaler().fit(X_train)\n",
    "# save the model to disk\n",
    "filename = 'scaler.sav'\n",
    "pickle.dump(scaler, open(filename, 'wb')) \n",
    "X_train=pd.DataFrame(scaler.transform(X_train))\n",
    "X_test=pd.DataFrame(scaler.transform(X_test))"
   ]
  },
  {
   "cell_type": "code",
   "execution_count": 20,
   "metadata": {},
   "outputs": [],
   "source": [
    "from imblearn.over_sampling import SMOTE\n",
    "sm=SMOTE(random_state=2)\n",
    "X_train_res,y_train_res=sm.fit_resample(X_train,y_train)"
   ]
  },
  {
   "cell_type": "code",
   "execution_count": 21,
   "metadata": {},
   "outputs": [
    {
     "name": "stdout",
     "output_type": "stream",
     "text": [
      "Counter({5: 2954, 3: 2954, 1: 2954, 4: 2954, 2: 2954})\n"
     ]
    }
   ],
   "source": [
    "# summarize the new class distribution\n",
    "from collections import Counter\n",
    "counter = Counter(y_train_res)\n",
    "print(counter)"
   ]
  },
  {
   "cell_type": "code",
   "execution_count": 22,
   "metadata": {},
   "outputs": [
    {
     "name": "stdout",
     "output_type": "stream",
     "text": [
      "87.44695898161244\n",
      "              precision    recall  f1-score   support\n",
      "\n",
      "           1       0.88      0.86      0.87       619\n",
      "           2       0.77      0.83      0.80       448\n",
      "           3       0.87      0.88      0.88       765\n",
      "           4       0.94      0.91      0.92       650\n",
      "           5       0.90      0.89      0.89       346\n",
      "\n",
      "    accuracy                           0.87      2828\n",
      "   macro avg       0.87      0.87      0.87      2828\n",
      "weighted avg       0.88      0.87      0.88      2828\n",
      "\n"
     ]
    }
   ],
   "source": [
    "model_svc=SVC()\n",
    "model_svc.fit(X_train,y_train)\n",
    "y_pred=model_svc.predict(X_test)\n",
    "\n",
    "filename = 'model_svc.sav'\n",
    "pickle.dump(model_svc, open(filename, 'wb')) \n",
    "print(accuracy_score(y_test,y_pred)*100)\n",
    "# 0.7661498708010336\n",
    "print(classification_report(y_test,y_pred))"
   ]
  },
  {
   "cell_type": "code",
   "execution_count": 23,
   "metadata": {},
   "outputs": [
    {
     "name": "stdout",
     "output_type": "stream",
     "text": [
      "0.8613861386138614\n",
      "              precision    recall  f1-score   support\n",
      "\n",
      "           1       0.87      0.85      0.86       619\n",
      "           2       0.67      0.82      0.74       448\n",
      "           3       0.90      0.81      0.86       765\n",
      "           4       0.96      0.92      0.94       650\n",
      "           5       0.88      0.92      0.90       346\n",
      "\n",
      "    accuracy                           0.86      2828\n",
      "   macro avg       0.86      0.87      0.86      2828\n",
      "weighted avg       0.87      0.86      0.86      2828\n",
      "\n"
     ]
    }
   ],
   "source": [
    "model_dt=DecisionTreeClassifier(class_weight='balanced',max_depth=5)\n",
    "model_dt.fit(X_train_res,y_train_res)\n",
    "y_pred=model_dt.predict(X_test)\n",
    "\n",
    "filename = 'model_dt.sav'\n",
    "pickle.dump(model_dt, open(filename, 'wb')) \n",
    "print(accuracy_score(y_test,y_pred))\n",
    "# 0.7609819121447028\n",
    "print(classification_report(y_test,y_pred))"
   ]
  },
  {
   "cell_type": "code",
   "execution_count": 24,
   "metadata": {},
   "outputs": [
    {
     "name": "stdout",
     "output_type": "stream",
     "text": [
      "0.8613861386138614\n",
      "              precision    recall  f1-score   support\n",
      "\n",
      "           1       0.87      0.85      0.86       619\n",
      "           2       0.67      0.82      0.74       448\n",
      "           3       0.90      0.81      0.86       765\n",
      "           4       0.96      0.92      0.94       650\n",
      "           5       0.88      0.92      0.90       346\n",
      "\n",
      "    accuracy                           0.86      2828\n",
      "   macro avg       0.86      0.87      0.86      2828\n",
      "weighted avg       0.87      0.86      0.86      2828\n",
      "\n"
     ]
    }
   ],
   "source": [
    "model_rf=RandomForestClassifier(class_weight='balanced',random_state=1,max_depth=5,\\\n",
    "                                  n_estimators=10,max_features=1)\n",
    "model_rf.fit(X_train_res,y_train_res)\n",
    "ypred=model_rf.predict(X_test)\n",
    "\n",
    "filename = 'model_rf.sav'\n",
    "pickle.dump(model_rf, open(filename, 'wb')) \n",
    "print(accuracy_score(y_test,y_pred))\n",
    "# 0.5930232558139535\n",
    "print(classification_report(y_test,y_pred))"
   ]
  },
  {
   "cell_type": "code",
   "execution_count": 25,
   "metadata": {},
   "outputs": [
    {
     "name": "stdout",
     "output_type": "stream",
     "text": [
      "0.6941301272984441\n",
      "              precision    recall  f1-score   support\n",
      "\n",
      "           1       0.79      0.62      0.69       619\n",
      "           2       0.45      0.74      0.56       448\n",
      "           3       0.72      0.53      0.61       765\n",
      "           4       0.86      0.81      0.83       650\n",
      "           5       0.74      0.91      0.82       346\n",
      "\n",
      "    accuracy                           0.69      2828\n",
      "   macro avg       0.71      0.72      0.70      2828\n",
      "weighted avg       0.73      0.69      0.70      2828\n",
      "\n"
     ]
    }
   ],
   "source": [
    "model_knn=KNeighborsClassifier(5)\n",
    "model_knn.fit(X_train_res,y_train_res)\n",
    "y_pred=model_knn.predict(X_test)\n",
    "\n",
    "filename = 'model_knn.sav'\n",
    "pickle.dump(model_knn, open(filename, 'wb')) \n",
    "print(accuracy_score(y_test,y_pred))\n",
    "# 0.6821705426356589\n",
    "print(classification_report(y_test,y_pred))"
   ]
  },
  {
   "cell_type": "code",
   "execution_count": 26,
   "metadata": {},
   "outputs": [
    {
     "name": "stdout",
     "output_type": "stream",
     "text": [
      "0.6138613861386139\n",
      "              precision    recall  f1-score   support\n",
      "\n",
      "           1       0.86      0.71      0.78       619\n",
      "           2       0.55      0.85      0.67       448\n",
      "           3       0.00      0.00      0.00       765\n",
      "           4       0.49      0.94      0.64       650\n",
      "           5       0.83      0.87      0.85       346\n",
      "\n",
      "    accuracy                           0.61      2828\n",
      "   macro avg       0.55      0.68      0.59      2828\n",
      "weighted avg       0.49      0.61      0.53      2828\n",
      "\n"
     ]
    },
    {
     "name": "stderr",
     "output_type": "stream",
     "text": [
      "C:\\Users\\a\\anaconda3\\lib\\site-packages\\sklearn\\metrics\\_classification.py:1327: UndefinedMetricWarning: Precision and F-score are ill-defined and being set to 0.0 in labels with no predicted samples. Use `zero_division` parameter to control this behavior.\n",
      "  _warn_prf(average, modifier, msg_start, len(result))\n",
      "C:\\Users\\a\\anaconda3\\lib\\site-packages\\sklearn\\metrics\\_classification.py:1327: UndefinedMetricWarning: Precision and F-score are ill-defined and being set to 0.0 in labels with no predicted samples. Use `zero_division` parameter to control this behavior.\n",
      "  _warn_prf(average, modifier, msg_start, len(result))\n",
      "C:\\Users\\a\\anaconda3\\lib\\site-packages\\sklearn\\metrics\\_classification.py:1327: UndefinedMetricWarning: Precision and F-score are ill-defined and being set to 0.0 in labels with no predicted samples. Use `zero_division` parameter to control this behavior.\n",
      "  _warn_prf(average, modifier, msg_start, len(result))\n"
     ]
    }
   ],
   "source": [
    "model_ada=AdaBoostClassifier(learning_rate=0.01)\n",
    "model_ada.fit(X_train_res,y_train_res)\n",
    "y_pred=model_ada.predict(X_test)\n",
    "\n",
    "filename = 'model_ada.sav'\n",
    "pickle.dump(model_ada, open(filename, 'wb')) \n",
    "print(accuracy_score(y_test,y_pred))\n",
    "# 0.8126614987080103\n",
    "print(classification_report(y_test,y_pred))"
   ]
  },
  {
   "cell_type": "code",
   "execution_count": 27,
   "metadata": {},
   "outputs": [
    {
     "name": "stdout",
     "output_type": "stream",
     "text": [
      "dict_keys([5, 3, 1, 4, 2])\n"
     ]
    }
   ],
   "source": [
    "\n",
    "ada_clf=AdaBoostClassifier()\n",
    "params={\n",
    "     'n_estimators':np.arange(10,300,10),\n",
    "     'learning_rate':[0.01,0.05,0.1,1]\n",
    "}\n",
    "classes=Counter(y_train_res).keys()\n",
    "print(classes)"
   ]
  },
  {
   "cell_type": "code",
   "execution_count": 28,
   "metadata": {},
   "outputs": [
    {
     "name": "stdout",
     "output_type": "stream",
     "text": [
      "The best parameters are: {'base_estimator__criterion': 'gini', 'base_estimator__splitter': 'best', 'n_estimators': 2}\n"
     ]
    }
   ],
   "source": [
    "\n",
    "param_grid = {\"base_estimator__criterion\" : [\"gini\", \"entropy\"],\n",
    "              \"base_estimator__splitter\" :   [\"best\", \"random\"],\n",
    "              \"n_estimators\": [1, 2]\n",
    "             }\n",
    "\n",
    "\n",
    "DTC = DecisionTreeClassifier(random_state = 11, max_features = \"auto\", class_weight = \"balanced\",max_depth = None)\n",
    "\n",
    "ABC = AdaBoostClassifier(base_estimator = DTC)\n",
    "\n",
    "# run grid search\n",
    "grid_search_ABC = GridSearchCV(ABC, param_grid=param_grid, scoring = 'f1_weighted',error_score='raise')\n",
    "\n",
    "grid_search_ABC.fit(X_train_res,y_train_res)\n",
    "\n",
    "print(\"The best parameters are:\",grid_search_ABC.best_params_)"
   ]
  },
  {
   "cell_type": "code",
   "execution_count": 29,
   "metadata": {},
   "outputs": [
    {
     "name": "stdout",
     "output_type": "stream",
     "text": [
      "0.8550212164073551\n",
      "              precision    recall  f1-score   support\n",
      "\n",
      "           1       0.86      0.84      0.85       619\n",
      "           2       0.75      0.78      0.77       448\n",
      "           3       0.86      0.85      0.85       765\n",
      "           4       0.91      0.91      0.91       650\n",
      "           5       0.88      0.88      0.88       346\n",
      "\n",
      "    accuracy                           0.86      2828\n",
      "   macro avg       0.85      0.85      0.85      2828\n",
      "weighted avg       0.86      0.86      0.86      2828\n",
      "\n"
     ]
    }
   ],
   "source": [
    "y_pred=grid_search_ABC.predict(X_test)\n",
    "\n",
    "filename = 'grid_search_ABC.sav'\n",
    "pickle.dump(grid_search_ABC, open(filename, 'wb')) \n",
    "print(accuracy_score(y_test,y_pred))\n",
    "# 0.8036175710594315\n",
    "print(classification_report(y_test,y_pred))"
   ]
  }
 ],
 "metadata": {
  "kernelspec": {
   "display_name": "Python 3",
   "language": "python",
   "name": "python3"
  },
  "language_info": {
   "codemirror_mode": {
    "name": "ipython",
    "version": 3
   },
   "file_extension": ".py",
   "mimetype": "text/x-python",
   "name": "python",
   "nbconvert_exporter": "python",
   "pygments_lexer": "ipython3",
   "version": "3.8.5"
  }
 },
 "nbformat": 4,
 "nbformat_minor": 5
}
