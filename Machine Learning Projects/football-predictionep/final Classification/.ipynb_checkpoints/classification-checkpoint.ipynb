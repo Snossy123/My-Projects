{
 "cells": [
  {
   "cell_type": "code",
   "execution_count": 5,
   "id": "a7ae2521-943e-44c7-a357-7cf91e5732df",
   "metadata": {},
   "outputs": [
    {
     "name": "stdout",
     "output_type": "stream",
     "text": [
      "Unnamed: 0              0\n",
      "age                     0\n",
      "height_cm               0\n",
      "weight_kgs              0\n",
      "overall_rating          0\n",
      "                       ..\n",
      "Wark Rate Detensivel    0\n",
      "body_type_Lean          0\n",
      "body_type_Normal        0\n",
      "body_type_Stocky        0\n",
      "value                   0\n",
      "Length: 80, dtype: int64\n"
     ]
    }
   ],
   "source": [
    "import pandas as pd\n",
    "data=pd.read_csv('player-classify-cleaned.csv')\n",
    "print (data.isnull().sum())"
   ]
  },
  {
   "cell_type": "code",
   "execution_count": 6,
   "id": "f12bc307-6640-4497-b2d2-463045ec3329",
   "metadata": {},
   "outputs": [
    {
     "data": {
      "text/html": [
       "<div>\n",
       "<style scoped>\n",
       "    .dataframe tbody tr th:only-of-type {\n",
       "        vertical-align: middle;\n",
       "    }\n",
       "\n",
       "    .dataframe tbody tr th {\n",
       "        vertical-align: top;\n",
       "    }\n",
       "\n",
       "    .dataframe thead th {\n",
       "        text-align: right;\n",
       "    }\n",
       "</style>\n",
       "<table border=\"1\" class=\"dataframe\">\n",
       "  <thead>\n",
       "    <tr style=\"text-align: right;\">\n",
       "      <th></th>\n",
       "      <th>Unnamed: 0</th>\n",
       "      <th>age</th>\n",
       "      <th>height_cm</th>\n",
       "      <th>weight_kgs</th>\n",
       "      <th>overall_rating</th>\n",
       "      <th>potential</th>\n",
       "      <th>wage</th>\n",
       "      <th>preferred_foot</th>\n",
       "      <th>international_reputation(1-5)</th>\n",
       "      <th>weak_foot(1-5)</th>\n",
       "      <th>...</th>\n",
       "      <th>CB</th>\n",
       "      <th>RCB</th>\n",
       "      <th>RB</th>\n",
       "      <th>contract_duration</th>\n",
       "      <th>Wark Rate Attcking</th>\n",
       "      <th>Wark Rate Detensivel</th>\n",
       "      <th>body_type_Lean</th>\n",
       "      <th>body_type_Normal</th>\n",
       "      <th>body_type_Stocky</th>\n",
       "      <th>value</th>\n",
       "    </tr>\n",
       "  </thead>\n",
       "  <tbody>\n",
       "    <tr>\n",
       "      <th>0</th>\n",
       "      <td>0</td>\n",
       "      <td>26.0</td>\n",
       "      <td>172.72</td>\n",
       "      <td>73.9</td>\n",
       "      <td>64.0</td>\n",
       "      <td>65.0</td>\n",
       "      <td>1000.0</td>\n",
       "      <td>1.0</td>\n",
       "      <td>1.0</td>\n",
       "      <td>3.0</td>\n",
       "      <td>...</td>\n",
       "      <td>50</td>\n",
       "      <td>50.0</td>\n",
       "      <td>56.0</td>\n",
       "      <td>2.0</td>\n",
       "      <td>2</td>\n",
       "      <td>1.0</td>\n",
       "      <td>0</td>\n",
       "      <td>1</td>\n",
       "      <td>0.0</td>\n",
       "      <td>C</td>\n",
       "    </tr>\n",
       "    <tr>\n",
       "      <th>1</th>\n",
       "      <td>1</td>\n",
       "      <td>32.0</td>\n",
       "      <td>187.96</td>\n",
       "      <td>79.8</td>\n",
       "      <td>72.0</td>\n",
       "      <td>72.0</td>\n",
       "      <td>11000.0</td>\n",
       "      <td>1.0</td>\n",
       "      <td>1.0</td>\n",
       "      <td>3.0</td>\n",
       "      <td>...</td>\n",
       "      <td>71</td>\n",
       "      <td>71.0</td>\n",
       "      <td>58.0</td>\n",
       "      <td>0.0</td>\n",
       "      <td>0</td>\n",
       "      <td>1.0</td>\n",
       "      <td>1</td>\n",
       "      <td>0</td>\n",
       "      <td>0.0</td>\n",
       "      <td>A</td>\n",
       "    </tr>\n",
       "    <tr>\n",
       "      <th>2</th>\n",
       "      <td>2</td>\n",
       "      <td>24.0</td>\n",
       "      <td>175.26</td>\n",
       "      <td>68.0</td>\n",
       "      <td>71.0</td>\n",
       "      <td>78.0</td>\n",
       "      <td>10000.0</td>\n",
       "      <td>1.0</td>\n",
       "      <td>1.0</td>\n",
       "      <td>3.0</td>\n",
       "      <td>...</td>\n",
       "      <td>47</td>\n",
       "      <td>47.0</td>\n",
       "      <td>51.0</td>\n",
       "      <td>3.0</td>\n",
       "      <td>2</td>\n",
       "      <td>1.0</td>\n",
       "      <td>1</td>\n",
       "      <td>0</td>\n",
       "      <td>0.0</td>\n",
       "      <td>A</td>\n",
       "    </tr>\n",
       "    <tr>\n",
       "      <th>3</th>\n",
       "      <td>3</td>\n",
       "      <td>31.0</td>\n",
       "      <td>187.96</td>\n",
       "      <td>83.0</td>\n",
       "      <td>72.0</td>\n",
       "      <td>72.0</td>\n",
       "      <td>9000.0</td>\n",
       "      <td>1.0</td>\n",
       "      <td>1.0</td>\n",
       "      <td>3.0</td>\n",
       "      <td>...</td>\n",
       "      <td>70</td>\n",
       "      <td>70.0</td>\n",
       "      <td>70.0</td>\n",
       "      <td>4.0</td>\n",
       "      <td>2</td>\n",
       "      <td>1.0</td>\n",
       "      <td>0</td>\n",
       "      <td>1</td>\n",
       "      <td>0.0</td>\n",
       "      <td>A</td>\n",
       "    </tr>\n",
       "    <tr>\n",
       "      <th>4</th>\n",
       "      <td>4</td>\n",
       "      <td>24.0</td>\n",
       "      <td>175.26</td>\n",
       "      <td>74.8</td>\n",
       "      <td>64.0</td>\n",
       "      <td>71.0</td>\n",
       "      <td>1000.0</td>\n",
       "      <td>1.0</td>\n",
       "      <td>1.0</td>\n",
       "      <td>3.0</td>\n",
       "      <td>...</td>\n",
       "      <td>58</td>\n",
       "      <td>58.0</td>\n",
       "      <td>61.0</td>\n",
       "      <td>3.0</td>\n",
       "      <td>1</td>\n",
       "      <td>1.0</td>\n",
       "      <td>1</td>\n",
       "      <td>0</td>\n",
       "      <td>0.0</td>\n",
       "      <td>C</td>\n",
       "    </tr>\n",
       "  </tbody>\n",
       "</table>\n",
       "<p>5 rows × 80 columns</p>\n",
       "</div>"
      ],
      "text/plain": [
       "   Unnamed: 0   age  height_cm  weight_kgs  overall_rating  potential  \\\n",
       "0           0  26.0     172.72        73.9            64.0       65.0   \n",
       "1           1  32.0     187.96        79.8            72.0       72.0   \n",
       "2           2  24.0     175.26        68.0            71.0       78.0   \n",
       "3           3  31.0     187.96        83.0            72.0       72.0   \n",
       "4           4  24.0     175.26        74.8            64.0       71.0   \n",
       "\n",
       "      wage  preferred_foot  international_reputation(1-5)  weak_foot(1-5)  \\\n",
       "0   1000.0             1.0                            1.0             3.0   \n",
       "1  11000.0             1.0                            1.0             3.0   \n",
       "2  10000.0             1.0                            1.0             3.0   \n",
       "3   9000.0             1.0                            1.0             3.0   \n",
       "4   1000.0             1.0                            1.0             3.0   \n",
       "\n",
       "   ...  CB   RCB    RB  contract_duration  Wark Rate Attcking  \\\n",
       "0  ...  50  50.0  56.0                2.0                   2   \n",
       "1  ...  71  71.0  58.0                0.0                   0   \n",
       "2  ...  47  47.0  51.0                3.0                   2   \n",
       "3  ...  70  70.0  70.0                4.0                   2   \n",
       "4  ...  58  58.0  61.0                3.0                   1   \n",
       "\n",
       "   Wark Rate Detensivel  body_type_Lean  body_type_Normal  body_type_Stocky  \\\n",
       "0                   1.0               0                 1               0.0   \n",
       "1                   1.0               1                 0               0.0   \n",
       "2                   1.0               1                 0               0.0   \n",
       "3                   1.0               0                 1               0.0   \n",
       "4                   1.0               1                 0               0.0   \n",
       "\n",
       "   value  \n",
       "0      C  \n",
       "1      A  \n",
       "2      A  \n",
       "3      A  \n",
       "4      C  \n",
       "\n",
       "[5 rows x 80 columns]"
      ]
     },
     "execution_count": 6,
     "metadata": {},
     "output_type": "execute_result"
    }
   ],
   "source": [
    "data.head()"
   ]
  },
  {
   "cell_type": "code",
   "execution_count": 7,
   "id": "bcae2e3d-53e3-4295-9d37-23790d65eb65",
   "metadata": {},
   "outputs": [],
   "source": [
    "data = data.iloc[: , 1:]"
   ]
  },
  {
   "cell_type": "code",
   "execution_count": 9,
   "id": "856451b1-db56-463a-b582-4cdbe7263ad5",
   "metadata": {},
   "outputs": [
    {
     "name": "stdout",
     "output_type": "stream",
     "text": [
      "0    3\n",
      "1    1\n",
      "2    1\n",
      "3    1\n",
      "4    3\n",
      "Name: value, dtype: int64\n"
     ]
    }
   ],
   "source": [
    "from sklearn.model_selection import train_test_split\n",
    "data['value']=data['value'].replace({'A':1,'B':2,'C':3,'D':4,'S':5})\n",
    "y = data['value']\n",
    "x = data.iloc[:, :-1]\n",
    "x_train,x_test,y_train,y_test=train_test_split(x,y,test_size=0.2,random_state=8)\n",
    "print (y.head())"
   ]
  },
  {
   "cell_type": "code",
   "execution_count": 10,
   "id": "b8651b20-64ad-472d-b64a-b3017e761b1a",
   "metadata": {},
   "outputs": [
    {
     "data": {
      "text/plain": [
       "age                     float64\n",
       "height_cm               float64\n",
       "weight_kgs              float64\n",
       "overall_rating          float64\n",
       "potential               float64\n",
       "                         ...   \n",
       "Wark Rate Attcking        int64\n",
       "Wark Rate Detensivel    float64\n",
       "body_type_Lean            int64\n",
       "body_type_Normal          int64\n",
       "body_type_Stocky        float64\n",
       "Length: 78, dtype: object"
      ]
     },
     "execution_count": 10,
     "metadata": {},
     "output_type": "execute_result"
    }
   ],
   "source": [
    "x_train.dtypes"
   ]
  },
  {
   "cell_type": "code",
   "execution_count": 11,
   "id": "f4afd99c-ac5d-4488-beb7-d8b29c769d6b",
   "metadata": {},
   "outputs": [],
   "source": [
    "# from sklearn.preprocessing import MinMaxScaler\n",
    "# # Normalization\n",
    "# # fit scaler on training data\n",
    "# norm = MinMaxScaler().fit(x_train)\n",
    "# # transform training data\n",
    "# x_train = norm.transform(x_train)\n",
    "# # transform testing dataabs\n",
    "# x_test = norm.transform(x_test)\n",
    "# # x_train\n",
    "# x_test"
   ]
  },
  {
   "cell_type": "code",
   "execution_count": 59,
   "id": "d139d378-cbcc-4908-b457-632817a86ac7",
   "metadata": {},
   "outputs": [
    {
     "name": "stdout",
     "output_type": "stream",
     "text": [
      "release_clause_euro             -0.418473\n",
      "overall_rating                  -0.314058\n",
      "wage                            -0.236101\n",
      "ball_control                    -0.174999\n",
      "reactions                       -0.173623\n",
      "                                   ...   \n",
      "value                            1.000000\n",
      "preferred_foot                        NaN\n",
      "international_reputation(1-5)         NaN\n",
      "weak_foot(1-5)                        NaN\n",
      "Wark Rate Detensivel                  NaN\n",
      "Name: value, Length: 78, dtype: float64\n"
     ]
    }
   ],
   "source": [
    "import seaborn as sns\n",
    "import matplotlib.pyplot as plt\n",
    "#get correlations of each features in dataset\n",
    "corr_df = data.corr(method ='kendall').sort_values(by=['value']).iloc[:-1,-1]\n",
    "print (corr_df)\n",
    "# feature_nonan =  dict(corr_df)\n",
    "# x = x[top_feature]"
   ]
  },
  {
   "cell_type": "code",
   "execution_count": 60,
   "id": "d0fd31e2-993b-41ea-a319-480cf6724d20",
   "metadata": {},
   "outputs": [],
   "source": [
    "corr_df.dropna(inplace=True)"
   ]
  },
  {
   "cell_type": "code",
   "execution_count": 61,
   "id": "834bb497-f7d4-4945-aacf-aec5f4040d53",
   "metadata": {},
   "outputs": [],
   "source": [
    "corr_df = corr_df.iloc[0:-1]"
   ]
  },
  {
   "cell_type": "code",
   "execution_count": 68,
   "id": "7ddcf749-ec51-4f67-bc37-94c59e28fda6",
   "metadata": {},
   "outputs": [
    {
     "name": "stdout",
     "output_type": "stream",
     "text": [
      "27.687411598302685\n",
      "87.44695898161244\n",
      "86.31541725601132\n"
     ]
    }
   ],
   "source": [
    "l = list(range(-1,2,1))\n",
    "for i in l:\n",
    "    best_feature = dict(corr_df[i:])\n",
    "    x= data[best_feature.keys()]\n",
    "    x.shape\n",
    "    from sklearn.model_selection import train_test_split\n",
    "    X_train,X_test,y_train,y_test=train_test_split(x,y,test_size=0.2,random_state=8)\n",
    "        # check version number\n",
    "    from sklearn.ensemble import RandomForestClassifier\n",
    "    from imblearn import under_sampling, over_sampling\n",
    "    # print(imblearn.__version__)\n",
    "    from sklearn.preprocessing import StandardScaler\n",
    "    scaler=StandardScaler()\n",
    "    X_train=pd.DataFrame(scaler.fit_transform(X_train))\n",
    "    X_test=pd.DataFrame(scaler.transform(X_test))\n",
    "    from imblearn.over_sampling import SMOTE\n",
    "    sm=SMOTE(random_state=2)\n",
    "    X_train_res,y_train_res=sm.fit_resample(X_train,y_train)\n",
    "    from sklearn.ensemble import RandomForestClassifier\n",
    "    from sklearn.neighbors import KNeighborsClassifier\n",
    "    from sklearn.ensemble import AdaBoostClassifier\n",
    "    from sklearn.tree import DecisionTreeClassifier\n",
    "    from sklearn.svm import SVC\n",
    "    from sklearn.metrics import accuracy_score\n",
    "    from sklearn.metrics import classification_report \n",
    "    model_svc=SVC()\n",
    "    model_svc.fit(X_train,y_train)\n",
    "    y_pred=model_svc.predict(X_test)\n",
    "    print(accuracy_score(y_test,y_pred)*100)\n",
    "    # 0.7661498708010336\n",
    "    # print(classification_report(y_test,y_pred))"
   ]
  },
  {
   "cell_type": "code",
   "execution_count": 81,
   "id": "1e6f0e0a-0699-44d7-93b6-6a76dfa354e1",
   "metadata": {},
   "outputs": [
    {
     "data": {
      "text/plain": [
       "release_clause_euro   -0.418473\n",
       "overall_rating        -0.314058\n",
       "wage                  -0.236101\n",
       "ball_control          -0.174999\n",
       "reactions             -0.173623\n",
       "                         ...   \n",
       "GK_positioning         0.019085\n",
       "GK_kicking             0.019867\n",
       "body_type_Lean         0.021074\n",
       "GK_diving              0.022997\n",
       "contract_duration      0.038875\n",
       "Name: value, Length: 73, dtype: float64"
      ]
     },
     "execution_count": 81,
     "metadata": {},
     "output_type": "execute_result"
    }
   ],
   "source": [
    "corr_df[0:]"
   ]
  },
  {
   "cell_type": "code",
   "execution_count": 82,
   "id": "05e61a4f-332c-4238-83fa-468eed684826",
   "metadata": {},
   "outputs": [
    {
     "data": {
      "text/plain": [
       "(14136, 73)"
      ]
     },
     "execution_count": 82,
     "metadata": {},
     "output_type": "execute_result"
    }
   ],
   "source": [
    "best_feature = dict(corr_df[0:])\n",
    "x= data[best_feature.keys()]\n",
    "x.shape"
   ]
  },
  {
   "cell_type": "code",
   "execution_count": 83,
   "id": "e06051b1-82a3-4a12-ae13-f3a243af1353",
   "metadata": {},
   "outputs": [],
   "source": [
    "from sklearn.model_selection import train_test_split\n",
    "X_train,X_test,y_train,y_test=train_test_split(x,y,test_size=0.2,random_state=8)"
   ]
  },
  {
   "cell_type": "code",
   "execution_count": 84,
   "id": "671dd069-15a3-4983-98f9-5e411b0256c2",
   "metadata": {},
   "outputs": [
    {
     "data": {
      "text/plain": [
       "3    2954\n",
       "4    2638\n",
       "1    2391\n",
       "2    1865\n",
       "5    1460\n",
       "Name: value, dtype: int64"
      ]
     },
     "execution_count": 84,
     "metadata": {},
     "output_type": "execute_result"
    }
   ],
   "source": [
    "y_train.value_counts()"
   ]
  },
  {
   "cell_type": "code",
   "execution_count": 85,
   "id": "b13e5f74-3e42-4909-8721-e79535aaccd9",
   "metadata": {},
   "outputs": [],
   "source": [
    "# pip install -U imbalanced-learn"
   ]
  },
  {
   "cell_type": "code",
   "execution_count": 86,
   "id": "7d36f5b7-a9b6-488a-8b8c-a2398685ff3f",
   "metadata": {},
   "outputs": [],
   "source": [
    "# check version number\n",
    "from sklearn.ensemble import RandomForestClassifier\n",
    "from imblearn import under_sampling, over_sampling\n",
    "# print(imblearn.__version__)"
   ]
  },
  {
   "cell_type": "code",
   "execution_count": 87,
   "id": "13e22867-bc3b-420e-8d91-bd922b53dba0",
   "metadata": {},
   "outputs": [],
   "source": [
    "from sklearn.preprocessing import StandardScaler\n",
    "scaler=StandardScaler()\n",
    "X_train=pd.DataFrame(scaler.fit_transform(X_train))\n",
    "X_test=pd.DataFrame(scaler.transform(X_test))"
   ]
  },
  {
   "cell_type": "code",
   "execution_count": 88,
   "id": "33e671fa-4df0-4d04-91c3-5f0a6991aa10",
   "metadata": {},
   "outputs": [],
   "source": [
    "from imblearn.over_sampling import SMOTE\n",
    "sm=SMOTE(random_state=2)\n",
    "X_train_res,y_train_res=sm.fit_resample(X_train,y_train)"
   ]
  },
  {
   "cell_type": "code",
   "execution_count": 89,
   "id": "bd256d21-db87-474f-8cd5-b68b4c3e61df",
   "metadata": {},
   "outputs": [
    {
     "name": "stdout",
     "output_type": "stream",
     "text": [
      "Counter({5: 2954, 3: 2954, 1: 2954, 4: 2954, 2: 2954})\n"
     ]
    }
   ],
   "source": [
    "# summarize the new class distribution\n",
    "from collections import Counter\n",
    "counter = Counter(y_train_res)\n",
    "print(counter)"
   ]
  },
  {
   "cell_type": "code",
   "execution_count": 90,
   "id": "a991276b-5e04-4f5b-856e-d2b1c3463ca8",
   "metadata": {},
   "outputs": [],
   "source": [
    "from sklearn.ensemble import RandomForestClassifier\n",
    "from sklearn.neighbors import KNeighborsClassifier\n",
    "from sklearn.ensemble import AdaBoostClassifier"
   ]
  },
  {
   "cell_type": "code",
   "execution_count": 91,
   "id": "d5b168c4-5ab5-4191-9c26-7f7653141421",
   "metadata": {},
   "outputs": [
    {
     "name": "stdout",
     "output_type": "stream",
     "text": [
      "87.44695898161244\n",
      "              precision    recall  f1-score   support\n",
      "\n",
      "           1       0.88      0.86      0.87       619\n",
      "           2       0.77      0.83      0.80       448\n",
      "           3       0.87      0.88      0.88       765\n",
      "           4       0.94      0.91      0.92       650\n",
      "           5       0.90      0.89      0.89       346\n",
      "\n",
      "    accuracy                           0.87      2828\n",
      "   macro avg       0.87      0.87      0.87      2828\n",
      "weighted avg       0.88      0.87      0.88      2828\n",
      "\n"
     ]
    }
   ],
   "source": [
    "from sklearn.tree import DecisionTreeClassifier\n",
    "from sklearn.svm import SVC\n",
    "from sklearn.metrics import accuracy_score\n",
    "from sklearn.metrics import classification_report \n",
    "model_svc=SVC()\n",
    "model_svc.fit(X_train,y_train)\n",
    "y_pred=model_svc.predict(X_test)\n",
    "print(accuracy_score(y_test,y_pred)*100)\n",
    "# 0.7661498708010336\n",
    "print(classification_report(y_test,y_pred))"
   ]
  },
  {
   "cell_type": "code",
   "execution_count": 92,
   "id": "f639dc53-2b71-46b1-b9aa-d3b617f559cf",
   "metadata": {},
   "outputs": [
    {
     "name": "stdout",
     "output_type": "stream",
     "text": [
      "0.8613861386138614\n",
      "              precision    recall  f1-score   support\n",
      "\n",
      "           1       0.87      0.85      0.86       619\n",
      "           2       0.67      0.82      0.74       448\n",
      "           3       0.90      0.81      0.86       765\n",
      "           4       0.96      0.92      0.94       650\n",
      "           5       0.88      0.92      0.90       346\n",
      "\n",
      "    accuracy                           0.86      2828\n",
      "   macro avg       0.86      0.87      0.86      2828\n",
      "weighted avg       0.87      0.86      0.86      2828\n",
      "\n"
     ]
    }
   ],
   "source": [
    "model_dt=DecisionTreeClassifier(class_weight='balanced',max_depth=5)\n",
    "model_dt.fit(X_train_res,y_train_res)\n",
    "y_pred=model_dt.predict(X_test)\n",
    "print(accuracy_score(y_test,y_pred))\n",
    "# 0.7609819121447028\n",
    "print(classification_report(y_test,y_pred))"
   ]
  },
  {
   "cell_type": "code",
   "execution_count": 93,
   "id": "a5e075db-d738-4db0-9a35-66026f233503",
   "metadata": {},
   "outputs": [
    {
     "name": "stdout",
     "output_type": "stream",
     "text": [
      "0.8613861386138614\n",
      "              precision    recall  f1-score   support\n",
      "\n",
      "           1       0.87      0.85      0.86       619\n",
      "           2       0.67      0.82      0.74       448\n",
      "           3       0.90      0.81      0.86       765\n",
      "           4       0.96      0.92      0.94       650\n",
      "           5       0.88      0.92      0.90       346\n",
      "\n",
      "    accuracy                           0.86      2828\n",
      "   macro avg       0.86      0.87      0.86      2828\n",
      "weighted avg       0.87      0.86      0.86      2828\n",
      "\n"
     ]
    }
   ],
   "source": [
    "model_rf=RandomForestClassifier(class_weight='balanced',random_state=1,max_depth=5,\\\n",
    "                                  n_estimators=10,max_features=1)\n",
    "model_rf.fit(X_train_res,y_train_res)\n",
    "ypred=model_rf.predict(X_test)\n",
    "print(accuracy_score(y_test,y_pred))\n",
    "# 0.5930232558139535\n",
    "print(classification_report(y_test,y_pred))"
   ]
  },
  {
   "cell_type": "code",
   "execution_count": 94,
   "id": "0a4794c3-bffe-4864-a96d-a39bc0ae81f9",
   "metadata": {},
   "outputs": [
    {
     "name": "stdout",
     "output_type": "stream",
     "text": [
      "0.6941301272984441\n",
      "              precision    recall  f1-score   support\n",
      "\n",
      "           1       0.79      0.62      0.69       619\n",
      "           2       0.45      0.74      0.56       448\n",
      "           3       0.72      0.53      0.61       765\n",
      "           4       0.86      0.81      0.83       650\n",
      "           5       0.74      0.91      0.82       346\n",
      "\n",
      "    accuracy                           0.69      2828\n",
      "   macro avg       0.71      0.72      0.70      2828\n",
      "weighted avg       0.73      0.69      0.70      2828\n",
      "\n"
     ]
    }
   ],
   "source": [
    "model_knn=KNeighborsClassifier(5)\n",
    "model_knn.fit(X_train_res,y_train_res)\n",
    "y_pred=model_knn.predict(X_test)\n",
    "print(accuracy_score(y_test,y_pred))\n",
    "# 0.6821705426356589\n",
    "print(classification_report(y_test,y_pred))"
   ]
  },
  {
   "cell_type": "code",
   "execution_count": 95,
   "id": "89cd24b8-0306-40ae-85e2-20edb49a69ec",
   "metadata": {},
   "outputs": [
    {
     "name": "stdout",
     "output_type": "stream",
     "text": [
      "0.6138613861386139\n",
      "              precision    recall  f1-score   support\n",
      "\n",
      "           1       0.86      0.71      0.78       619\n",
      "           2       0.55      0.85      0.67       448\n",
      "           3       0.00      0.00      0.00       765\n",
      "           4       0.49      0.94      0.64       650\n",
      "           5       0.83      0.87      0.85       346\n",
      "\n",
      "    accuracy                           0.61      2828\n",
      "   macro avg       0.55      0.68      0.59      2828\n",
      "weighted avg       0.49      0.61      0.53      2828\n",
      "\n"
     ]
    },
    {
     "name": "stderr",
     "output_type": "stream",
     "text": [
      "D:\\fcis 3rd 2nd semester\\NLP\\Program\\instaillation1\\lib\\site-packages\\sklearn\\metrics\\_classification.py:1327: UndefinedMetricWarning: Precision and F-score are ill-defined and being set to 0.0 in labels with no predicted samples. Use `zero_division` parameter to control this behavior.\n",
      "  _warn_prf(average, modifier, msg_start, len(result))\n",
      "D:\\fcis 3rd 2nd semester\\NLP\\Program\\instaillation1\\lib\\site-packages\\sklearn\\metrics\\_classification.py:1327: UndefinedMetricWarning: Precision and F-score are ill-defined and being set to 0.0 in labels with no predicted samples. Use `zero_division` parameter to control this behavior.\n",
      "  _warn_prf(average, modifier, msg_start, len(result))\n",
      "D:\\fcis 3rd 2nd semester\\NLP\\Program\\instaillation1\\lib\\site-packages\\sklearn\\metrics\\_classification.py:1327: UndefinedMetricWarning: Precision and F-score are ill-defined and being set to 0.0 in labels with no predicted samples. Use `zero_division` parameter to control this behavior.\n",
      "  _warn_prf(average, modifier, msg_start, len(result))\n"
     ]
    }
   ],
   "source": [
    "model_ada=AdaBoostClassifier(learning_rate=0.01)\n",
    "model_ada.fit(X_train_res,y_train_res)\n",
    "y_pred=model_ada.predict(X_test)\n",
    "print(accuracy_score(y_test,y_pred))\n",
    "# 0.8126614987080103\n",
    "print(classification_report(y_test,y_pred))"
   ]
  },
  {
   "cell_type": "code",
   "execution_count": 96,
   "id": "29590b6b-3b74-4df3-9e87-3d75fcc78f6f",
   "metadata": {},
   "outputs": [
    {
     "name": "stdout",
     "output_type": "stream",
     "text": [
      "dict_keys([5, 3, 1, 4, 2])\n"
     ]
    }
   ],
   "source": [
    "import numpy as np\n",
    "from sklearn.model_selection import GridSearchCV\n",
    "ada_clf=AdaBoostClassifier()\n",
    "params={\n",
    "     'n_estimators':np.arange(10,300,10),\n",
    "     'learning_rate':[0.01,0.05,0.1,1]\n",
    "}\n",
    "classes=Counter(y_train_res).keys()\n",
    "print(classes)"
   ]
  },
  {
   "cell_type": "code",
   "execution_count": 97,
   "id": "54544856-0963-4529-b862-06aece643a6a",
   "metadata": {},
   "outputs": [
    {
     "name": "stdout",
     "output_type": "stream",
     "text": [
      "The best parameters are: {'base_estimator__criterion': 'gini', 'base_estimator__splitter': 'best', 'n_estimators': 2}\n"
     ]
    }
   ],
   "source": [
    "from sklearn.tree import DecisionTreeClassifier\n",
    "from sklearn.ensemble import AdaBoostClassifier\n",
    "from sklearn.model_selection import GridSearchCV \n",
    "\n",
    "param_grid = {\"base_estimator__criterion\" : [\"gini\", \"entropy\"],\n",
    "              \"base_estimator__splitter\" :   [\"best\", \"random\"],\n",
    "              \"n_estimators\": [1, 2]\n",
    "             }\n",
    "\n",
    "\n",
    "DTC = DecisionTreeClassifier(random_state = 11, max_features = \"auto\", class_weight = \"balanced\",max_depth = None)\n",
    "\n",
    "ABC = AdaBoostClassifier(base_estimator = DTC)\n",
    "\n",
    "# run grid search\n",
    "grid_search_ABC = GridSearchCV(ABC, param_grid=param_grid, scoring = 'f1_weighted',error_score='raise')\n",
    "\n",
    "grid_search_ABC.fit(X_train_res,y_train_res)\n",
    "\n",
    "print(\"The best parameters are:\",grid_search_ABC.best_params_)"
   ]
  },
  {
   "cell_type": "code",
   "execution_count": 98,
   "id": "d5039301-3247-4500-aeb2-77a042399867",
   "metadata": {},
   "outputs": [
    {
     "name": "stdout",
     "output_type": "stream",
     "text": [
      "0.7956152758132956\n",
      "              precision    recall  f1-score   support\n",
      "\n",
      "           1       0.79      0.78      0.79       619\n",
      "           2       0.65      0.66      0.66       448\n",
      "           3       0.80      0.78      0.79       765\n",
      "           4       0.89      0.89      0.89       650\n",
      "           5       0.81      0.84      0.82       346\n",
      "\n",
      "    accuracy                           0.80      2828\n",
      "   macro avg       0.79      0.79      0.79      2828\n",
      "weighted avg       0.80      0.80      0.80      2828\n",
      "\n"
     ]
    }
   ],
   "source": [
    "y_pred=grid_search_ABC.predict(X_test)\n",
    "print(accuracy_score(y_test,y_pred))\n",
    "# 0.8036175710594315\n",
    "print(classification_report(y_test,y_pred))"
   ]
  },
  {
   "cell_type": "code",
   "execution_count": 51,
   "id": "ef0f4676-1c2d-407b-91bc-1aaf4c59404f",
   "metadata": {},
   "outputs": [],
   "source": [
    "# from sklearn.model_selection import train_test_split\n",
    "# from sklearn.model_selection import train_test_split\n",
    "# # check version number\n",
    "# from sklearn.ensemble import RandomForestClassifier\n",
    "# from imblearn import under_sampling, over_sampling\n",
    "# from sklearn.preprocessing import StandardScaler\n",
    "# from imblearn.over_sampling import SMOTE\n",
    "# from collections import Counter\n",
    "# from sklearn.ensemble import RandomForestClassifier\n",
    "# from sklearn.neighbors import KNeighborsClassifier\n",
    "# from sklearn.ensemble import AdaBoostClassifier\n",
    "# from sklearn.tree import DecisionTreeClassifier\n",
    "# from sklearn.svm import SVC\n",
    "# from sklearn.metrics import accuracy_score\n",
    "# from sklearn.metrics import classification_report \n",
    "# import numpy as np\n",
    "# from sklearn.model_selection import GridSearchCV\n",
    "# from sklearn.tree import DecisionTreeClassifier\n",
    "# from sklearn.ensemble import AdaBoostClassifier\n",
    "# from sklearn.model_selection import GridSearchCV "
   ]
  },
  {
   "cell_type": "code",
   "execution_count": 52,
   "id": "aeaa5864-6bf3-415c-a495-7efbc8c652b3",
   "metadata": {},
   "outputs": [],
   "source": [
    "def classification(file):\n",
    "    data=pd.read_csv(file)\n",
    "    data = data.iloc[: , 1:]\n",
    "    data['PlayerLevel']=data['PlayerLevel'].replace({'A':1,'B':2,'C':3,'D':4,'S':5})\n",
    "    y = data['PlayerLevel']\n",
    "    x = data.iloc[:, :-1]\n",
    "    #get correlations of each features in dataset\n",
    "    corr_df = data.corr(method ='kendall').sort_values(by=['PlayerLevel']).iloc[:-1,-1]\n",
    "    corrdf=[]\n",
    "    for i in corr_df:\n",
    "        if (i > 0.0 ):\n",
    "            corrdf.append(i)\n",
    "    feature_nonan =  dict(corr_df)\n",
    "    best_feature = dict(corrdf)\n",
    "    # x = data[best_feature.keys()]\n",
    "    # X_train,X_test,y_train,y_test=train_test_split(x,y,test_size=0.2,random_state=8)\n",
    "    # scaler=StandardScaler()\n",
    "    # X_train=pd.DataFrame(scaler.fit_transform(X_train))\n",
    "    # X_test=pd.DataFrame(scaler.transform(X_test))\n",
    "    # sm=SMOTE(random_state=2)\n",
    "    # X_train_res,y_train_res=sm.fit_resample(X_train,y_train)\n",
    "    # # summarize the new class distribution\n",
    "    # counter = Counter(y_train_res)\n",
    "    # model_svc=SVC()\n",
    "    # model_svc.fit(X_train,y_train)\n",
    "    # y_pred=model_svc.predict(X_test)\n",
    "    # print(\"SVM : \" , accuracy_score(y_test,y_pred)*100)\n",
    "    # # 0.7661498708010336\n",
    "    # print(\"SVM : \" ,classification_report(y_test,y_pred))\n",
    "    # model_dt=DecisionTreeClassifier(class_weight='balanced',max_depth=5)\n",
    "    # model_dt.fit(X_train_res,y_train_res)\n",
    "    # y_pred=model_dt.predict(X_test)\n",
    "    # print(\"Decision Tree : \",accuracy_score(y_test,y_pred))\n",
    "    # # 0.7609819121447028\n",
    "    # print(\"Decision Tree : \",classification_report(y_test,y_pred))\n",
    "    # model_rf=RandomForestClassifier(class_weight='balanced',random_state=1,max_depth=5,\\\n",
    "    #                               n_estimators=10,max_features=1)\n",
    "    # model_rf.fit(X_train_res,y_train_res)\n",
    "    # ypred=model_rf.predict(X_test)\n",
    "    # print(\"Random Forest : \",accuracy_score(y_test,y_pred))\n",
    "    # # 0.5930232558139535\n",
    "    # print(\"Random Forest : \",classification_report(y_test,y_pred))\n",
    "    # model_knn=KNeighborsClassifier(5)\n",
    "    # model_knn.fit(X_train_res,y_train_res)\n",
    "    # y_pred=model_knn.predict(X_test)\n",
    "    # print(\"KNN : \",accuracy_score(y_test,y_pred))\n",
    "    # # 0.6821705426356589\n",
    "    # print(\"KNN : \",classification_report(y_test,y_pred))\n",
    "    # model_ada=AdaBoostClassifier(learning_rate=0.01)\n",
    "    # model_ada.fit(X_train_res,y_train_res)\n",
    "    # y_pred=model_ada.predict(X_test)\n",
    "    # print(\"Adabost : \",accuracy_score(y_test,y_pred))\n",
    "    # # 0.8126614987080103\n",
    "    # print(\"Adabost : \",classification_report(y_test,y_pred))\n",
    "    # ada_clf=AdaBoostClassifier()\n",
    "    # params={\n",
    "    #      'n_estimators':np.arange(10,300,10),\n",
    "    #      'learning_rate':[0.01,0.05,0.1,1]\n",
    "    # }\n",
    "    # classes=Counter(y_train_res).keys()\n",
    "    # print(\"GridSearchCV: \",classes)\n",
    "    # param_grid = {\"base_estimator__criterion\" : [\"gini\", \"entropy\"],\n",
    "    #               \"base_estimator__splitter\" :   [\"best\", \"random\"],\n",
    "    #               \"n_estimators\": [1, 2]\n",
    "    #              }\n",
    "    # DTC = DecisionTreeClassifier(random_state = 11, max_features = \"auto\", class_weight = \"balanced\",max_depth = None)\n",
    "    # ABC = AdaBoostClassifier(base_estimator = DTC)\n",
    "    # # run grid search\n",
    "    # grid_search_ABC = GridSearchCV(ABC, param_grid=param_grid, scoring = 'f1_weighted',error_score='raise')\n",
    "    # grid_search_ABC.fit(X_train_res,y_train_res)\n",
    "    # print(\"The best parameters are:\",grid_search_ABC.best_params_)\n",
    "    # y_pred=grid_search_ABC.predict(X_test)\n",
    "    # print(\"GridSearchCV: \" , accuracy_score(y_test,y_pred))\n",
    "    # # 0.8036175710594315\n",
    "    # print(\"GridSearchCV: \" ,classification_report(y_test,y_pred))"
   ]
  },
  {
   "cell_type": "code",
   "execution_count": 53,
   "id": "01e498c5-c712-4a2e-bcbe-b1da4d012d62",
   "metadata": {},
   "outputs": [
    {
     "ename": "FileNotFoundError",
     "evalue": "[Errno 2] No such file or directory: 'player-value-classification-cleaned.csv'",
     "output_type": "error",
     "traceback": [
      "\u001b[1;31m---------------------------------------------------------------------------\u001b[0m",
      "\u001b[1;31mFileNotFoundError\u001b[0m                         Traceback (most recent call last)",
      "\u001b[1;32m~\\AppData\\Local\\Temp/ipykernel_1748/1197013377.py\u001b[0m in \u001b[0;36m<module>\u001b[1;34m\u001b[0m\n\u001b[1;32m----> 1\u001b[1;33m \u001b[0mclassification\u001b[0m\u001b[1;33m(\u001b[0m\u001b[1;34m'player-value-classification-cleaned.csv'\u001b[0m\u001b[1;33m)\u001b[0m\u001b[1;33m\u001b[0m\u001b[1;33m\u001b[0m\u001b[0m\n\u001b[0m",
      "\u001b[1;32m~\\AppData\\Local\\Temp/ipykernel_1748/2384289850.py\u001b[0m in \u001b[0;36mclassification\u001b[1;34m(file)\u001b[0m\n\u001b[0;32m      1\u001b[0m \u001b[1;32mdef\u001b[0m \u001b[0mclassification\u001b[0m\u001b[1;33m(\u001b[0m\u001b[0mfile\u001b[0m\u001b[1;33m)\u001b[0m\u001b[1;33m:\u001b[0m\u001b[1;33m\u001b[0m\u001b[1;33m\u001b[0m\u001b[0m\n\u001b[1;32m----> 2\u001b[1;33m     \u001b[0mdata\u001b[0m\u001b[1;33m=\u001b[0m\u001b[0mpd\u001b[0m\u001b[1;33m.\u001b[0m\u001b[0mread_csv\u001b[0m\u001b[1;33m(\u001b[0m\u001b[0mfile\u001b[0m\u001b[1;33m)\u001b[0m\u001b[1;33m\u001b[0m\u001b[1;33m\u001b[0m\u001b[0m\n\u001b[0m\u001b[0;32m      3\u001b[0m     \u001b[0mdata\u001b[0m \u001b[1;33m=\u001b[0m \u001b[0mdata\u001b[0m\u001b[1;33m.\u001b[0m\u001b[0miloc\u001b[0m\u001b[1;33m[\u001b[0m\u001b[1;33m:\u001b[0m \u001b[1;33m,\u001b[0m \u001b[1;36m1\u001b[0m\u001b[1;33m:\u001b[0m\u001b[1;33m]\u001b[0m\u001b[1;33m\u001b[0m\u001b[1;33m\u001b[0m\u001b[0m\n\u001b[0;32m      4\u001b[0m     \u001b[0mdata\u001b[0m\u001b[1;33m[\u001b[0m\u001b[1;34m'PlayerLevel'\u001b[0m\u001b[1;33m]\u001b[0m\u001b[1;33m=\u001b[0m\u001b[0mdata\u001b[0m\u001b[1;33m[\u001b[0m\u001b[1;34m'PlayerLevel'\u001b[0m\u001b[1;33m]\u001b[0m\u001b[1;33m.\u001b[0m\u001b[0mreplace\u001b[0m\u001b[1;33m(\u001b[0m\u001b[1;33m{\u001b[0m\u001b[1;34m'A'\u001b[0m\u001b[1;33m:\u001b[0m\u001b[1;36m1\u001b[0m\u001b[1;33m,\u001b[0m\u001b[1;34m'B'\u001b[0m\u001b[1;33m:\u001b[0m\u001b[1;36m2\u001b[0m\u001b[1;33m,\u001b[0m\u001b[1;34m'C'\u001b[0m\u001b[1;33m:\u001b[0m\u001b[1;36m3\u001b[0m\u001b[1;33m,\u001b[0m\u001b[1;34m'D'\u001b[0m\u001b[1;33m:\u001b[0m\u001b[1;36m4\u001b[0m\u001b[1;33m,\u001b[0m\u001b[1;34m'S'\u001b[0m\u001b[1;33m:\u001b[0m\u001b[1;36m5\u001b[0m\u001b[1;33m}\u001b[0m\u001b[1;33m)\u001b[0m\u001b[1;33m\u001b[0m\u001b[1;33m\u001b[0m\u001b[0m\n\u001b[0;32m      5\u001b[0m     \u001b[0my\u001b[0m \u001b[1;33m=\u001b[0m \u001b[0mdata\u001b[0m\u001b[1;33m[\u001b[0m\u001b[1;34m'PlayerLevel'\u001b[0m\u001b[1;33m]\u001b[0m\u001b[1;33m\u001b[0m\u001b[1;33m\u001b[0m\u001b[0m\n",
      "\u001b[1;32mD:\\fcis 3rd 2nd semester\\NLP\\Program\\instaillation1\\lib\\site-packages\\pandas\\util\\_decorators.py\u001b[0m in \u001b[0;36mwrapper\u001b[1;34m(*args, **kwargs)\u001b[0m\n\u001b[0;32m    309\u001b[0m                     \u001b[0mstacklevel\u001b[0m\u001b[1;33m=\u001b[0m\u001b[0mstacklevel\u001b[0m\u001b[1;33m,\u001b[0m\u001b[1;33m\u001b[0m\u001b[1;33m\u001b[0m\u001b[0m\n\u001b[0;32m    310\u001b[0m                 )\n\u001b[1;32m--> 311\u001b[1;33m             \u001b[1;32mreturn\u001b[0m \u001b[0mfunc\u001b[0m\u001b[1;33m(\u001b[0m\u001b[1;33m*\u001b[0m\u001b[0margs\u001b[0m\u001b[1;33m,\u001b[0m \u001b[1;33m**\u001b[0m\u001b[0mkwargs\u001b[0m\u001b[1;33m)\u001b[0m\u001b[1;33m\u001b[0m\u001b[1;33m\u001b[0m\u001b[0m\n\u001b[0m\u001b[0;32m    312\u001b[0m \u001b[1;33m\u001b[0m\u001b[0m\n\u001b[0;32m    313\u001b[0m         \u001b[1;32mreturn\u001b[0m \u001b[0mwrapper\u001b[0m\u001b[1;33m\u001b[0m\u001b[1;33m\u001b[0m\u001b[0m\n",
      "\u001b[1;32mD:\\fcis 3rd 2nd semester\\NLP\\Program\\instaillation1\\lib\\site-packages\\pandas\\io\\parsers\\readers.py\u001b[0m in \u001b[0;36mread_csv\u001b[1;34m(filepath_or_buffer, sep, delimiter, header, names, index_col, usecols, squeeze, prefix, mangle_dupe_cols, dtype, engine, converters, true_values, false_values, skipinitialspace, skiprows, skipfooter, nrows, na_values, keep_default_na, na_filter, verbose, skip_blank_lines, parse_dates, infer_datetime_format, keep_date_col, date_parser, dayfirst, cache_dates, iterator, chunksize, compression, thousands, decimal, lineterminator, quotechar, quoting, doublequote, escapechar, comment, encoding, encoding_errors, dialect, error_bad_lines, warn_bad_lines, on_bad_lines, delim_whitespace, low_memory, memory_map, float_precision, storage_options)\u001b[0m\n\u001b[0;32m    584\u001b[0m     \u001b[0mkwds\u001b[0m\u001b[1;33m.\u001b[0m\u001b[0mupdate\u001b[0m\u001b[1;33m(\u001b[0m\u001b[0mkwds_defaults\u001b[0m\u001b[1;33m)\u001b[0m\u001b[1;33m\u001b[0m\u001b[1;33m\u001b[0m\u001b[0m\n\u001b[0;32m    585\u001b[0m \u001b[1;33m\u001b[0m\u001b[0m\n\u001b[1;32m--> 586\u001b[1;33m     \u001b[1;32mreturn\u001b[0m \u001b[0m_read\u001b[0m\u001b[1;33m(\u001b[0m\u001b[0mfilepath_or_buffer\u001b[0m\u001b[1;33m,\u001b[0m \u001b[0mkwds\u001b[0m\u001b[1;33m)\u001b[0m\u001b[1;33m\u001b[0m\u001b[1;33m\u001b[0m\u001b[0m\n\u001b[0m\u001b[0;32m    587\u001b[0m \u001b[1;33m\u001b[0m\u001b[0m\n\u001b[0;32m    588\u001b[0m \u001b[1;33m\u001b[0m\u001b[0m\n",
      "\u001b[1;32mD:\\fcis 3rd 2nd semester\\NLP\\Program\\instaillation1\\lib\\site-packages\\pandas\\io\\parsers\\readers.py\u001b[0m in \u001b[0;36m_read\u001b[1;34m(filepath_or_buffer, kwds)\u001b[0m\n\u001b[0;32m    480\u001b[0m \u001b[1;33m\u001b[0m\u001b[0m\n\u001b[0;32m    481\u001b[0m     \u001b[1;31m# Create the parser.\u001b[0m\u001b[1;33m\u001b[0m\u001b[1;33m\u001b[0m\u001b[0m\n\u001b[1;32m--> 482\u001b[1;33m     \u001b[0mparser\u001b[0m \u001b[1;33m=\u001b[0m \u001b[0mTextFileReader\u001b[0m\u001b[1;33m(\u001b[0m\u001b[0mfilepath_or_buffer\u001b[0m\u001b[1;33m,\u001b[0m \u001b[1;33m**\u001b[0m\u001b[0mkwds\u001b[0m\u001b[1;33m)\u001b[0m\u001b[1;33m\u001b[0m\u001b[1;33m\u001b[0m\u001b[0m\n\u001b[0m\u001b[0;32m    483\u001b[0m \u001b[1;33m\u001b[0m\u001b[0m\n\u001b[0;32m    484\u001b[0m     \u001b[1;32mif\u001b[0m \u001b[0mchunksize\u001b[0m \u001b[1;32mor\u001b[0m \u001b[0miterator\u001b[0m\u001b[1;33m:\u001b[0m\u001b[1;33m\u001b[0m\u001b[1;33m\u001b[0m\u001b[0m\n",
      "\u001b[1;32mD:\\fcis 3rd 2nd semester\\NLP\\Program\\instaillation1\\lib\\site-packages\\pandas\\io\\parsers\\readers.py\u001b[0m in \u001b[0;36m__init__\u001b[1;34m(self, f, engine, **kwds)\u001b[0m\n\u001b[0;32m    809\u001b[0m             \u001b[0mself\u001b[0m\u001b[1;33m.\u001b[0m\u001b[0moptions\u001b[0m\u001b[1;33m[\u001b[0m\u001b[1;34m\"has_index_names\"\u001b[0m\u001b[1;33m]\u001b[0m \u001b[1;33m=\u001b[0m \u001b[0mkwds\u001b[0m\u001b[1;33m[\u001b[0m\u001b[1;34m\"has_index_names\"\u001b[0m\u001b[1;33m]\u001b[0m\u001b[1;33m\u001b[0m\u001b[1;33m\u001b[0m\u001b[0m\n\u001b[0;32m    810\u001b[0m \u001b[1;33m\u001b[0m\u001b[0m\n\u001b[1;32m--> 811\u001b[1;33m         \u001b[0mself\u001b[0m\u001b[1;33m.\u001b[0m\u001b[0m_engine\u001b[0m \u001b[1;33m=\u001b[0m \u001b[0mself\u001b[0m\u001b[1;33m.\u001b[0m\u001b[0m_make_engine\u001b[0m\u001b[1;33m(\u001b[0m\u001b[0mself\u001b[0m\u001b[1;33m.\u001b[0m\u001b[0mengine\u001b[0m\u001b[1;33m)\u001b[0m\u001b[1;33m\u001b[0m\u001b[1;33m\u001b[0m\u001b[0m\n\u001b[0m\u001b[0;32m    812\u001b[0m \u001b[1;33m\u001b[0m\u001b[0m\n\u001b[0;32m    813\u001b[0m     \u001b[1;32mdef\u001b[0m \u001b[0mclose\u001b[0m\u001b[1;33m(\u001b[0m\u001b[0mself\u001b[0m\u001b[1;33m)\u001b[0m\u001b[1;33m:\u001b[0m\u001b[1;33m\u001b[0m\u001b[1;33m\u001b[0m\u001b[0m\n",
      "\u001b[1;32mD:\\fcis 3rd 2nd semester\\NLP\\Program\\instaillation1\\lib\\site-packages\\pandas\\io\\parsers\\readers.py\u001b[0m in \u001b[0;36m_make_engine\u001b[1;34m(self, engine)\u001b[0m\n\u001b[0;32m   1038\u001b[0m             )\n\u001b[0;32m   1039\u001b[0m         \u001b[1;31m# error: Too many arguments for \"ParserBase\"\u001b[0m\u001b[1;33m\u001b[0m\u001b[1;33m\u001b[0m\u001b[0m\n\u001b[1;32m-> 1040\u001b[1;33m         \u001b[1;32mreturn\u001b[0m \u001b[0mmapping\u001b[0m\u001b[1;33m[\u001b[0m\u001b[0mengine\u001b[0m\u001b[1;33m]\u001b[0m\u001b[1;33m(\u001b[0m\u001b[0mself\u001b[0m\u001b[1;33m.\u001b[0m\u001b[0mf\u001b[0m\u001b[1;33m,\u001b[0m \u001b[1;33m**\u001b[0m\u001b[0mself\u001b[0m\u001b[1;33m.\u001b[0m\u001b[0moptions\u001b[0m\u001b[1;33m)\u001b[0m  \u001b[1;31m# type: ignore[call-arg]\u001b[0m\u001b[1;33m\u001b[0m\u001b[1;33m\u001b[0m\u001b[0m\n\u001b[0m\u001b[0;32m   1041\u001b[0m \u001b[1;33m\u001b[0m\u001b[0m\n\u001b[0;32m   1042\u001b[0m     \u001b[1;32mdef\u001b[0m \u001b[0m_failover_to_python\u001b[0m\u001b[1;33m(\u001b[0m\u001b[0mself\u001b[0m\u001b[1;33m)\u001b[0m\u001b[1;33m:\u001b[0m\u001b[1;33m\u001b[0m\u001b[1;33m\u001b[0m\u001b[0m\n",
      "\u001b[1;32mD:\\fcis 3rd 2nd semester\\NLP\\Program\\instaillation1\\lib\\site-packages\\pandas\\io\\parsers\\c_parser_wrapper.py\u001b[0m in \u001b[0;36m__init__\u001b[1;34m(self, src, **kwds)\u001b[0m\n\u001b[0;32m     49\u001b[0m \u001b[1;33m\u001b[0m\u001b[0m\n\u001b[0;32m     50\u001b[0m         \u001b[1;31m# open handles\u001b[0m\u001b[1;33m\u001b[0m\u001b[1;33m\u001b[0m\u001b[0m\n\u001b[1;32m---> 51\u001b[1;33m         \u001b[0mself\u001b[0m\u001b[1;33m.\u001b[0m\u001b[0m_open_handles\u001b[0m\u001b[1;33m(\u001b[0m\u001b[0msrc\u001b[0m\u001b[1;33m,\u001b[0m \u001b[0mkwds\u001b[0m\u001b[1;33m)\u001b[0m\u001b[1;33m\u001b[0m\u001b[1;33m\u001b[0m\u001b[0m\n\u001b[0m\u001b[0;32m     52\u001b[0m         \u001b[1;32massert\u001b[0m \u001b[0mself\u001b[0m\u001b[1;33m.\u001b[0m\u001b[0mhandles\u001b[0m \u001b[1;32mis\u001b[0m \u001b[1;32mnot\u001b[0m \u001b[1;32mNone\u001b[0m\u001b[1;33m\u001b[0m\u001b[1;33m\u001b[0m\u001b[0m\n\u001b[0;32m     53\u001b[0m \u001b[1;33m\u001b[0m\u001b[0m\n",
      "\u001b[1;32mD:\\fcis 3rd 2nd semester\\NLP\\Program\\instaillation1\\lib\\site-packages\\pandas\\io\\parsers\\base_parser.py\u001b[0m in \u001b[0;36m_open_handles\u001b[1;34m(self, src, kwds)\u001b[0m\n\u001b[0;32m    220\u001b[0m         \u001b[0mLet\u001b[0m \u001b[0mthe\u001b[0m \u001b[0mreaders\u001b[0m \u001b[0mopen\u001b[0m \u001b[0mIOHandles\u001b[0m \u001b[0mafter\u001b[0m \u001b[0mthey\u001b[0m \u001b[0mare\u001b[0m \u001b[0mdone\u001b[0m \u001b[1;32mwith\u001b[0m \u001b[0mtheir\u001b[0m \u001b[0mpotential\u001b[0m \u001b[0mraises\u001b[0m\u001b[1;33m.\u001b[0m\u001b[1;33m\u001b[0m\u001b[1;33m\u001b[0m\u001b[0m\n\u001b[0;32m    221\u001b[0m         \"\"\"\n\u001b[1;32m--> 222\u001b[1;33m         self.handles = get_handle(\n\u001b[0m\u001b[0;32m    223\u001b[0m             \u001b[0msrc\u001b[0m\u001b[1;33m,\u001b[0m\u001b[1;33m\u001b[0m\u001b[1;33m\u001b[0m\u001b[0m\n\u001b[0;32m    224\u001b[0m             \u001b[1;34m\"r\"\u001b[0m\u001b[1;33m,\u001b[0m\u001b[1;33m\u001b[0m\u001b[1;33m\u001b[0m\u001b[0m\n",
      "\u001b[1;32mD:\\fcis 3rd 2nd semester\\NLP\\Program\\instaillation1\\lib\\site-packages\\pandas\\io\\common.py\u001b[0m in \u001b[0;36mget_handle\u001b[1;34m(path_or_buf, mode, encoding, compression, memory_map, is_text, errors, storage_options)\u001b[0m\n\u001b[0;32m    700\u001b[0m         \u001b[1;32mif\u001b[0m \u001b[0mioargs\u001b[0m\u001b[1;33m.\u001b[0m\u001b[0mencoding\u001b[0m \u001b[1;32mand\u001b[0m \u001b[1;34m\"b\"\u001b[0m \u001b[1;32mnot\u001b[0m \u001b[1;32min\u001b[0m \u001b[0mioargs\u001b[0m\u001b[1;33m.\u001b[0m\u001b[0mmode\u001b[0m\u001b[1;33m:\u001b[0m\u001b[1;33m\u001b[0m\u001b[1;33m\u001b[0m\u001b[0m\n\u001b[0;32m    701\u001b[0m             \u001b[1;31m# Encoding\u001b[0m\u001b[1;33m\u001b[0m\u001b[1;33m\u001b[0m\u001b[0m\n\u001b[1;32m--> 702\u001b[1;33m             handle = open(\n\u001b[0m\u001b[0;32m    703\u001b[0m                 \u001b[0mhandle\u001b[0m\u001b[1;33m,\u001b[0m\u001b[1;33m\u001b[0m\u001b[1;33m\u001b[0m\u001b[0m\n\u001b[0;32m    704\u001b[0m                 \u001b[0mioargs\u001b[0m\u001b[1;33m.\u001b[0m\u001b[0mmode\u001b[0m\u001b[1;33m,\u001b[0m\u001b[1;33m\u001b[0m\u001b[1;33m\u001b[0m\u001b[0m\n",
      "\u001b[1;31mFileNotFoundError\u001b[0m: [Errno 2] No such file or directory: 'player-value-classification-cleaned.csv'"
     ]
    }
   ],
   "source": [
    "classification('player-value-classification-cleaned.csv')"
   ]
  },
  {
   "cell_type": "code",
   "execution_count": null,
   "id": "67d88d99-ed97-49a5-96d6-d7df619be438",
   "metadata": {},
   "outputs": [],
   "source": []
  }
 ],
 "metadata": {
  "kernelspec": {
   "display_name": "Python 3 (ipykernel)",
   "language": "python",
   "name": "python3"
  },
  "language_info": {
   "codemirror_mode": {
    "name": "ipython",
    "version": 3
   },
   "file_extension": ".py",
   "mimetype": "text/x-python",
   "name": "python",
   "nbconvert_exporter": "python",
   "pygments_lexer": "ipython3",
   "version": "3.9.7"
  }
 },
 "nbformat": 4,
 "nbformat_minor": 5
}
