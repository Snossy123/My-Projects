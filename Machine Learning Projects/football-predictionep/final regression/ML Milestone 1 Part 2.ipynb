{
 "cells": [
  {
   "cell_type": "markdown",
   "metadata": {},
   "source": [
    "# Milestone 1 Part 2"
   ]
  },
  {
   "cell_type": "markdown",
   "metadata": {
    "jp-MarkdownHeadingCollapsed": true,
    "tags": []
   },
   "source": [
    "#### `1- Import Important Libraries`"
   ]
  },
  {
   "cell_type": "code",
   "execution_count": 41,
   "metadata": {},
   "outputs": [],
   "source": [
    "import numpy as np; np.random.seed(42)\n",
    "import pandas as pd\n",
    "import seaborn as sns\n",
    "import matplotlib.pyplot as plt\n",
    "import sklearn.metrics\n",
    "from sklearn import linear_model\n",
    "from sklearn import metrics\n",
    "from sklearn.model_selection import train_test_split\n",
    "from sklearn.preprocessing import PolynomialFeatures\n",
    "from sklearn.preprocessing import StandardScaler\n",
    "# data normalization with sklearn\n",
    "from sklearn.preprocessing import MinMaxScaler\n",
    "from sklearn.feature_selection import SelectPercentile # feature Selection\n",
    "from sklearn.feature_selection import chi2, f_classif # feature Selection\n",
    "from sklearn.feature_selection import SelectFromModel # feature Selection\n",
    "from sklearn.impute import SimpleImputer # replace Nan with mean\n",
    "from sklearn.linear_model import LinearRegression\n",
    "# measuring RMSE score\n",
    "from sklearn.metrics import mean_squared_error\n",
    "import pickle\n",
    "import time\n",
    "from sklearn.metrics import r2_score"
   ]
  },
  {
   "cell_type": "markdown",
   "metadata": {
    "incorrectly_encoded_metadata": "jp-MarkdownHeadingCollapsed=true",
    "jp-MarkdownHeadingCollapsed": true,
    "tags": []
   },
   "source": [
    "#### `2- Explore Data`"
   ]
  },
  {
   "cell_type": "code",
   "execution_count": 2,
   "metadata": {},
   "outputs": [],
   "source": [
    "# read file and ignore first column \n",
    "df = pd.read_csv('player-value-prediction-cleaned.csv').iloc[:, 1:] \n",
    "# df.head(5)"
   ]
  },
  {
   "cell_type": "code",
   "execution_count": 3,
   "metadata": {},
   "outputs": [],
   "source": [
    "# data cleaned no nan values\n",
    "# df.info()"
   ]
  },
  {
   "cell_type": "code",
   "execution_count": 4,
   "metadata": {},
   "outputs": [],
   "source": [
    "# df.columns"
   ]
  },
  {
   "cell_type": "code",
   "execution_count": 5,
   "metadata": {},
   "outputs": [],
   "source": [
    "# df.isna().sum()"
   ]
  },
  {
   "cell_type": "code",
   "execution_count": 6,
   "metadata": {},
   "outputs": [],
   "source": [
    "imp_mean = SimpleImputer(missing_values=np.nan, strategy='mean')\n",
    "imp_mean.fit(df)\n",
    "# save the model to disk\n",
    "filename = 'imp_mean.sav'\n",
    "pickle.dump(imp_mean, open(filename, 'wb')) \n",
    "data = imp_mean.transform(df)\n",
    "# print(df)"
   ]
  },
  {
   "cell_type": "code",
   "execution_count": 7,
   "metadata": {},
   "outputs": [
    {
     "name": "stdout",
     "output_type": "stream",
     "text": [
      "False\n",
      "True\n"
     ]
    }
   ],
   "source": [
    "print(np.any(np.isnan(data))) # check nan\n",
    "print(np.all(np.isfinite(data))) # check infinity"
   ]
  },
  {
   "cell_type": "code",
   "execution_count": 8,
   "metadata": {},
   "outputs": [],
   "source": [
    "# Once we have the DataFrame, we can use the replace method to replace the infinity values with NaN values. \n",
    "# Then, we will call the fillna() method to replace all NaN values in the DataFrame.\n",
    "df.replace([np.inf, -np.inf], np.nan, inplace=True)\n",
    "df = df.fillna(0)"
   ]
  },
  {
   "cell_type": "code",
   "execution_count": 9,
   "metadata": {},
   "outputs": [],
   "source": [
    "# df.shape"
   ]
  },
  {
   "cell_type": "code",
   "execution_count": 10,
   "metadata": {},
   "outputs": [],
   "source": [
    "# df.duplicated().sum()"
   ]
  },
  {
   "cell_type": "code",
   "execution_count": 11,
   "metadata": {},
   "outputs": [],
   "source": [
    "# divide data to input & output\n",
    "X = df.iloc[:, :-1]\n",
    "y = df.iloc[:, -1]\n",
    "# Your y is of type object, so sklearn cannot recognize its type. \n",
    "# Add the line y=y.astype('int') right after the line y = train[:, 1].\n",
    "y=y.astype('int')"
   ]
  },
  {
   "cell_type": "code",
   "execution_count": 12,
   "metadata": {},
   "outputs": [],
   "source": [
    "X_No_Feature_Selected = X"
   ]
  },
  {
   "cell_type": "code",
   "execution_count": 13,
   "metadata": {},
   "outputs": [
    {
     "data": {
      "text/plain": [
       "(14136, 78)"
      ]
     },
     "execution_count": 13,
     "metadata": {},
     "output_type": "execute_result"
    }
   ],
   "source": [
    "X.shape"
   ]
  },
  {
   "cell_type": "code",
   "execution_count": 14,
   "metadata": {},
   "outputs": [
    {
     "data": {
      "text/plain": [
       "(14136,)"
      ]
     },
     "execution_count": 14,
     "metadata": {},
     "output_type": "execute_result"
    }
   ],
   "source": [
    "y.shape"
   ]
  },
  {
   "cell_type": "code",
   "execution_count": 15,
   "metadata": {},
   "outputs": [
    {
     "data": {
      "text/plain": [
       "(14136, 1)"
      ]
     },
     "execution_count": 15,
     "metadata": {},
     "output_type": "execute_result"
    }
   ],
   "source": [
    "y = y.to_numpy().reshape(len(y), 1)\n",
    "y.shape"
   ]
  },
  {
   "cell_type": "markdown",
   "metadata": {
    "incorrectly_encoded_metadata": "jp-MarkdownHeadingCollapsed=true",
    "jp-MarkdownHeadingCollapsed": true,
    "tags": []
   },
   "source": [
    "#### `3- Feature Selection`"
   ]
  },
  {
   "cell_type": "code",
   "execution_count": 16,
   "metadata": {},
   "outputs": [],
   "source": [
    "# Just Method for selection with % \n",
    "# Feature_Selection = SelectPercentile(score_func = chi2, percentile = 20)\n",
    "# X = Feature_Selection.fit_transform(X, y)\n",
    "# X.shape"
   ]
  },
  {
   "cell_type": "code",
   "execution_count": 17,
   "metadata": {},
   "outputs": [
    {
     "data": {
      "text/plain": [
       "(14136, 26)"
      ]
     },
     "execution_count": 17,
     "metadata": {},
     "output_type": "execute_result"
    }
   ],
   "source": [
    "# This Method You determine the model you want to select according for it and it return best no feature of it\n",
    "Linear_Reg = LinearRegression()\n",
    "Feature_Selection = SelectFromModel(estimator= Linear_Reg)\n",
    "X = Feature_Selection.fit_transform(X, y)\n",
    "\n",
    "# save the model to disk\n",
    "filename = 'Feature_Selection.sav'\n",
    "pickle.dump(Feature_Selection, open(filename, 'wb')) \n",
    "X.shape"
   ]
  },
  {
   "cell_type": "code",
   "execution_count": 18,
   "metadata": {},
   "outputs": [
    {
     "data": {
      "text/plain": [
       "26"
      ]
     },
     "execution_count": 18,
     "metadata": {},
     "output_type": "execute_result"
    }
   ],
   "source": [
    "len(Feature_Selection.get_feature_names_out())"
   ]
  },
  {
   "cell_type": "code",
   "execution_count": 19,
   "metadata": {},
   "outputs": [],
   "source": [
    "col_name = Feature_Selection.get_feature_names_out()\n",
    "# col_name"
   ]
  },
  {
   "cell_type": "code",
   "execution_count": 20,
   "metadata": {
    "tags": []
   },
   "outputs": [],
   "source": [
    "X = np.array(X)\n",
    "X = pd.DataFrame(X, columns=col_name)\n",
    "# X"
   ]
  },
  {
   "cell_type": "markdown",
   "metadata": {
    "incorrectly_encoded_metadata": "jp-MarkdownHeadingCollapsed=true",
    "jp-MarkdownHeadingCollapsed": true,
    "tags": []
   },
   "source": [
    "#### `4- Split Data To Test & Train`"
   ]
  },
  {
   "cell_type": "code",
   "execution_count": 21,
   "metadata": {},
   "outputs": [],
   "source": [
    "X_train, X_test, y_train, y_test = train_test_split(X,y,test_size=0.2,random_state=27)"
   ]
  },
  {
   "cell_type": "code",
   "execution_count": 22,
   "metadata": {},
   "outputs": [],
   "source": [
    "# without Feature Selection\n",
    "Xs_train, Xs_test, ys_train, ys_test = train_test_split(X_No_Feature_Selected,y,test_size=0.2,random_state=27)"
   ]
  },
  {
   "cell_type": "code",
   "execution_count": 23,
   "metadata": {},
   "outputs": [
    {
     "data": {
      "text/plain": [
       "(11308, 26)"
      ]
     },
     "execution_count": 23,
     "metadata": {},
     "output_type": "execute_result"
    }
   ],
   "source": [
    "X_train.shape"
   ]
  },
  {
   "cell_type": "code",
   "execution_count": 24,
   "metadata": {},
   "outputs": [
    {
     "data": {
      "text/plain": [
       "(2828, 26)"
      ]
     },
     "execution_count": 24,
     "metadata": {},
     "output_type": "execute_result"
    }
   ],
   "source": [
    "X_test.shape"
   ]
  },
  {
   "cell_type": "code",
   "execution_count": 25,
   "metadata": {},
   "outputs": [
    {
     "data": {
      "text/plain": [
       "(11308, 1)"
      ]
     },
     "execution_count": 25,
     "metadata": {},
     "output_type": "execute_result"
    }
   ],
   "source": [
    "y_train.shape"
   ]
  },
  {
   "cell_type": "code",
   "execution_count": 26,
   "metadata": {},
   "outputs": [
    {
     "data": {
      "text/plain": [
       "(2828, 1)"
      ]
     },
     "execution_count": 26,
     "metadata": {},
     "output_type": "execute_result"
    }
   ],
   "source": [
    "y_test.shape"
   ]
  },
  {
   "cell_type": "markdown",
   "metadata": {
    "incorrectly_encoded_metadata": "jp-MarkdownHeadingCollapsed=true",
    "jp-MarkdownHeadingCollapsed": true,
    "tags": []
   },
   "source": [
    "#### `5- Feature Scaling`"
   ]
  },
  {
   "cell_type": "markdown",
   "metadata": {
    "tags": []
   },
   "source": [
    "###### `Centering and scaling happen independently on each feature by computing the relevant statistics on the samples in the training set. Mean and standard deviation are then stored to be used on later data using the transform method.`"
   ]
  },
  {
   "cell_type": "code",
   "execution_count": 27,
   "metadata": {},
   "outputs": [],
   "source": [
    "# Standariztion\n",
    "# Scaler = StandardScaler(copy=True, with_mean=True, with_std=True)\n",
    "# X = Scaler.fit_transform(X)\n",
    "# X\n",
    "scale = StandardScaler().fit(X_train)\n",
    "# save the model to disk\n",
    "filename = 'scale.sav'\n",
    "pickle.dump(scale, open(filename, 'wb')) \n",
    "# transform the training data column\n",
    "X_train_stand = scale.transform(X_train)\n",
    "\n",
    "# transform the testing data column\n",
    "X_test_stand = scale.transform(X_test)"
   ]
  },
  {
   "cell_type": "code",
   "execution_count": 28,
   "metadata": {},
   "outputs": [],
   "source": [
    "# X = np.array(X)\n",
    "# X = pd.DataFrame(X, columns=col_name)\n",
    "# X"
   ]
  },
  {
   "cell_type": "code",
   "execution_count": 29,
   "metadata": {},
   "outputs": [],
   "source": [
    "# Normalization\n",
    "# fit scaler on training data\n",
    "norm = MinMaxScaler().fit(X_train)\n",
    "\n",
    "# save the model to disk\n",
    "filename = 'norm.sav'\n",
    "pickle.dump(norm, open(filename, 'wb')) \n",
    "# transform training data\n",
    "X_train_norm = norm.transform(X_train)\n",
    "\n",
    "# transform testing dataabs\n",
    "X_test_norm = norm.transform(X_test)"
   ]
  },
  {
   "cell_type": "code",
   "execution_count": 30,
   "metadata": {},
   "outputs": [],
   "source": [
    "# polynomial \n",
    "# fit poly on training data\n",
    "poly = PolynomialFeatures(degree=2).fit(X_train)  \n",
    "\n",
    "# save the model to disk\n",
    "filename = 'poly.sav'\n",
    "pickle.dump(poly, open(filename, 'wb')) \n",
    "# transform training data\n",
    "X_train_poly = poly.transform(X_train)\n",
    "\n",
    "# transform testing dataabs\n",
    "X_test_poly = poly.transform(X_test)"
   ]
  },
  {
   "cell_type": "code",
   "execution_count": 31,
   "metadata": {},
   "outputs": [],
   "source": [
    "# Without Feature Scaling\n",
    "# Standariztion\n",
    "# Scaler = StandardScaler(copy=True, with_mean=True, with_std=True)\n",
    "# X = Scaler.fit_transform(X)\n",
    "# X\n",
    "scale_NOSelect = StandardScaler().fit(Xs_train)\n",
    "\n",
    "# save the model to disk\n",
    "filename = 'scale_NOSelect.sav'\n",
    "pickle.dump(scale_NOSelect, open(filename, 'wb')) \n",
    "# transform the training data column\n",
    "Xs_train_stand = scale_NOSelect.transform(Xs_train)\n",
    "\n",
    "# transform the testing data column\n",
    "Xs_test_stand = scale_NOSelect.transform(Xs_test)"
   ]
  },
  {
   "cell_type": "markdown",
   "metadata": {
    "incorrectly_encoded_metadata": "jp-MarkdownHeadingCollapsed=true tags=[] jp-MarkdownHeadingCollapsed=true",
    "tags": []
   },
   "source": [
    "#### `6- Visualize Data`"
   ]
  },
  {
   "cell_type": "code",
   "execution_count": 32,
   "metadata": {},
   "outputs": [
    {
     "data": {
      "text/plain": [
       "<AxesSubplot:xlabel='variable', ylabel='value'>"
      ]
     },
     "execution_count": 32,
     "metadata": {},
     "output_type": "execute_result"
    },
    {
     "data": {
      "image/png": "[encoded data removed]",
      "text/plain": [
       "<Figure size 1152x648 with 1 Axes>"
      ]
     },
     "metadata": {
      "needs_background": "light"
     },
     "output_type": "display_data"
    }
   ],
   "source": [
    "#  Original data\n",
    "# Boxplot of Multiple Columns of a Pandas Dataframe on the Same Figure (seaborn)\n",
    "# Plotting a figure of width 6 and height 3\n",
    "fig = plt.figure(figsize=(16, 9))\n",
    "X_V = pd.DataFrame(data = X_train.iloc[:,:len(col_name)], columns = col_name)\n",
    "\n",
    "sns.boxplot(x=\"variable\", y=\"value\", data=pd.melt(X_V))\n",
    "\n",
    "# plt.show()"
   ]
  },
  {
   "cell_type": "code",
   "execution_count": 33,
   "metadata": {},
   "outputs": [
    {
     "data": {
      "image/png": "[encoded data removed]",
      "text/plain": [
       "<Figure size 1152x648 with 1 Axes>"
      ]
     },
     "metadata": {
      "needs_background": "light"
     },
     "output_type": "display_data"
    }
   ],
   "source": [
    "#  standard data\n",
    "# Boxplot of Multiple Columns of a Pandas Dataframe on the Same Figure (seaborn)\n",
    "# Plotting a figure of width 6 and height 3\n",
    "fig = plt.figure(figsize=(16, 9))\n",
    "X_V = pd.DataFrame(data = X_train_stand[:,:len(col_name)], columns = col_name)\n",
    "\n",
    "sns.boxplot(x=\"variable\", y=\"value\", data=pd.melt(X_V))\n",
    "\n",
    "plt.show()"
   ]
  },
  {
   "cell_type": "code",
   "execution_count": 34,
   "metadata": {},
   "outputs": [
    {
     "data": {
      "image/png": "[encoded data removed]",
      "text/plain": [
       "<Figure size 1152x648 with 1 Axes>"
      ]
     },
     "metadata": {
      "needs_background": "light"
     },
     "output_type": "display_data"
    }
   ],
   "source": [
    "#  normalize data\n",
    "# Boxplot of Multiple Columns of a Pandas Dataframe on the Same Figure (seaborn)\n",
    "# Plotting a figure of width 6 and height 3\n",
    "fig = plt.figure(figsize=(16, 9))\n",
    "X_V = pd.DataFrame(data = X_train_norm[:,:len(col_name)], columns = col_name)\n",
    "\n",
    "sns.boxplot(x=\"variable\", y=\"value\", data=pd.melt(X_V))\n",
    "\n",
    "plt.show()"
   ]
  },
  {
   "cell_type": "code",
   "execution_count": 35,
   "metadata": {},
   "outputs": [
    {
     "data": {
      "image/png": "[encoded data removed]",
      "text/plain": [
       "<Figure size 1152x648 with 1 Axes>"
      ]
     },
     "metadata": {
      "needs_background": "light"
     },
     "output_type": "display_data"
    }
   ],
   "source": [
    "#  poly data\n",
    "# Boxplot of Multiple Columns of a Pandas Dataframe on the Same Figure (seaborn)\n",
    "# Plotting a figure of width 6 and height 3\n",
    "fig = plt.figure(figsize=(16, 9))\n",
    "X_V = pd.DataFrame(data = X_train_poly[:, :len(col_name)], columns = col_name)\n",
    "\n",
    "sns.boxplot(x=\"variable\", y=\"value\", data=pd.melt(X_V))\n",
    "\n",
    "plt.show()"
   ]
  },
  {
   "cell_type": "code",
   "execution_count": 36,
   "metadata": {},
   "outputs": [
    {
     "data": {
      "image/png": "[encoded data removed]",
      "text/plain": [
       "<Figure size 3600x648 with 1 Axes>"
      ]
     },
     "metadata": {
      "needs_background": "light"
     },
     "output_type": "display_data"
    }
   ],
   "source": [
    "#  Without Feature Selection\n",
    "# Boxplot of Multiple Columns of a Pandas Dataframe on the Same Figure (seaborn)\n",
    "# Plotting a figure of width 6 and height 3\n",
    "fig = plt.figure(figsize=(50, 9))\n",
    "X_V = pd.DataFrame(data = Xs_train_stand[:, :50], columns = df.columns[:50])\n",
    "\n",
    "sns.boxplot(x=\"variable\", y=\"value\", data=pd.melt(X_V))\n",
    "\n",
    "plt.show()"
   ]
  },
  {
   "cell_type": "markdown",
   "metadata": {
    "tags": []
   },
   "source": [
    "#### `7- Applying Machine Learning Algorithm Linear Regression`"
   ]
  },
  {
   "cell_type": "code",
   "execution_count": 44,
   "metadata": {},
   "outputs": [
    {
     "name": "stdout",
     "output_type": "stream",
     "text": [
      "Training Time of  Multiple 0.13492131233215332\n",
      "Accuracy of  Multiple 0.34241838781434064\n",
      "Training Time of  Normalized 0.40075135231018066\n",
      "Accuracy of  Normalized 0.34241838781434075\n",
      "Training Time of  Standardized 0.30537915229797363\n",
      "Accuracy of  Standardized 0.34241838781434075\n",
      "Training Time of  Polynomial 2.5141239166259766\n",
      "Accuracy of  Polynomial -11919744866301.096\n",
      "Training Time of  No_Selection 0.17989468574523926\n",
      "Accuracy of  No_Selection 0.42418414667901727\n",
      "                       MSE\n",
      "Multiple      2.052822e+13\n",
      "Normalized    2.052822e+13\n",
      "Standardized  2.052822e+13\n",
      "Polynomial    3.721076e+26\n",
      "No_Selection  1.797568e+13\n"
     ]
    }
   ],
   "source": [
    "# training a Linear Regression model\n",
    "Linear_Reg = LinearRegression()\n",
    "\n",
    "mse = []\n",
    "\n",
    "# raw, normalized, standardized and polynomial training and testing data\n",
    "trainX = [X_train, X_train_norm, X_train_stand, X_train_poly, Xs_train_stand]\n",
    "testX = [X_test, X_test_norm, X_test_stand, X_test_poly, Xs_test_stand]\n",
    "# model fitting and measuring MSE\n",
    "models = ['Multiple','Normalized','Standardized','Polynomial', 'No_Selection']\n",
    "# model fitting and measuring RMSE\n",
    "for i in range(len(trainX)):\n",
    "    start = time.time() \n",
    "    # fit\n",
    "    Linear_Reg.fit(trainX[i],y_train)\n",
    "    stop = time.time()  \n",
    "    \n",
    "    # save the model to disk \n",
    "    pred = Linear_Reg.predict(testX[i])\n",
    "    \n",
    "    # save the model to disk\n",
    "    filename = 'Linear_Reg_'+str(i)+'.sav' \n",
    "    pickle.dump(Linear_Reg, open(filename, 'wb')) \n",
    "    # RMSE\n",
    "    mse.append(mean_squared_error(y_test,pred))\n",
    "    print(\"Training Time of \",models[i],stop-start)\n",
    "    print(\"Accuracy of \" , models[i],r2_score(y_test, pred))\n",
    "    \n",
    "\n",
    "# visualizing the result\n",
    "df_Linear_Reg = pd.DataFrame({'MSE':mse},index=['Multiple','Normalized','Standardized','Polynomial', 'No_Selection'])\n",
    "print(df_Linear_Reg)"
   ]
  },
  {
   "cell_type": "markdown",
   "metadata": {},
   "source": [
    "# Ending of Milestone 1"
   ]
  }
 ],
 "metadata": {
  "jupytext": {
   "formats": "ipynb,py:percent"
  },
  "kernelspec": {
   "display_name": "Python 3",
   "language": "python",
   "name": "python3"
  },
  "language_info": {
   "codemirror_mode": {
    "name": "ipython",
    "version": 3
   },
   "file_extension": ".py",
   "mimetype": "text/x-python",
   "name": "python",
   "nbconvert_exporter": "python",
   "pygments_lexer": "ipython3",
   "version": "3.8.5"
  }
 },
 "nbformat": 4,
 "nbformat_minor": 5
}
