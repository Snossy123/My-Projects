{
 "cells": [
  {
   "cell_type": "code",
   "execution_count": 8,
   "id": "8fa8c2da-b53e-43e0-ae90-e5263aafbe4c",
   "metadata": {},
   "outputs": [],
   "source": [
    "import numpy as np\n",
    "class LR:\n",
    "    def __init__(self, lr = 0.001, n_iters = 100):\n",
    "        self.lr = lr\n",
    "        self.n_iters = n_iters\n",
    "        self.weights = None\n",
    "        self.bias = None\n",
    "    \n",
    "    def predict(self, X):\n",
    "        print(X)\n",
    "        # print(self.weights )\n",
    "        # print( X)\n",
    "        # print( self.bias)\n",
    "        # y_pedict = np.dot(self.weights, X) + self.bias\n",
    "        \n",
    "        # return y_pedict\n",
    "        return 0\n",
    "        \n",
    "    def fit(self, X, y):  \n",
    "        n_samples, n_feature = (X.shape)[0], 1 \n",
    "        self.weights = 0\n",
    "        self.bias = 0 \n",
    "        for epoc in range(self.n_iters):\n",
    "            y_predict = np.dot(self.weights, X) + self.bias \n",
    "            dw = (1/2*n_samples) * np.dot(X.T, (y_predict - y))\n",
    "            db = (1/2*n_samples) * np.sum(y_predict - y)\n",
    "            self.weights -= self.lr * dw\n",
    "            self.bias -= self.lr * db \n",
    "    \n",
    "    \n",
    "    \n",
    "            \n",
    "        \n",
    "        "
   ]
  },
  {
   "cell_type": "code",
   "execution_count": 10,
   "id": "9729c3af-e587-43aa-886b-0b75bd96f8f7",
   "metadata": {},
   "outputs": [
    {
     "name": "stdout",
     "output_type": "stream",
     "text": [
      "5\n"
     ]
    }
   ],
   "source": [
    "d = LR()\n",
    "x = d.predict(5)"
   ]
  },
  {
   "cell_type": "code",
   "execution_count": null,
   "id": "43318f64-6058-4a37-8973-eaf4429b6fde",
   "metadata": {},
   "outputs": [],
   "source": []
  }
 ],
 "metadata": {
  "kernelspec": {
   "display_name": "Python 3 (ipykernel)",
   "language": "python",
   "name": "python3"
  },
  "language_info": {
   "codemirror_mode": {
    "name": "ipython",
    "version": 3
   },
   "file_extension": ".py",
   "mimetype": "text/x-python",
   "name": "python",
   "nbconvert_exporter": "python",
   "pygments_lexer": "ipython3",
   "version": "3.9.2"
  }
 },
 "nbformat": 4,
 "nbformat_minor": 5
}
