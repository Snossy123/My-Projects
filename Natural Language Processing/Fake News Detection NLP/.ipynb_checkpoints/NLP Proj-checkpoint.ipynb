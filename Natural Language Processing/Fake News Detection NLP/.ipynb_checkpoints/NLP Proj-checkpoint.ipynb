{
 "cells": [
  {
   "cell_type": "markdown",
   "id": "c63d40fb-f4c1-422c-a286-d5e38abfe577",
   "metadata": {},
   "source": [
    "# NLP News Fake Project"
   ]
  },
  {
   "cell_type": "markdown",
   "id": "7e77166a-280e-405d-b00b-b5e182b9b29f",
   "metadata": {},
   "source": [
    "#### 1- NLTK Natural Language Tool Kit"
   ]
  },
  {
   "cell_type": "code",
   "execution_count": 45,
   "id": "a783c2d7-6aa6-4427-9fd6-a3ce83355ef1",
   "metadata": {},
   "outputs": [
    {
     "ename": "ModuleNotFoundError",
     "evalue": "No module named 'wordcloud'",
     "output_type": "error",
     "traceback": [
      "\u001b[1;31m---------------------------------------------------------------------------\u001b[0m",
      "\u001b[1;31mModuleNotFoundError\u001b[0m                       Traceback (most recent call last)",
      "\u001b[1;32m~\\AppData\\Local\\Temp/ipykernel_14308/1958208678.py\u001b[0m in \u001b[0;36m<module>\u001b[1;34m\u001b[0m\n\u001b[0;32m      6\u001b[0m \u001b[1;32mimport\u001b[0m \u001b[0mos\u001b[0m\u001b[1;33m\u001b[0m\u001b[1;33m\u001b[0m\u001b[0m\n\u001b[0;32m      7\u001b[0m \u001b[1;32mimport\u001b[0m \u001b[0mmatplotlib\u001b[0m\u001b[1;33m.\u001b[0m\u001b[0mpyplot\u001b[0m \u001b[1;32mas\u001b[0m \u001b[0mplt\u001b[0m\u001b[1;33m\u001b[0m\u001b[1;33m\u001b[0m\u001b[0m\n\u001b[1;32m----> 8\u001b[1;33m \u001b[1;32mfrom\u001b[0m \u001b[0mwordcloud\u001b[0m \u001b[1;32mimport\u001b[0m \u001b[0mWordCloud\u001b[0m\u001b[1;33m,\u001b[0m\u001b[0mSTOPWORDS\u001b[0m\u001b[1;33m\u001b[0m\u001b[1;33m\u001b[0m\u001b[0m\n\u001b[0m",
      "\u001b[1;31mModuleNotFoundError\u001b[0m: No module named 'wordcloud'"
     ]
    }
   ],
   "source": [
    "from nltk.tokenize import word_tokenize\n",
    "from nltk.corpus import stopwords\n",
    "import nltk\n",
    "from sklearn.feature_extraction.text import CountVectorizer\n",
    "nltk.__version__\n",
    "import os\n",
    "import matplotlib.pyplot as plt\n",
    "from wordcloud import WordCloud,STOPWORDS"
   ]
  },
  {
   "cell_type": "code",
   "execution_count": 2,
   "id": "c7f88abf-2833-466b-b447-85c870a95bd7",
   "metadata": {},
   "outputs": [],
   "source": [
    "# nltk.download()"
   ]
  },
  {
   "cell_type": "markdown",
   "id": "89331e77-2194-4ce7-8fcf-5aa2b619384e",
   "metadata": {},
   "source": [
    "#### 2- Spacy"
   ]
  },
  {
   "cell_type": "code",
   "execution_count": 3,
   "id": "e18598f1-e8a1-4e53-afb8-b47044cf92ee",
   "metadata": {},
   "outputs": [],
   "source": [
    "import spacy\n",
    "nlp = spacy.load(\"en_core_web_lg\")"
   ]
  },
  {
   "cell_type": "code",
   "execution_count": null,
   "id": "29607533",
   "metadata": {},
   "outputs": [],
   "source": []
  },
  {
   "cell_type": "markdown",
   "id": "e59f9cc1-56cf-4861-96e2-17fe3fdb6b0a",
   "metadata": {},
   "source": [
    "#### 3- RE Regular Expersion"
   ]
  },
  {
   "cell_type": "code",
   "execution_count": 4,
   "id": "b11bd5e5-804e-4940-9a26-1a5a54f03d82",
   "metadata": {},
   "outputs": [],
   "source": [
    "import re\n",
    "import pandas as pd\n",
    "import numpy as np"
   ]
  },
  {
   "cell_type": "markdown",
   "id": "469654b5-8848-4774-bad7-ca631bb36e96",
   "metadata": {},
   "source": [
    "# EDA"
   ]
  },
  {
   "cell_type": "code",
   "execution_count": 5,
   "id": "bcde0e88-9169-492c-bb24-dc4864f97d77",
   "metadata": {},
   "outputs": [
    {
     "data": {
      "text/html": [
       "<div>\n",
       "<style scoped>\n",
       "    .dataframe tbody tr th:only-of-type {\n",
       "        vertical-align: middle;\n",
       "    }\n",
       "\n",
       "    .dataframe tbody tr th {\n",
       "        vertical-align: top;\n",
       "    }\n",
       "\n",
       "    .dataframe thead th {\n",
       "        text-align: right;\n",
       "    }\n",
       "</style>\n",
       "<table border=\"1\" class=\"dataframe\">\n",
       "  <thead>\n",
       "    <tr style=\"text-align: right;\">\n",
       "      <th></th>\n",
       "      <th>text</th>\n",
       "      <th>label</th>\n",
       "      <th>class</th>\n",
       "    </tr>\n",
       "  </thead>\n",
       "  <tbody>\n",
       "    <tr>\n",
       "      <th>0</th>\n",
       "      <td>aniel greenfiel shillman journal fellourladdom...</td>\n",
       "      <td>FAKE</td>\n",
       "      <td>0</td>\n",
       "    </tr>\n",
       "    <tr>\n",
       "      <th>1</th>\n",
       "      <td>googl pinterest igg linkein reit stumbleupon p...</td>\n",
       "      <td>FAKE</td>\n",
       "      <td>0</td>\n",
       "    </tr>\n",
       "    <tr>\n",
       "      <th>2</th>\n",
       "      <td>u secretari state john f kerri sai monay stop ...</td>\n",
       "      <td>REAL</td>\n",
       "      <td>1</td>\n",
       "    </tr>\n",
       "    <tr>\n",
       "      <th>3</th>\n",
       "      <td>kaye king kayeek novemb 9 2016 lesson tonight ...</td>\n",
       "      <td>FAKE</td>\n",
       "      <td>0</td>\n",
       "    </tr>\n",
       "    <tr>\n",
       "      <th>4</th>\n",
       "      <td>primari ay neurladd frontrunn hillari clinton ...</td>\n",
       "      <td>REAL</td>\n",
       "      <td>1</td>\n",
       "    </tr>\n",
       "  </tbody>\n",
       "</table>\n",
       "</div>"
      ],
      "text/plain": [
       "                                                text label  class\n",
       "0  aniel greenfiel shillman journal fellourladdom...  FAKE      0\n",
       "1  googl pinterest igg linkein reit stumbleupon p...  FAKE      0\n",
       "2  u secretari state john f kerri sai monay stop ...  REAL      1\n",
       "3  kaye king kayeek novemb 9 2016 lesson tonight ...  FAKE      0\n",
       "4  primari ay neurladd frontrunn hillari clinton ...  REAL      1"
      ]
     },
     "execution_count": 5,
     "metadata": {},
     "output_type": "execute_result"
    }
   ],
   "source": [
    "df = pd.read_csv(\"news_cleaned.csv\")\n",
    "df.head()"
   ]
  },
  {
   "cell_type": "code",
   "execution_count": 6,
   "id": "f9da99ef-e285-472d-8e4d-701cdcce7261",
   "metadata": {},
   "outputs": [
    {
     "data": {
      "text/plain": [
       "0    FAKE\n",
       "1    FAKE\n",
       "2    REAL\n",
       "3    FAKE\n",
       "4    REAL\n",
       "Name: label, dtype: object"
      ]
     },
     "execution_count": 6,
     "metadata": {},
     "output_type": "execute_result"
    }
   ],
   "source": [
    "y = df.label\n",
    "y.head()"
   ]
  },
  {
   "cell_type": "markdown",
   "id": "6b97dba0",
   "metadata": {},
   "source": [
    "# Pre-Processing"
   ]
  },
  {
   "cell_type": "code",
   "execution_count": 7,
   "id": "d3533861",
   "metadata": {},
   "outputs": [],
   "source": [
    "# import string\n",
    "# import re\n",
    "# import pandas as pd\n",
    "# import nltk\n",
    "\n",
    "# df = df.rename(columns={'Unnamed: 0': 'news id'})\n",
    "# stopwordsss = nltk.corpus.stopwords.words('english')\n",
    "# def clean_text(text):\n",
    "#     text= \"\".join([word for word in text if word not in string.punctuation ])\n",
    "#     tokens=re.split('\\W+', text)\n",
    "#     text = [word for word in tokens if word not in stopwordsss]\n",
    "#     return text\n",
    "# df['title']=df['title'].apply(lambda m: clean_text(m))\n",
    "# df['text']=df['text'].apply(lambda n: clean_text(n))\n",
    "\n",
    "# ps=nltk.PorterStemmer()\n",
    "# wn=nltk.WordNetLemmatizer()\n",
    "\n",
    "# def stemming(tokenized_text):\n",
    "#     text =[ps.stem(word) for word in tokenized_text]\n",
    "#     return text\n",
    "\n",
    "# df['title']=df['title'].apply(lambda q: stemming(q))\n",
    "# df['text']=df['text'].apply(lambda p: stemming(p))\n",
    "\n",
    "\n",
    "\n",
    "# #nltk.download('wordnet')\n",
    "# def lemmatizing(tokenized_text):\n",
    "#     text =[wn.lemmatize(word) for word in tokenized_text]\n",
    "#     return text\n",
    "\n",
    "# df['title']=df['title'].apply(lambda y: lemmatizing(y))\n",
    "# df['text']=df['text'].apply(lambda c: lemmatizing(c))\n",
    "\n",
    "# df.head()"
   ]
  },
  {
   "cell_type": "code",
   "execution_count": 8,
   "id": "cc49e889-6212-4c89-9a90-137a136346c0",
   "metadata": {},
   "outputs": [],
   "source": [
    "# stop_words = set(stopwords.words('english'))\n"
   ]
  },
  {
   "cell_type": "code",
   "execution_count": 9,
   "id": "4f346415-9550-4fff-8899-5af330da3678",
   "metadata": {},
   "outputs": [],
   "source": [
    "# X = X.apply(lambda x:' '.join([word for word in word_tokenize(x) \n",
    "                              # if word.lower() not in stop_words]))"
   ]
  },
  {
   "cell_type": "code",
   "execution_count": 10,
   "id": "307bd18b-ff35-4a58-ba2e-176aa9dac03e",
   "metadata": {},
   "outputs": [
    {
     "name": "stdout",
     "output_type": "stream",
     "text": [
      "0    aniel greenfiel shillman journal fellourladdom...\n",
      "1    googl pinterest igg linkein reit stumbleupon p...\n",
      "2    u secretari state john f kerri sai monay stop ...\n",
      "3    kaye king kayeek novemb 9 2016 lesson tonight ...\n",
      "4    primari ay neurladd frontrunn hillari clinton ...\n",
      "Name: text, dtype: object\n",
      "CountVectorizer(stop_words='english')\n",
      "['00', '000', '0000', '000000031', '00001400', '00006', '00017b2908ff9fa45188243f49aaeeb2hrcofficecom', '0004', '0005', '0006']\n"
     ]
    },
    {
     "name": "stderr",
     "output_type": "stream",
     "text": [
      "c:\\users\\a\\appdata\\local\\programs\\python\\python39\\lib\\site-packages\\sklearn\\utils\\deprecation.py:87: FutureWarning: Function get_feature_names is deprecated; get_feature_names is deprecated in 1.0 and will be removed in 1.2. Please use get_feature_names_out instead.\n",
      "  warnings.warn(msg, category=FutureWarning)\n"
     ]
    }
   ],
   "source": [
    "# Import the necessary modules\n",
    "import pandas as pd\n",
    "from sklearn.model_selection import train_test_split\n",
    "from sklearn.feature_extraction.text import CountVectorizer\n",
    "df.dropna(inplace= True)\n",
    "\n",
    "# Print the head of df\n",
    "# print(df.head())\n",
    "\n",
    "# put x input\n",
    "X = df.text\n",
    "print(X.head())\n",
    "\n",
    "# Create a series to store the labels: y\n",
    "y = df[\"class\"]\n",
    "\n",
    "# Create training and test sets\n",
    "X_train, X_test, y_train, y_test = train_test_split(df['text'], y, test_size = 0.33, random_state = 53)\n",
    "\n",
    "# Initialize a CountVectorizer object: count_vectorizer\n",
    "count_vectorizer = CountVectorizer(stop_words=\"english\")\n",
    "print(count_vectorizer)\n",
    "\n",
    "# Transform the training data using only the 'text' column values: count_train \n",
    "count_train = count_vectorizer.fit_transform(X_train)\n",
    "\n",
    "\n",
    "# Transform the test data using only the 'text' column values: count_test \n",
    "count_test = count_vectorizer.transform(X_test)\n",
    "\n",
    "print(count_vectorizer.get_feature_names()[:10])\n",
    "# Print the first 10 features of the count_vectorizer\n",
    "# print(count_vectorizer.get_feature_names())"
   ]
  },
  {
   "cell_type": "code",
   "execution_count": 11,
   "id": "644ab1e9-f0e8-44d4-abdc-fbba00190330",
   "metadata": {},
   "outputs": [
    {
     "name": "stdout",
     "output_type": "stream",
     "text": [
      "['00', '000', '0000', '000000031', '00001400', '00006', '00017b2908ff9fa45188243f49aaeeb2hrcofficecom', '0004', '0005', '0006']\n",
      "[[0. 0. 0. ... 0. 0. 0.]\n",
      " [0. 0. 0. ... 0. 0. 0.]\n",
      " [0. 0. 0. ... 0. 0. 0.]\n",
      " [0. 0. 0. ... 0. 0. 0.]\n",
      " [0. 0. 0. ... 0. 0. 0.]]\n"
     ]
    }
   ],
   "source": [
    "# Import TfidfVectorizer\n",
    "from sklearn.feature_extraction.text import TfidfVectorizer\n",
    "\n",
    "# Initialize a TfidfVectorizer object: tfidf_vectorizer\n",
    "tfidf_vectorizer = TfidfVectorizer(stop_words=\"english\", max_df=0.7)\n",
    "\n",
    "# Transform the training data: tfidf_train \n",
    "tfidf_train = tfidf_vectorizer.fit_transform(X_train, y_train)\n",
    "\n",
    "# Transform the test data: tfidf_test \n",
    "tfidf_test = tfidf_vectorizer.transform(X_test)\n",
    "\n",
    "# Print the first 10 features\n",
    "print(tfidf_vectorizer.get_feature_names()[:10]) \n",
    "\n",
    "# Print the first 5 vectors of the tfidf training data\n",
    "print(tfidf_train.A[:5])\n"
   ]
  },
  {
   "cell_type": "code",
   "execution_count": 12,
   "id": "fd847451-9e2a-4a14-a91d-310b79ff7501",
   "metadata": {},
   "outputs": [
    {
     "name": "stdout",
     "output_type": "stream",
     "text": [
      "   00  000  0000  000000031  00001400  00006  \\\n",
      "0   0    0     0          0         0      0   \n",
      "1   0    0     0          0         0      0   \n",
      "2   0    0     0          0         0      0   \n",
      "3   0    0     0          0         0      0   \n",
      "4   0    0     0          0         0      0   \n",
      "\n",
      "   00017b2908ff9fa45188243f49aaeeb2hrcofficecom  0004  0005  0006  ...  \\\n",
      "0                                             0     0     0     0  ...   \n",
      "1                                             0     0     0     0  ...   \n",
      "2                                             0     0     0     0  ...   \n",
      "3                                             0     0     0     0  ...   \n",
      "4                                             0     0     0     0  ...   \n",
      "\n",
      "   zurich  zurita  zurladd  zurladdnmenschlich  zuroff  zuylenwoo  zvai  \\\n",
      "0       0       0        0                   0       0          0     0   \n",
      "1       0       0        0                   0       0          0     0   \n",
      "2       0       0        0                   0       0          0     0   \n",
      "3       0       0        0                   0       0          0     0   \n",
      "4       0       0        0                   0       0          0     0   \n",
      "\n",
      "   zveza  zvi  zyuganov  \n",
      "0      0    0         0  \n",
      "1      0    0         0  \n",
      "2      0    0         0  \n",
      "3      0    0         0  \n",
      "4      0    0         0  \n",
      "\n",
      "[5 rows x 82361 columns]\n",
      "    00  000  0000  000000031  00001400  00006  \\\n",
      "0  0.0  0.0   0.0        0.0       0.0    0.0   \n",
      "1  0.0  0.0   0.0        0.0       0.0    0.0   \n",
      "2  0.0  0.0   0.0        0.0       0.0    0.0   \n",
      "3  0.0  0.0   0.0        0.0       0.0    0.0   \n",
      "4  0.0  0.0   0.0        0.0       0.0    0.0   \n",
      "\n",
      "   00017b2908ff9fa45188243f49aaeeb2hrcofficecom  0004  0005  0006  ...  \\\n",
      "0                                           0.0   0.0   0.0   0.0  ...   \n",
      "1                                           0.0   0.0   0.0   0.0  ...   \n",
      "2                                           0.0   0.0   0.0   0.0  ...   \n",
      "3                                           0.0   0.0   0.0   0.0  ...   \n",
      "4                                           0.0   0.0   0.0   0.0  ...   \n",
      "\n",
      "   zurich  zurita  zurladd  zurladdnmenschlich  zuroff  zuylenwoo  zvai  \\\n",
      "0     0.0     0.0      0.0                 0.0     0.0        0.0   0.0   \n",
      "1     0.0     0.0      0.0                 0.0     0.0        0.0   0.0   \n",
      "2     0.0     0.0      0.0                 0.0     0.0        0.0   0.0   \n",
      "3     0.0     0.0      0.0                 0.0     0.0        0.0   0.0   \n",
      "4     0.0     0.0      0.0                 0.0     0.0        0.0   0.0   \n",
      "\n",
      "   zveza  zvi  zyuganov  \n",
      "0    0.0  0.0       0.0  \n",
      "1    0.0  0.0       0.0  \n",
      "2    0.0  0.0       0.0  \n",
      "3    0.0  0.0       0.0  \n",
      "4    0.0  0.0       0.0  \n",
      "\n",
      "[5 rows x 82360 columns]\n",
      "{'urladd'}\n"
     ]
    }
   ],
   "source": [
    "# Create the CountVectorizer DataFrame: count_df\n",
    "count_df = pd.DataFrame(count_train.A, columns=count_vectorizer.get_feature_names())\n",
    "\n",
    "# Create the TfidfVectorizer DataFrame: tfidf_df\n",
    "tfidf_df = pd.DataFrame(tfidf_train.A, columns=tfidf_vectorizer.get_feature_names())\n",
    "\n",
    "# Print the head of count_df\n",
    "print(count_df.head())\n",
    "\n",
    "# Print the head of tfidf_df\n",
    "print(tfidf_df.head())\n",
    "\n",
    "# Calculate the difference in columns: difference\n",
    "difference = set(count_df.columns) - set(tfidf_df.columns)\n",
    "print(difference)\n",
    "\n",
    "# # Check whether the DataFrames are equal\n",
    "# print(count_df.equals(tfidf_df))\n"
   ]
  },
  {
   "cell_type": "code",
   "execution_count": 13,
   "id": "94158a64",
   "metadata": {},
   "outputs": [
    {
     "ename": "NameError",
     "evalue": "name 'WordCloud' is not defined",
     "output_type": "error",
     "traceback": [
      "\u001b[1;31m---------------------------------------------------------------------------\u001b[0m",
      "\u001b[1;31mNameError\u001b[0m                                 Traceback (most recent call last)",
      "\u001b[1;32m~\\AppData\\Local\\Temp/ipykernel_14308/1165545150.py\u001b[0m in \u001b[0;36m<module>\u001b[1;34m\u001b[0m\n\u001b[0;32m      1\u001b[0m \u001b[0mwords\u001b[0m\u001b[1;33m=\u001b[0m\u001b[1;34m\" \"\u001b[0m\u001b[1;33m.\u001b[0m\u001b[0mjoin\u001b[0m\u001b[1;33m(\u001b[0m\u001b[0mdf\u001b[0m\u001b[1;33m[\u001b[0m\u001b[0mdf\u001b[0m\u001b[1;33m[\u001b[0m\u001b[1;34m'class'\u001b[0m\u001b[1;33m]\u001b[0m \u001b[1;33m==\u001b[0m \u001b[1;36m1\u001b[0m\u001b[1;33m]\u001b[0m\u001b[1;33m.\u001b[0m\u001b[0mtext\u001b[0m\u001b[1;33m)\u001b[0m\u001b[1;33m\u001b[0m\u001b[1;33m\u001b[0m\u001b[0m\n\u001b[0;32m      2\u001b[0m \u001b[0mplt\u001b[0m\u001b[1;33m.\u001b[0m\u001b[0mfigure\u001b[0m\u001b[1;33m(\u001b[0m\u001b[0mfigsize\u001b[0m\u001b[1;33m=\u001b[0m\u001b[1;33m(\u001b[0m\u001b[1;36m14\u001b[0m \u001b[1;33m,\u001b[0m \u001b[1;36m11\u001b[0m\u001b[1;33m)\u001b[0m\u001b[1;33m)\u001b[0m\u001b[1;33m\u001b[0m\u001b[1;33m\u001b[0m\u001b[0m\n\u001b[1;32m----> 3\u001b[1;33m \u001b[0mwordcloud\u001b[0m\u001b[1;33m=\u001b[0m\u001b[0mWordCloud\u001b[0m\u001b[1;33m(\u001b[0m\u001b[0mmax_words\u001b[0m\u001b[1;33m=\u001b[0m\u001b[1;36m5000\u001b[0m\u001b[1;33m,\u001b[0m \u001b[0mwidth\u001b[0m\u001b[1;33m=\u001b[0m\u001b[1;36m1000\u001b[0m\u001b[1;33m,\u001b[0m\u001b[0mheight\u001b[0m\u001b[1;33m=\u001b[0m\u001b[1;36m500\u001b[0m\u001b[1;33m,\u001b[0m\u001b[0mstopwords\u001b[0m\u001b[1;33m=\u001b[0m\u001b[0mSTOPWORDS\u001b[0m\u001b[1;33m,\u001b[0m\u001b[0mmax_font_size\u001b[0m\u001b[1;33m=\u001b[0m\u001b[1;36m400\u001b[0m\u001b[1;33m)\u001b[0m\u001b[1;33m.\u001b[0m\u001b[0mgenerate\u001b[0m\u001b[1;33m(\u001b[0m\u001b[0mwords\u001b[0m\u001b[1;33m)\u001b[0m\u001b[1;33m\u001b[0m\u001b[1;33m\u001b[0m\u001b[0m\n\u001b[0m\u001b[0;32m      4\u001b[0m \u001b[0mplt\u001b[0m\u001b[1;33m.\u001b[0m\u001b[0mimshow\u001b[0m\u001b[1;33m(\u001b[0m\u001b[0mwordcloud\u001b[0m\u001b[1;33m,\u001b[0m\u001b[0minterpolation\u001b[0m\u001b[1;33m=\u001b[0m\u001b[1;34m'bilinear'\u001b[0m\u001b[1;33m)\u001b[0m\u001b[1;33m\u001b[0m\u001b[1;33m\u001b[0m\u001b[0m\n\u001b[0;32m      5\u001b[0m \u001b[0mplt\u001b[0m\u001b[1;33m.\u001b[0m\u001b[0maxis\u001b[0m\u001b[1;33m(\u001b[0m\u001b[1;34m'off'\u001b[0m\u001b[1;33m)\u001b[0m\u001b[1;33m\u001b[0m\u001b[1;33m\u001b[0m\u001b[0m\n",
      "\u001b[1;31mNameError\u001b[0m: name 'WordCloud' is not defined"
     ]
    },
    {
     "data": {
      "text/plain": [
       "<Figure size 1008x792 with 0 Axes>"
      ]
     },
     "metadata": {},
     "output_type": "display_data"
    }
   ],
   "source": [
    "\n",
    "words=\" \".join(df[df['class'] == 1].text)\n",
    "plt.figure(figsize=(14 , 11))\n",
    "wordcloud=WordCloud(max_words=5000, width=1000,height=500,stopwords=STOPWORDS,max_font_size=400).generate(words)\n",
    "plt.imshow(wordcloud,interpolation='bilinear')\n",
    "plt.axis('off')\n",
    "plt.show()\n"
   ]
  },
  {
   "cell_type": "code",
   "execution_count": 14,
   "id": "e2186f80",
   "metadata": {},
   "outputs": [
    {
     "ename": "NameError",
     "evalue": "name 'WordCloud' is not defined",
     "output_type": "error",
     "traceback": [
      "\u001b[1;31m---------------------------------------------------------------------------\u001b[0m",
      "\u001b[1;31mNameError\u001b[0m                                 Traceback (most recent call last)",
      "\u001b[1;32m~\\AppData\\Local\\Temp/ipykernel_14308/1630920267.py\u001b[0m in \u001b[0;36m<module>\u001b[1;34m\u001b[0m\n\u001b[0;32m      1\u001b[0m \u001b[0mwordss\u001b[0m\u001b[1;33m=\u001b[0m\u001b[1;34m\" \"\u001b[0m\u001b[1;33m.\u001b[0m\u001b[0mjoin\u001b[0m\u001b[1;33m(\u001b[0m\u001b[0mdf\u001b[0m\u001b[1;33m[\u001b[0m\u001b[0mdf\u001b[0m\u001b[1;33m[\u001b[0m\u001b[1;34m'class'\u001b[0m\u001b[1;33m]\u001b[0m \u001b[1;33m==\u001b[0m \u001b[1;36m0\u001b[0m\u001b[1;33m]\u001b[0m\u001b[1;33m.\u001b[0m\u001b[0mtext\u001b[0m\u001b[1;33m)\u001b[0m\u001b[1;33m\u001b[0m\u001b[1;33m\u001b[0m\u001b[0m\n\u001b[0;32m      2\u001b[0m \u001b[0mplt\u001b[0m\u001b[1;33m.\u001b[0m\u001b[0mfigure\u001b[0m\u001b[1;33m(\u001b[0m\u001b[0mfigsize\u001b[0m\u001b[1;33m=\u001b[0m\u001b[1;33m(\u001b[0m\u001b[1;36m14\u001b[0m \u001b[1;33m,\u001b[0m \u001b[1;36m11\u001b[0m\u001b[1;33m)\u001b[0m\u001b[1;33m)\u001b[0m\u001b[1;33m\u001b[0m\u001b[1;33m\u001b[0m\u001b[0m\n\u001b[1;32m----> 3\u001b[1;33m \u001b[0mwordcloud\u001b[0m\u001b[1;33m=\u001b[0m\u001b[0mWordCloud\u001b[0m\u001b[1;33m(\u001b[0m\u001b[0mmax_words\u001b[0m\u001b[1;33m=\u001b[0m\u001b[1;36m5000\u001b[0m\u001b[1;33m,\u001b[0m \u001b[0mwidth\u001b[0m\u001b[1;33m=\u001b[0m\u001b[1;36m1000\u001b[0m\u001b[1;33m,\u001b[0m\u001b[0mheight\u001b[0m\u001b[1;33m=\u001b[0m\u001b[1;36m500\u001b[0m\u001b[1;33m,\u001b[0m\u001b[0mstopwords\u001b[0m\u001b[1;33m=\u001b[0m\u001b[0mSTOPWORDS\u001b[0m\u001b[1;33m,\u001b[0m\u001b[0mmax_font_size\u001b[0m\u001b[1;33m=\u001b[0m\u001b[1;36m400\u001b[0m\u001b[1;33m)\u001b[0m\u001b[1;33m.\u001b[0m\u001b[0mgenerate\u001b[0m\u001b[1;33m(\u001b[0m\u001b[0mwordss\u001b[0m\u001b[1;33m)\u001b[0m\u001b[1;33m\u001b[0m\u001b[1;33m\u001b[0m\u001b[0m\n\u001b[0m\u001b[0;32m      4\u001b[0m \u001b[0mplt\u001b[0m\u001b[1;33m.\u001b[0m\u001b[0mimshow\u001b[0m\u001b[1;33m(\u001b[0m\u001b[0mwordcloud\u001b[0m\u001b[1;33m,\u001b[0m\u001b[0minterpolation\u001b[0m\u001b[1;33m=\u001b[0m\u001b[1;34m'bilinear'\u001b[0m\u001b[1;33m)\u001b[0m\u001b[1;33m\u001b[0m\u001b[1;33m\u001b[0m\u001b[0m\n\u001b[0;32m      5\u001b[0m \u001b[0mplt\u001b[0m\u001b[1;33m.\u001b[0m\u001b[0maxis\u001b[0m\u001b[1;33m(\u001b[0m\u001b[1;34m'off'\u001b[0m\u001b[1;33m)\u001b[0m\u001b[1;33m\u001b[0m\u001b[1;33m\u001b[0m\u001b[0m\n",
      "\u001b[1;31mNameError\u001b[0m: name 'WordCloud' is not defined"
     ]
    },
    {
     "data": {
      "text/plain": [
       "<Figure size 1008x792 with 0 Axes>"
      ]
     },
     "metadata": {},
     "output_type": "display_data"
    }
   ],
   "source": [
    "wordss=\" \".join(df[df['class'] == 0].text)\n",
    "plt.figure(figsize=(14 , 11))\n",
    "wordcloud=WordCloud(max_words=5000, width=1000,height=500,stopwords=STOPWORDS,max_font_size=400).generate(wordss)\n",
    "plt.imshow(wordcloud,interpolation='bilinear')\n",
    "plt.axis('off')\n",
    "plt.show()"
   ]
  },
  {
   "cell_type": "code",
   "execution_count": 52,
   "id": "1e5baaa2-1ee3-4eca-8e15-505c0cbfba60",
   "metadata": {},
   "outputs": [],
   "source": [
    "Classification_Models_ACC = {}"
   ]
  },
  {
   "cell_type": "code",
   "execution_count": 78,
   "id": "1ec1ed12-1502-4de8-b313-a753d7a77f7a",
   "metadata": {},
   "outputs": [
    {
     "data": {
      "image/png": "[encoded data removed]",
      "text/plain": [
       "<Figure size 432x288 with 1 Axes>"
      ]
     },
     "metadata": {
      "needs_background": "light"
     },
     "output_type": "display_data"
    },
    {
     "name": "stdout",
     "output_type": "stream",
     "text": [
      "0.896\n",
      "[[921 113]\n",
      " [ 95 871]]\n"
     ]
    },
    {
     "data": {
      "image/png": "[encoded data removed]",
      "text/plain": [
       "<Figure size 432x288 with 2 Axes>"
      ]
     },
     "metadata": {
      "needs_background": "light"
     },
     "output_type": "display_data"
    }
   ],
   "source": [
    "# Import the necessary modules\n",
    "from sklearn import metrics\n",
    "from sklearn.naive_bayes import MultinomialNB\n",
    "import seaborn as sns\n",
    "import matplotlib.pyplot as plt\n",
    "import pandas as pd\n",
    "sns.scatterplot(x='text', y='label', data=count_df,).set(title='Text Vs Count Values')\n",
    "plt.show()\n",
    "# Instantiate a Multinomial Naive Bayes classifier: nb_classifier\n",
    "nb_classifier = MultinomialNB()\n",
    "\n",
    "# Fit the classifier to the training data\n",
    "nb_classifier.fit(count_train, y_train)\n",
    "\n",
    "# Create the predicted tags: pred\n",
    "pred = nb_classifier.predict(count_test)\n",
    "\n",
    "# Calculate the accuracy score: score\n",
    "score = metrics.accuracy_score(y_test, pred)\n",
    "print(score)\n",
    "Classification_Models_ACC['MultinomialNB'] = score * 100\n",
    "\n",
    "# Calculate the confusion matrix: cm\n",
    "cm = metrics.confusion_matrix(y_test, pred)\n",
    "print(cm)\n",
    "\n",
    "# plot confusion matrix\n",
    "plot(cnf_matrix,'MultinomialNB')"
   ]
  },
  {
   "cell_type": "code",
   "execution_count": 63,
   "id": "3c6de779-5257-4be1-b353-fe805e80f46f",
   "metadata": {},
   "outputs": [
    {
     "name": "stdout",
     "output_type": "stream",
     "text": [
      "Alpha:  0.0\n",
      "Accuracy:  88.7 %\n"
     ]
    },
    {
     "name": "stderr",
     "output_type": "stream",
     "text": [
      "c:\\users\\a\\appdata\\local\\programs\\python\\python39\\lib\\site-packages\\sklearn\\naive_bayes.py:591: UserWarning: alpha too small will result in numeric errors, setting alpha = 1.0e-10\n",
      "  warnings.warn(\n",
      "c:\\users\\a\\appdata\\local\\programs\\python\\python39\\lib\\site-packages\\sklearn\\naive_bayes.py:591: UserWarning: alpha too small will result in numeric errors, setting alpha = 1.0e-10\n",
      "  warnings.warn(\n"
     ]
    },
    {
     "name": "stdout",
     "output_type": "stream",
     "text": [
      "\n",
      "Alpha:  0.1\n",
      "Accuracy:  91.35 %\n",
      "\n",
      "Alpha:  0.2\n",
      "Accuracy:  90.2 %\n",
      "\n",
      "Alpha:  0.30000000000000004\n",
      "Accuracy:  89.35 %\n",
      "\n",
      "Alpha:  0.4\n",
      "Accuracy:  88.25 %\n",
      "\n",
      "Alpha:  0.5\n",
      "Accuracy:  87.0 %\n",
      "\n",
      "Alpha:  0.6000000000000001\n",
      "Accuracy:  86.25 %\n",
      "\n",
      "Alpha:  0.7000000000000001\n",
      "Accuracy:  85.05 %\n",
      "\n",
      "Alpha:  0.8\n",
      "Accuracy:  84.55 %\n",
      "\n",
      "Alpha:  0.9\n",
      "Accuracy:  83.6 %\n",
      "\n",
      "Alpha:  1.0\n",
      "Accuracy:  82.55 %\n",
      "\n"
     ]
    },
    {
     "data": {
      "image/png": "[encoded data removed]",
      "text/plain": [
       "<Figure size 432x288 with 1 Axes>"
      ]
     },
     "metadata": {
      "needs_background": "light"
     },
     "output_type": "display_data"
    }
   ],
   "source": [
    "# Create the list of alphas: alphas\n",
    "alphas = list(np.arange(0,1.1,0.1))\n",
    "\n",
    "# Define train_and_predict()\n",
    "def train_and_predict(alpha):\n",
    "    # Instantiate the classifier: nb_classifier\n",
    "    nb_classifier = MultinomialNB(alpha=alpha)\n",
    "    # Fit to the training data\n",
    "    nb_classifier.fit(tfidf_train, y_train)\n",
    "    # Predict the labels: pred\n",
    "    pred = nb_classifier.predict(tfidf_test)\n",
    "    # Compute accuracy: score\n",
    "    score = metrics.accuracy_score(y_test, pred)\n",
    "    return score*100\n",
    "TA=[]\n",
    "# Iterate over the alphas and print the corresponding Accuracy\n",
    "for alpha in alphas:\n",
    "    print('Alpha: ', alpha)\n",
    "    print('Accuracy: ', train_and_predict(alpha),\"%\")\n",
    "    TA.append(train_and_predict(alpha))\n",
    "    print()\n",
    "\n",
    "plt.scatter(alphas,TA)\n",
    "plt.ylabel('Accuracy')\n",
    "plt.xlabel('Alpha for MultinomialNB Model')\n",
    "plt.title('Alpha Values & Output Accuracy') \n",
    "plt.show()"
   ]
  },
  {
   "cell_type": "code",
   "execution_count": 55,
   "id": "6448b93c",
   "metadata": {},
   "outputs": [],
   "source": [
    "from sklearn.linear_model import  LogisticRegression\n",
    "from sklearn.linear_model import SGDClassifier\n",
    "from sklearn import svm\n",
    "from sklearn import metrics"
   ]
  },
  {
   "cell_type": "code",
   "execution_count": 73,
   "id": "38bf9731-0d52-41bc-9237-b70bc2bcd21c",
   "metadata": {},
   "outputs": [],
   "source": [
    "def plot(cnf_matrix, model):\n",
    "    class_names=[0,1] # name  of classes\n",
    "    fig, ax = plt.subplots()\n",
    "    tick_marks = np.arange(len(class_names))\n",
    "    plt.xticks(tick_marks, class_names)\n",
    "    plt.yticks(tick_marks, class_names)\n",
    "    # create heatmap\n",
    "    sns.heatmap(pd.DataFrame(cnf_matrix), annot=True, cmap=\"YlGnBu\" ,fmt='g')\n",
    "    ax.xaxis.set_label_position(\"top\")\n",
    "    plt.tight_layout()\n",
    "    plt.title('Confusion matrix '+str(model), y=1.1)\n",
    "    plt.ylabel('Actual label')\n",
    "    plt.xlabel('Predicted label')"
   ]
  },
  {
   "cell_type": "code",
   "execution_count": 74,
   "id": "af8854c9",
   "metadata": {},
   "outputs": [
    {
     "name": "stdout",
     "output_type": "stream",
     "text": [
      "Accuracy:  89.60000000000001 %\n"
     ]
    },
    {
     "data": {
      "image/png": "[encoded data removed]",
      "text/plain": [
       "<Figure size 432x288 with 2 Axes>"
      ]
     },
     "metadata": {
      "needs_background": "light"
     },
     "output_type": "display_data"
    }
   ],
   "source": [
    "# instantiate the model (using the default parameters)\n",
    "logreg = LogisticRegression()\n",
    "\n",
    "# fit the model with data\n",
    "logreg.fit(tfidf_train, y_train)\n",
    "\n",
    "# Predict the labels: pred \n",
    "y_pred=logreg.predict(tfidf_test)\n",
    "\n",
    "# Compute accuracy: score# import the metrics class\n",
    "cnf_matrix = metrics.confusion_matrix(y_test, y_pred)\n",
    "\n",
    "# plot confusion matrix\n",
    "plot(cnf_matrix,'LogisticRegression')\n",
    "\n",
    "# Compute accuracy: score\n",
    "score = metrics.accuracy_score(y_test, pred)\n",
    "print('Accuracy: ', score*100,\"%\")\n",
    "Classification_Models_ACC['LogisticRegression'] = score * 100"
   ]
  },
  {
   "cell_type": "markdown",
   "id": "3dd58b44-455d-4005-afd1-c4b454e2ee3d",
   "metadata": {},
   "source": [
    "#### `Stochastic Gradient Descent (SGD) :` is a simple yet very efficient approach to fitting linear classifiers and regressors under convex loss functions such as (linear) Support Vector Machines and Logistic Regression."
   ]
  },
  {
   "cell_type": "code",
   "execution_count": 75,
   "id": "3eb0f660",
   "metadata": {},
   "outputs": [
    {
     "name": "stderr",
     "output_type": "stream",
     "text": [
      "c:\\users\\a\\appdata\\local\\programs\\python\\python39\\lib\\site-packages\\sklearn\\linear_model\\_stochastic_gradient.py:705: ConvergenceWarning: Maximum number of iteration reached before convergence. Consider increasing max_iter to improve the fit.\n",
      "  warnings.warn(\n"
     ]
    },
    {
     "name": "stdout",
     "output_type": "stream",
     "text": [
      "Accuracy:  89.60000000000001 %\n"
     ]
    },
    {
     "data": {
      "image/png": "[encoded data removed]",
      "text/plain": [
       "<Figure size 432x288 with 2 Axes>"
      ]
     },
     "metadata": {
      "needs_background": "light"
     },
     "output_type": "display_data"
    }
   ],
   "source": [
    "# instantiate the model (using the default parameters)\n",
    "clf = SGDClassifier(loss=\"hinge\", penalty=\"l2\", max_iter=5)\n",
    "\n",
    "# fit the model with data\n",
    "clf.fit(tfidf_train, y_train)\n",
    "\n",
    "# Predict the labels: pred \n",
    "y_pred=clf.predict(tfidf_test)\n",
    "\n",
    "# Compute accuracy: score# import the metrics class\n",
    "cnf_matrix = metrics.confusion_matrix(y_test, y_pred)\n",
    "# plot confusion matrix\n",
    "plot(cnf_matrix,'SGDClassifier')\n",
    "\n",
    "# Compute accuracy: score\n",
    "score = metrics.accuracy_score(y_test, pred)\n",
    "print('Accuracy: ', score*100,\"%\")\n",
    "Classification_Models_ACC['SGDClassifier'] = score * 100"
   ]
  },
  {
   "cell_type": "markdown",
   "id": "9394c20b-254f-4326-8c5b-e98711f9bbc4",
   "metadata": {},
   "source": [
    "#### `svm Classifier`"
   ]
  },
  {
   "cell_type": "code",
   "execution_count": 76,
   "id": "0d03cdf8",
   "metadata": {},
   "outputs": [
    {
     "name": "stdout",
     "output_type": "stream",
     "text": [
      "Accuracy:  89.60000000000001 %\n"
     ]
    },
    {
     "data": {
      "image/png": "[encoded data removed]",
      "text/plain": [
       "<Figure size 432x288 with 2 Axes>"
      ]
     },
     "metadata": {
      "needs_background": "light"
     },
     "output_type": "display_data"
    }
   ],
   "source": [
    "# instantiate the model (using the default parameters)\n",
    "#Create a svm Classifier\n",
    "clf = svm.SVC(kernel='linear') # Linear Kernel\n",
    "\n",
    "# fit the model with data\n",
    "clf.fit(tfidf_train, y_train)\n",
    "\n",
    "# Predict the labels: pred \n",
    "y_pred=clf.predict(tfidf_test)\n",
    "\n",
    "# Compute accuracy: score# import the metrics class\n",
    "cnf_matrix = metrics.confusion_matrix(y_test, y_pred)\n",
    "# plot confusion matrix\n",
    "plot(cnf_matrix,'SVM')\n",
    "\n",
    "# Compute accuracy: score\n",
    "score = metrics.accuracy_score(y_test, pred)\n",
    "print('Accuracy: ', score*100,\"%\")\n",
    "Classification_Models_ACC['SVM'] = score * 100"
   ]
  },
  {
   "cell_type": "code",
   "execution_count": 77,
   "id": "db565a34-04a9-405e-8ac7-3754a921f1f5",
   "metadata": {},
   "outputs": [
    {
     "data": {
      "image/png": "[encoded data removed]",
      "text/plain": [
       "<Figure size 432x288 with 1 Axes>"
      ]
     },
     "metadata": {
      "needs_background": "light"
     },
     "output_type": "display_data"
    }
   ],
   "source": [
    "plt.bar(Classification_Models_ACC.keys(), Classification_Models_ACC.values(), align='center', alpha=0.5)\n",
    "plt.ylabel('Accuracy')\n",
    "plt.title('Model of Classification') \n",
    "plt.show()"
   ]
  },
  {
   "cell_type": "code",
   "execution_count": null,
   "id": "e2b41d53-c23b-4a15-aa8f-8e8a13c11bfa",
   "metadata": {},
   "outputs": [],
   "source": []
  }
 ],
 "metadata": {
  "kernelspec": {
   "display_name": "Python 3 (ipykernel)",
   "language": "python",
   "name": "python3"
  },
  "language_info": {
   "codemirror_mode": {
    "name": "ipython",
    "version": 3
   },
   "file_extension": ".py",
   "mimetype": "text/x-python",
   "name": "python",
   "nbconvert_exporter": "python",
   "pygments_lexer": "ipython3",
   "version": "3.9.2"
  }
 },
 "nbformat": 4,
 "nbformat_minor": 5
}
