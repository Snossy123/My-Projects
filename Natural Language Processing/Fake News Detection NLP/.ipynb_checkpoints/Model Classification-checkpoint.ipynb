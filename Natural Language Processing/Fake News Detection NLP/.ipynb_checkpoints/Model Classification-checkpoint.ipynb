{
 "cells": [
  {
   "cell_type": "markdown",
   "id": "7c0b26ba-4cf3-484d-ad96-5c6b1230db7e",
   "metadata": {},
   "source": [
    "# NLP Project Fake News\n",
    "#### Department : CS\n",
    "#### Grade : 3\n",
    "## `Data Transformation`\n",
    "Techniques for Text Preprocessing:\n",
    "- Expand Contractions. ...\n",
    "- Lower Case. ...\n",
    "- Remove punctuations. ...\n",
    "- Remove words and digits containing digits. ...\n",
    "- Remove Stopwords. ...\n",
    "- Rephrase text. ...\n",
    "- Stemming and Lemmatization. ...\n",
    "- Remove Extra Spaces."
   ]
  },
  {
   "cell_type": "code",
   "execution_count": null,
   "id": "159405be-6799-42d7-a74c-b7c0583c65a8",
   "metadata": {},
   "outputs": [],
   "source": []
  },
  {
   "cell_type": "markdown",
   "id": "006a731d-8f13-4253-9835-429e0e457be5",
   "metadata": {},
   "source": [
    "#### 1- NLTK Natural Language Tool Kit"
   ]
  },
  {
   "cell_type": "code",
   "execution_count": 2,
   "id": "db7e33ee-3cc5-4058-a436-72cc0640eea0",
   "metadata": {},
   "outputs": [
    {
     "data": {
      "text/plain": [
       "'3.7'"
      ]
     },
     "execution_count": 2,
     "metadata": {},
     "output_type": "execute_result"
    }
   ],
   "source": [
    "from nltk.tokenize import word_tokenize\n",
    "from nltk.corpus import stopwords\n",
    "import nltk\n",
    "from sklearn.feature_extraction.text import CountVectorizer\n",
    "nltk.__version__"
   ]
  }
 ],
 "metadata": {
  "kernelspec": {
   "display_name": "Python 3 (ipykernel)",
   "language": "python",
   "name": "python3"
  },
  "language_info": {
   "codemirror_mode": {
    "name": "ipython",
    "version": 3
   },
   "file_extension": ".py",
   "mimetype": "text/x-python",
   "name": "python",
   "nbconvert_exporter": "python",
   "pygments_lexer": "ipython3",
   "version": "3.9.7"
  }
 },
 "nbformat": 4,
 "nbformat_minor": 5
}
