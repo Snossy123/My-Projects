{
 "cells": [
  {
   "cell_type": "markdown",
   "id": "94adbfd8-5098-4c23-acdc-9dadae142531",
   "metadata": {},
   "source": [
    "# NLP Project Fake News\n",
    "#### Department : CS\n",
    "#### Grade : 3\n",
    "## `Data Preprocessing`\n",
    "Techniques for Text Preprocessing:\n",
    "- Expand Contractions. ...\n",
    "- Lower Case. ...\n",
    "- Remove punctuations. ...\n",
    "- Remove words and digits containing digits. ...\n",
    "- Remove Stopwords. ...\n",
    "- Rephrase text. ...\n",
    "- Stemming and Lemmatization. ...\n",
    "- Remove Extra Spaces."
   ]
  },
  {
   "cell_type": "markdown",
   "id": "9de1889c-2762-4c35-8e1c-e30cad90004b",
   "metadata": {},
   "source": [
    "## `call required Libraries & Load Data`"
   ]
  },
  {
   "cell_type": "code",
   "execution_count": 1,
   "id": "5594a0f8-3b1c-437f-a4a6-f2d9eaf6c687",
   "metadata": {},
   "outputs": [],
   "source": [
    "import numpy as np\n",
    "import pandas as pd\n",
    "import re\n",
    "import string\n",
    "import math\n",
    "data = pd.read_csv('news.csv', usecols=['text','label']) \n",
    "data['class'] = np.where(data['label']=='FAKE',0,1)\n",
    "data.drop_duplicates(inplace=True)"
   ]
  },
  {
   "cell_type": "code",
   "execution_count": 2,
   "id": "e551b8dc-20a1-4fb0-a5d6-c1880bcd7609",
   "metadata": {},
   "outputs": [
    {
     "data": {
      "text/plain": [
       "'Daniel Greenfield, a Shillman Journalism Fellow at the Freedom Center, is a New York writer focusing on radical Islam. \\nIn the final stretch of the election, Hillary Rodham Clinton has gone to war with the FBI. \\nThe word “unprecedented” has been thrown around so often this election that it ought to be retired. But it’s still unprecedented for the nominee of a major political party to go war with the FBI. \\nBut that’s exactly what Hillary and her people have done. Coma patients just waking up now and watching an hour of CNN from their hospital beds would assume that FBI Director James Comey is Hillary’s opponent in this election. \\nThe FBI is under attack by everyone from Obama to CNN. Hillary’s people have circulated a letter attacking Comey. There are currently more media hit pieces lambasting him than targeting Trump. It wouldn’t be too surprising if the Clintons or their allies were to start running attack ads against the FBI. \\nThe FBI’s leadership is being warned that the entire left-wing establishment will form a lynch mob if they continue going after Hillary. And the FBI’s credibility is being attacked by the media and the Democrats to preemptively head off the results of the investigation of the Clinton Foundation and Hillary Clinton. \\nThe covert struggle between FBI agents and Obama’s DOJ people has gone explosively public. \\nThe New York Times has compared Comey to J. Edgar Hoover. Its bizarre headline, “James Comey Role Recalls Hoover’s FBI, Fairly or Not” practically admits up front that it’s spouting nonsense. The Boston Globe has published a column calling for Comey’s resignation. Not to be outdone, Time has an editorial claiming that the scandal is really an attack on all women. \\nJames Carville appeared on MSNBC to remind everyone that he was still alive and insane. He accused Comey of coordinating with House Republicans and the KGB. And you thought the “vast right wing conspiracy” was a stretch. \\nCountless media stories charge Comey with violating procedure. Do you know what’s a procedural violation? Emailing classified information stored on your bathroom server. \\nSenator Harry Reid has sent Comey a letter accusing him of violating the Hatch Act. The Hatch Act is a nice idea that has as much relevance in the age of Obama as the Tenth Amendment. But the cable news spectrum quickly filled with media hacks glancing at the Wikipedia article on the Hatch Act under the table while accusing the FBI director of one of the most awkward conspiracies against Hillary ever. \\nIf James Comey is really out to hurt Hillary, he picked one hell of a strange way to do it. \\nNot too long ago Democrats were breathing a sigh of relief when he gave Hillary Clinton a pass in a prominent public statement. If he really were out to elect Trump by keeping the email scandal going, why did he trash the investigation? Was he on the payroll of House Republicans and the KGB back then and playing it coy or was it a sudden development where Vladimir Putin and Paul Ryan talked him into taking a look at Anthony Weiner’s computer? \\nEither Comey is the most cunning FBI director that ever lived or he’s just awkwardly trying to navigate a political mess that has trapped him between a DOJ leadership whose political futures are tied to Hillary’s victory and his own bureau whose apolitical agents just want to be allowed to do their jobs. \\nThe only truly mysterious thing is why Hillary and her associates decided to go to war with a respected Federal agency. Most Americans like the FBI while Hillary Clinton enjoys a 60% unfavorable rating. \\nAnd it’s an interesting question. \\nHillary’s old strategy was to lie and deny that the FBI even had a criminal investigation underway. Instead her associates insisted that it was a security review. The FBI corrected her and she shrugged it off. But the old breezy denial approach has given way to a savage assault on the FBI. \\nPretending that nothing was wrong was a bad strategy, but it was a better one that picking a fight with the FBI while lunatic Clinton associates try to claim that the FBI is really the KGB. \\nThere are two possible explanations. \\nHillary Clinton might be arrogant enough to lash out at the FBI now that she believes that victory is near. The same kind of hubris that led her to plan her victory fireworks display could lead her to declare a war on the FBI for irritating her during the final miles of her campaign. \\nBut the other explanation is that her people panicked. \\nGoing to war with the FBI is not the behavior of a smart and focused presidential campaign. It’s an act of desperation. When a presidential candidate decides that her only option is to try and destroy the credibility of the FBI, that’s not hubris, it’s fear of what the FBI might be about to reveal about her. \\nDuring the original FBI investigation, Hillary Clinton was confident that she could ride it out. And she had good reason for believing that. But that Hillary Clinton is gone. In her place is a paranoid wreck. Within a short space of time the “positive” Clinton campaign promising to unite the country has been replaced by a desperate and flailing operation that has focused all its energy on fighting the FBI. \\nThere’s only one reason for such bizarre behavior. \\nThe Clinton campaign has decided that an FBI investigation of the latest batch of emails poses a threat to its survival. And so it’s gone all in on fighting the FBI. It’s an unprecedented step born of fear. It’s hard to know whether that fear is justified. But the existence of that fear already tells us a whole lot. \\nClinton loyalists rigged the old investigation. They knew the outcome ahead of time as well as they knew the debate questions. Now suddenly they are no longer in control. And they are afraid. \\nYou can smell the fear. \\nThe FBI has wiretaps from the investigation of the Clinton Foundation. It’s finding new emails all the time. And Clintonworld panicked. The spinmeisters of Clintonworld have claimed that the email scandal is just so much smoke without fire. All that’s here is the appearance of impropriety without any of the substance. But this isn’t how you react to smoke. It’s how you respond to a fire. \\nThe misguided assault on the FBI tells us that Hillary Clinton and her allies are afraid of a revelation bigger than the fundamental illegality of her email setup. The email setup was a preemptive cover up. The Clinton campaign has panicked badly out of the belief, right or wrong, that whatever crime the illegal setup was meant to cover up is at risk of being exposed. \\nThe Clintons have weathered countless scandals over the years. Whatever they are protecting this time around is bigger than the usual corruption, bribery, sexual assaults and abuses of power that have followed them around throughout the years. This is bigger and more damaging than any of the allegations that have already come out. And they don’t want FBI investigators anywhere near it. \\nThe campaign against Comey is pure intimidation. It’s also a warning. Any senior FBI people who value their careers are being warned to stay away. The Democrats are closing ranks around their nominee against the FBI. It’s an ugly and unprecedented scene. It may also be their last stand. \\nHillary Clinton has awkwardly wound her way through numerous scandals in just this election cycle. But she’s never shown fear or desperation before. Now that has changed. Whatever she is afraid of, it lies buried in her emails with Huma Abedin. And it can bring her down like nothing else has.  '"
      ]
     },
     "execution_count": 2,
     "metadata": {},
     "output_type": "execute_result"
    }
   ],
   "source": [
    "data['text'][0]"
   ]
  },
  {
   "cell_type": "markdown",
   "id": "d594ce63-c979-4a09-8773-5ed063da5d46",
   "metadata": {},
   "source": [
    "## 1) `Expand Contractions`"
   ]
  },
  {
   "cell_type": "code",
   "execution_count": 3,
   "id": "258bd515-b1aa-40f7-95b9-0a4c555de922",
   "metadata": {},
   "outputs": [],
   "source": [
    "contractions_dict = {\"ain't\": \"are not\",\"'s\":\" is\",\"aren't\": \"are not\"}\n",
    "# Regular expression for finding contractions\n",
    "contractions_re=re.compile('(%s)' % '|'.join(contractions_dict.keys()))\n",
    "def expand_contractions(text,contractions_dict=contractions_dict):\n",
    "    def replace(match):\n",
    "        return contractions_dict[match.group(0)]\n",
    "    return contractions_re.sub(replace, text)\n",
    "# Expanding Contractions in the News\n",
    "data['text']=data['text'].apply(lambda x:expand_contractions(x))"
   ]
  },
  {
   "cell_type": "markdown",
   "id": "1d80ac1f-1f88-43af-ab7b-6336a3c2f280",
   "metadata": {},
   "source": [
    "## 2) `Lower Case`"
   ]
  },
  {
   "cell_type": "code",
   "execution_count": 4,
   "id": "dfbd0f05-9e64-412e-94cb-62ae48b7b154",
   "metadata": {},
   "outputs": [],
   "source": [
    "data['text'] = data['text'].str.lower()"
   ]
  },
  {
   "cell_type": "markdown",
   "id": "a420d365-67f9-48bc-a07a-a94109aa84d1",
   "metadata": {},
   "source": [
    "## 3) `Remove punctuations`"
   ]
  },
  {
   "cell_type": "code",
   "execution_count": 5,
   "id": "b0feb64f-5c93-4565-8ef3-57c531cbe2e7",
   "metadata": {},
   "outputs": [],
   "source": [
    "# '!\"#$%&'()*+,-./:;<=>?@[\\]^_`{|}~'"
   ]
  },
  {
   "cell_type": "code",
   "execution_count": 6,
   "id": "5357bae0-1473-4048-888a-30260f13c415",
   "metadata": {},
   "outputs": [],
   "source": [
    "#remove punctuation\n",
    "data['text'] = data['text'].apply(lambda x: re.sub('[%s]' % re.escape(string.punctuation), '' , x))"
   ]
  },
  {
   "cell_type": "markdown",
   "id": "56d7cfe8-8f19-4d9c-9b50-2d27b0474040",
   "metadata": {},
   "source": [
    "## 4) `Remove words and digits containing digits`"
   ]
  },
  {
   "cell_type": "code",
   "execution_count": 7,
   "id": "c5019d3d-626d-4b8c-b4e1-b55c7b35e266",
   "metadata": {},
   "outputs": [],
   "source": [
    "#remove words and digits\n",
    "data['text'] = data['text'].apply(lambda x: re.sub('W*dw*','',x))"
   ]
  },
  {
   "cell_type": "code",
   "execution_count": 8,
   "id": "8d0cdcc9-9b64-449c-b0fa-44be3bd97d4e",
   "metadata": {},
   "outputs": [],
   "source": [
    "data['text'] = (\n",
    "                        data['text'].\n",
    "                        str.replace('[^A-Za-z0-9\\s]','', regex=True).\n",
    "                        str.replace('\\n','', regex=True).\n",
    "                        str.replace('\\s+',' ', regex=True) \n",
    "                    ) "
   ]
  },
  {
   "cell_type": "markdown",
   "id": "d22f3864-de17-4452-8efa-56e402849630",
   "metadata": {},
   "source": [
    "## 5) `Remove Stopwords`"
   ]
  },
  {
   "cell_type": "code",
   "execution_count": 9,
   "id": "b03e7dd1-271d-4811-b41a-4de882d5f8fc",
   "metadata": {},
   "outputs": [],
   "source": [
    "#remove stopwords\n",
    "from nltk.corpus import stopwords\n",
    "stop_words = set(stopwords.words('english'))\n",
    "stop_words.add('subject')\n",
    "stop_words.add('http')\n",
    "def remove_stopwords(text):\n",
    "    return \" \".join([word for word in str(text).split() if word not in stop_words])\n",
    "data['text'] = data['text'].apply(lambda x: remove_stopwords(x))"
   ]
  },
  {
   "cell_type": "markdown",
   "id": "6389dee7-0913-4271-953f-31bc7adea661",
   "metadata": {},
   "source": [
    "## 6) `Rephrase text`"
   ]
  },
  {
   "cell_type": "code",
   "execution_count": 10,
   "id": "86b52a72-bdbc-4d3c-9c70-b3ff2942f782",
   "metadata": {},
   "outputs": [],
   "source": [
    "#url\n",
    "data['text'] = data['text'].apply(lambda x:re.sub('(http[s]?S+)|(w+.[A-Za-z]{2,4}S*)', 'urladd', x))"
   ]
  },
  {
   "cell_type": "markdown",
   "id": "ceadf855-659b-4f40-b11b-564685c960b9",
   "metadata": {},
   "source": [
    "## 7) `Stemming and Lemmatization`"
   ]
  },
  {
   "cell_type": "code",
   "execution_count": 11,
   "id": "05c35953-2826-4680-8ff3-da57afc9aaa3",
   "metadata": {},
   "outputs": [],
   "source": [
    "#stemming\n",
    "from nltk.stem import PorterStemmer\n",
    "stemmer = PorterStemmer()\n",
    "def stem_words(text):\n",
    "    return \" \".join([stemmer.stem(word) for word in text.split()])\n",
    "data[\"text\"] = data[\"text\"].apply(lambda x: stem_words(x))"
   ]
  },
  {
   "cell_type": "markdown",
   "id": "cb4102d5-c67f-4982-9086-0277c9b0abe5",
   "metadata": {},
   "source": [
    "#### Lemmatization"
   ]
  },
  {
   "cell_type": "code",
   "execution_count": 12,
   "id": "2bfe263c-bc1f-4f1e-8370-2d50b11a5ac7",
   "metadata": {},
   "outputs": [],
   "source": [
    "from nltk.stem import WordNetLemmatizer\n",
    "lemmatizer = WordNetLemmatizer()\n",
    "def lemmatize_words(text):\n",
    "    return \" \".join([lemmatizer.lemmatize(word) for word in text.split()])\n",
    "data[\"text\"] = data[\"text\"].apply(lambda text: lemmatize_words(text))"
   ]
  },
  {
   "cell_type": "markdown",
   "id": "5ace60db-21bd-4589-b2a7-97a4731cfd67",
   "metadata": {},
   "source": [
    "## 8) `Remove Extra Spaces`"
   ]
  },
  {
   "cell_type": "code",
   "execution_count": 13,
   "id": "63562f32-1d95-40d7-9074-b97013d09ca2",
   "metadata": {},
   "outputs": [],
   "source": [
    "data[\"text\"] = data[\"text\"].apply(lambda text: re.sub(' +', ' ', text))"
   ]
  },
  {
   "cell_type": "code",
   "execution_count": 14,
   "id": "463aa6dd-9306-408d-9f7d-af6cb7c11824",
   "metadata": {},
   "outputs": [
    {
     "data": {
      "text/plain": [
       "'aniel greenfiel shillman journal fellourladdom center neurladd urladd focus raical islam final stretch elect hillari roham clinton gone war fbi wor unpreceent thrown aroun often elect ought retir still unpreceent nomine major polit parti go war fbi that exactli hillari peopl one coma patient urladd urladdng hour cnn hospit be urladd assum fbi irector jame comey hillari oppon elect fbi uner attack everyon obama cnn hillari peopl circul letter attack comey current meia hit piec lambast target trump urladd surpris clinton alli start run attack fbi fbi leaership urladd entir lefturladd establish form lynch mob continu go hillari fbi creibil attack meia emocrat preemptiv hea result investig clinton founat hillari clinton covert struggl fbi agent obama oj peopl gone explos public neurladd time compar comey j egar hoover bizarr healin jame comey role recal hoover fbi fairli practic amit front spout nonsens boston globe publish column call comey resign outon time eitori claim scanal realli attack urladd jame carvil appear msnbc remin everyon still aliv insan accus comey coorin hous republican kgb thought vast right urladd conspiraci stretch countless meia stori charg comey violat proceur knourladd proceur violat email classifi inform store bathroom server senat harri rei sent comey letter accus violat hatch act hatch act nice iea much relev age obama tenth amen cabl news spectrum quickli fill meia hack glanc urladdia articl hatch act uner tabl accus fbi irector one aurladd conspiraci hillari ever jame comey realli hurt hillari pick one hell strang way long ago emocrat breath sigh relief gave hillari clinton pas promin public statement realli elect trump keep email scanal go trash investig payrol hous republican kgb back play coy suen evelop vlaimir putin paul ryan talk take look anthoni urladd comput either comey cun fbi irector ever live he aurladdi tri navig polit mess trapp oj leaership urladd polit futur tie hillari victori bureau urladd apolit agent urladd allow job truli mysteri thing hillari associ eci go war respect feeral agenc american like fbi hillari clinton enjoy 60 unfavor rate interest question hillari ol strategi lie eni fbi even ha crimin investig unerway instea associ insist secur revieurladd correct shrugg ol breezi enial approach given way savag assault fbi preten noth urladd ba strategi better one pick fight fbi lunat clinton associ tri claim fbi realli kgb two possibl explan hillari clinton might arrog enough lash fbi believ victori near kin hubri le plan victori fireurladd isplay coul lea eclar war fbi irrit ure final mile campaign explan peopl panick go war fbi behavior smart focus presienti campaign act esper presienti caniat eci option tri estroy creibil fbi that hubri fear fbi might reveal ure origin fbi investig hillari clinton confient coul rie ha goo reason believ hillari clinton gone place paranoi urladd urladd short space time posit clinton campaign promis unit countri replac esper flail oper focus energi fight fbi there one reason bizarr behavior clinton campaign eci fbi investig latest batch email pose threat surviv gone fight fbi unpreceent step born fear har knourladdh fear justifi exist fear alreay tell u urladd lot clinton loyalist rigg ol investig kneurladdom ahea time urladd kneurladd question suenli longer control afrai smell fear fbi urladdp investig clinton founat fine neurladdl time clintonurladd panick spinmeist clintonurladd claim email scanal much smoke urladdt fire that appear improprieti urladdt substanc isnt react smoke respon fire misgui assault fbi tell u hillari clinton alli afrai revel bigger funament illeg email setup email setup preemptiv cover clinton campaign panick bali belief right urladd urladd crime illeg setup meant cover risk expo clinton urladdr countless scanal year urladd protect time aroun bigger usual corrupt briberi sexual assault abus power follow aroun throughout year bigger amag alleg alreay come ont urladd fbi investig anyurladd near campaign comey pure intimi also urladdg senior fbi peopl valu career urladd stay away emocrat close rank aroun nomine fbi ugli unpreceent scene may also last stan hillari clinton aurladdi urladd way numer scanal elect cycl she never shown fear esper chang urladd afrai lie buri email huma abein bring like noth el'"
      ]
     },
     "execution_count": 14,
     "metadata": {},
     "output_type": "execute_result"
    }
   ],
   "source": [
    "data[\"text\"][0]"
   ]
  },
  {
   "cell_type": "markdown",
   "id": "e7f1c3dd-c578-428c-8a02-7122b954acc0",
   "metadata": {},
   "source": [
    "## 9) `Save Data After Preprocessing`"
   ]
  },
  {
   "cell_type": "code",
   "execution_count": 15,
   "id": "b55e613f-2dfe-47c8-b16f-149d4e49e225",
   "metadata": {},
   "outputs": [],
   "source": [
    "data.to_csv('news_cleaned.csv', index=False)"
   ]
  },
  {
   "cell_type": "markdown",
   "id": "0dfaaf07-bda6-4d87-91aa-1de4bc23463c",
   "metadata": {},
   "source": [
    "## `End text preprocessing`"
   ]
  }
 ],
 "metadata": {
  "kernelspec": {
   "display_name": "Python 3 (ipykernel)",
   "language": "python",
   "name": "python3"
  },
  "language_info": {
   "codemirror_mode": {
    "name": "ipython",
    "version": 3
   },
   "file_extension": ".py",
   "mimetype": "text/x-python",
   "name": "python",
   "nbconvert_exporter": "python",
   "pygments_lexer": "ipython3",
   "version": "3.9.7"
  }
 },
 "nbformat": 4,
 "nbformat_minor": 5
}
